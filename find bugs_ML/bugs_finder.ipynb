{
 "cells": [
  {
   "cell_type": "markdown",
   "metadata": {},
   "source": [
    "# Выявить зависимость числа bugs от других характеристик"
   ]
  },
  {
   "cell_type": "markdown",
   "metadata": {},
   "source": [
    "belbor1@gmail.com"
   ]
  },
  {
   "cell_type": "code",
   "execution_count": 1,
   "metadata": {},
   "outputs": [],
   "source": [
    "import pandas as pd\n",
    "import numpy as np\n",
    "import datetime as dt"
   ]
  },
  {
   "cell_type": "code",
   "execution_count": 2,
   "metadata": {},
   "outputs": [],
   "source": [
    "from matplotlib import pyplot as plt\n",
    "%matplotlib inline\n",
    "import seaborn as sns\n",
    "sns.set()"
   ]
  },
  {
   "cell_type": "code",
   "execution_count": 3,
   "metadata": {},
   "outputs": [],
   "source": [
    "from scipy.stats.stats import pearsonr\n",
    "from sklearn.metrics import mean_squared_error"
   ]
  },
  {
   "cell_type": "markdown",
   "metadata": {},
   "source": [
    "## Анализ данных"
   ]
  },
  {
   "cell_type": "code",
   "execution_count": 4,
   "metadata": {},
   "outputs": [
    {
     "data": {
      "text/html": [
       "<div>\n",
       "<style scoped>\n",
       "    .dataframe tbody tr th:only-of-type {\n",
       "        vertical-align: middle;\n",
       "    }\n",
       "\n",
       "    .dataframe tbody tr th {\n",
       "        vertical-align: top;\n",
       "    }\n",
       "\n",
       "    .dataframe thead th {\n",
       "        text-align: right;\n",
       "    }\n",
       "</style>\n",
       "<table border=\"1\" class=\"dataframe\">\n",
       "  <thead>\n",
       "    <tr style=\"text-align: right;\">\n",
       "      <th></th>\n",
       "      <th>repository_name</th>\n",
       "      <th>commit_hash</th>\n",
       "      <th>commit_date</th>\n",
       "      <th>commit_author</th>\n",
       "      <th>commit_message</th>\n",
       "      <th>bugs</th>\n",
       "    </tr>\n",
       "  </thead>\n",
       "  <tbody>\n",
       "    <tr>\n",
       "      <th>0</th>\n",
       "      <td>mlm</td>\n",
       "      <td>b28abb42</td>\n",
       "      <td>2020-06-12T14:26:12</td>\n",
       "      <td>Victor</td>\n",
       "      <td>объяснения предсказаний с помощью lime</td>\n",
       "      <td>4</td>\n",
       "    </tr>\n",
       "    <tr>\n",
       "      <th>1</th>\n",
       "      <td>mlm</td>\n",
       "      <td>438b5c4d</td>\n",
       "      <td>2020-06-12T11:53:10</td>\n",
       "      <td>Victor</td>\n",
       "      <td>Поставил lime вместо eli5</td>\n",
       "      <td>3</td>\n",
       "    </tr>\n",
       "    <tr>\n",
       "      <th>2</th>\n",
       "      <td>mlm</td>\n",
       "      <td>8e6e4f31</td>\n",
       "      <td>2020-06-11T15:19:03</td>\n",
       "      <td>Victor</td>\n",
       "      <td>Скрипт для создния пакетов обновления</td>\n",
       "      <td>4</td>\n",
       "    </tr>\n",
       "    <tr>\n",
       "      <th>3</th>\n",
       "      <td>mlm</td>\n",
       "      <td>5e0956a6</td>\n",
       "      <td>2020-06-11T10:42:29</td>\n",
       "      <td>Victor</td>\n",
       "      <td>Сортировка весов по убыванию</td>\n",
       "      <td>3</td>\n",
       "    </tr>\n",
       "    <tr>\n",
       "      <th>4</th>\n",
       "      <td>mlm</td>\n",
       "      <td>b9f4b40c</td>\n",
       "      <td>2020-06-11T09:25:19</td>\n",
       "      <td>Victor</td>\n",
       "      <td>не надо конвертировать массив до операции по с...</td>\n",
       "      <td>7</td>\n",
       "    </tr>\n",
       "  </tbody>\n",
       "</table>\n",
       "</div>"
      ],
      "text/plain": [
       "  repository_name commit_hash          commit_date commit_author  \\\n",
       "0             mlm    b28abb42  2020-06-12T14:26:12        Victor   \n",
       "1             mlm    438b5c4d  2020-06-12T11:53:10        Victor   \n",
       "2             mlm    8e6e4f31  2020-06-11T15:19:03        Victor   \n",
       "3             mlm    5e0956a6  2020-06-11T10:42:29        Victor   \n",
       "4             mlm    b9f4b40c  2020-06-11T09:25:19        Victor   \n",
       "\n",
       "                                      commit_message  bugs  \n",
       "0             объяснения предсказаний с помощью lime     4  \n",
       "1                          Поставил lime вместо eli5     3  \n",
       "2              Скрипт для создния пакетов обновления     4  \n",
       "3                       Сортировка весов по убыванию     3  \n",
       "4  не надо конвертировать массив до операции по с...     7  "
      ]
     },
     "execution_count": 4,
     "metadata": {},
     "output_type": "execute_result"
    }
   ],
   "source": [
    "data = pd.read_csv('dataset/train.csv')\n",
    "data.head()"
   ]
  },
  {
   "cell_type": "code",
   "execution_count": 5,
   "metadata": {},
   "outputs": [
    {
     "name": "stdout",
     "output_type": "stream",
     "text": [
      "<class 'pandas.core.frame.DataFrame'>\n",
      "RangeIndex: 319 entries, 0 to 318\n",
      "Data columns (total 6 columns):\n",
      " #   Column           Non-Null Count  Dtype \n",
      "---  ------           --------------  ----- \n",
      " 0   repository_name  319 non-null    object\n",
      " 1   commit_hash      319 non-null    object\n",
      " 2   commit_date      319 non-null    object\n",
      " 3   commit_author    319 non-null    object\n",
      " 4   commit_message   319 non-null    object\n",
      " 5   bugs             319 non-null    int64 \n",
      "dtypes: int64(1), object(5)\n",
      "memory usage: 15.1+ KB\n"
     ]
    }
   ],
   "source": [
    "data.info()"
   ]
  },
  {
   "cell_type": "code",
   "execution_count": 6,
   "metadata": {},
   "outputs": [
    {
     "data": {
      "text/html": [
       "<div>\n",
       "<style scoped>\n",
       "    .dataframe tbody tr th:only-of-type {\n",
       "        vertical-align: middle;\n",
       "    }\n",
       "\n",
       "    .dataframe tbody tr th {\n",
       "        vertical-align: top;\n",
       "    }\n",
       "\n",
       "    .dataframe thead th {\n",
       "        text-align: right;\n",
       "    }\n",
       "</style>\n",
       "<table border=\"1\" class=\"dataframe\">\n",
       "  <thead>\n",
       "    <tr style=\"text-align: right;\">\n",
       "      <th></th>\n",
       "      <th>bugs</th>\n",
       "    </tr>\n",
       "  </thead>\n",
       "  <tbody>\n",
       "    <tr>\n",
       "      <th>count</th>\n",
       "      <td>319.000000</td>\n",
       "    </tr>\n",
       "    <tr>\n",
       "      <th>mean</th>\n",
       "      <td>2.996865</td>\n",
       "    </tr>\n",
       "    <tr>\n",
       "      <th>std</th>\n",
       "      <td>1.855636</td>\n",
       "    </tr>\n",
       "    <tr>\n",
       "      <th>min</th>\n",
       "      <td>0.000000</td>\n",
       "    </tr>\n",
       "    <tr>\n",
       "      <th>25%</th>\n",
       "      <td>2.000000</td>\n",
       "    </tr>\n",
       "    <tr>\n",
       "      <th>50%</th>\n",
       "      <td>3.000000</td>\n",
       "    </tr>\n",
       "    <tr>\n",
       "      <th>75%</th>\n",
       "      <td>4.000000</td>\n",
       "    </tr>\n",
       "    <tr>\n",
       "      <th>max</th>\n",
       "      <td>12.000000</td>\n",
       "    </tr>\n",
       "  </tbody>\n",
       "</table>\n",
       "</div>"
      ],
      "text/plain": [
       "             bugs\n",
       "count  319.000000\n",
       "mean     2.996865\n",
       "std      1.855636\n",
       "min      0.000000\n",
       "25%      2.000000\n",
       "50%      3.000000\n",
       "75%      4.000000\n",
       "max     12.000000"
      ]
     },
     "execution_count": 6,
     "metadata": {},
     "output_type": "execute_result"
    }
   ],
   "source": [
    "data.describe()"
   ]
  },
  {
   "cell_type": "markdown",
   "metadata": {},
   "source": [
    "Мы располагаем небольшим объемом данных. Всего 319 строк х 6 столбцов. Пропуски отсутствуют. Рассмотрим данные каждого столбца в отдельности."
   ]
  },
  {
   "cell_type": "markdown",
   "metadata": {},
   "source": [
    "### Bugs"
   ]
  },
  {
   "cell_type": "code",
   "execution_count": 7,
   "metadata": {},
   "outputs": [
    {
     "name": "stdout",
     "output_type": "stream",
     "text": [
      "2     96\n",
      "3     75\n",
      "4     51\n",
      "1     44\n",
      "5     19\n",
      "6     10\n",
      "0      8\n",
      "7      7\n",
      "8      3\n",
      "12     2\n",
      "9      2\n",
      "11     1\n",
      "10     1\n",
      "Name: bugs, dtype: int64\n"
     ]
    },
    {
     "data": {
      "text/plain": [
       "<AxesSubplot:>"
      ]
     },
     "execution_count": 7,
     "metadata": {},
     "output_type": "execute_result"
    },
    {
     "data": {
      "image/png": "[encoded data removed]",
      "text/plain": [
       "<Figure size 432x288 with 1 Axes>"
      ]
     },
     "metadata": {},
     "output_type": "display_data"
    }
   ],
   "source": [
    "print(data.bugs.value_counts())\n",
    "data.bugs.hist()"
   ]
  },
  {
   "cell_type": "code",
   "execution_count": 8,
   "metadata": {},
   "outputs": [
    {
     "data": {
      "text/plain": [
       "count    319.000000\n",
       "mean       2.996865\n",
       "std        1.855636\n",
       "min        0.000000\n",
       "25%        2.000000\n",
       "50%        3.000000\n",
       "75%        4.000000\n",
       "max       12.000000\n",
       "Name: bugs, dtype: float64"
      ]
     },
     "execution_count": 8,
     "metadata": {},
     "output_type": "execute_result"
    }
   ],
   "source": [
    "data.bugs.describe()"
   ]
  },
  {
   "cell_type": "code",
   "execution_count": 9,
   "metadata": {},
   "outputs": [
    {
     "data": {
      "text/plain": [
       "<AxesSubplot:xlabel='bugs'>"
      ]
     },
     "execution_count": 9,
     "metadata": {},
     "output_type": "execute_result"
    },
    {
     "data": {
      "image/png": "[encoded data removed]",
      "text/plain": [
       "<Figure size 432x288 with 1 Axes>"
      ]
     },
     "metadata": {},
     "output_type": "display_data"
    }
   ],
   "source": [
    "sns.boxplot(data=data, x='bugs', color='r')"
   ]
  },
  {
   "cell_type": "markdown",
   "metadata": {},
   "source": [
    "50% наблюдений имеют значение багов от 2 до 4. Распределение характеристики отражено на гистограмме. Аномальных значений не обнаружено. Значения больше (или равно) 8 относятся к выбросам. Позже устраним их из нашего датасета."
   ]
  },
  {
   "cell_type": "markdown",
   "metadata": {},
   "source": [
    "### Commit_author"
   ]
  },
  {
   "cell_type": "code",
   "execution_count": 10,
   "metadata": {},
   "outputs": [
    {
     "name": "stdout",
     "output_type": "stream",
     "text": [
      "Victor     134\n",
      "Mallory     67\n",
      "Wendy       48\n",
      "Dabe        42\n",
      "Eve          9\n",
      "Trudy        9\n",
      "Carol        4\n",
      "Peggy        2\n",
      "Alice        2\n",
      "Bob          2\n",
      "Name: commit_author, dtype: int64\n"
     ]
    },
    {
     "data": {
      "text/plain": [
       "<AxesSubplot:>"
      ]
     },
     "execution_count": 10,
     "metadata": {},
     "output_type": "execute_result"
    },
    {
     "data": {
      "image/png": "[encoded data removed]",
      "text/plain": [
       "<Figure size 432x288 with 1 Axes>"
      ]
     },
     "metadata": {},
     "output_type": "display_data"
    }
   ],
   "source": [
    "print(data.commit_author.value_counts())\n",
    "data.commit_author.hist()"
   ]
  },
  {
   "cell_type": "code",
   "execution_count": 11,
   "metadata": {},
   "outputs": [
    {
     "data": {
      "text/plain": [
       "<AxesSubplot:xlabel='commit_author', ylabel='bugs'>"
      ]
     },
     "execution_count": 11,
     "metadata": {},
     "output_type": "execute_result"
    },
    {
     "data": {
      "image/png": "[encoded data removed]",
      "text/plain": [
       "<Figure size 432x288 with 1 Axes>"
      ]
     },
     "metadata": {},
     "output_type": "display_data"
    }
   ],
   "source": [
    "sns.boxplot(data=data, x='commit_author', y='bugs')"
   ]
  },
  {
   "cell_type": "markdown",
   "metadata": {},
   "source": [
    "Количество багов различается в зависиомсти от пользователя. Имя пользователя хороший параметр для модели."
   ]
  },
  {
   "cell_type": "markdown",
   "metadata": {},
   "source": [
    "### Repository_name"
   ]
  },
  {
   "cell_type": "code",
   "execution_count": 12,
   "metadata": {},
   "outputs": [
    {
     "name": "stdout",
     "output_type": "stream",
     "text": [
      "conductor    114\n",
      "sensor       102\n",
      "mlm           41\n",
      "standard      29\n",
      "dockers       19\n",
      "agent         14\n",
      "Name: repository_name, dtype: int64\n"
     ]
    },
    {
     "data": {
      "text/plain": [
       "<AxesSubplot:>"
      ]
     },
     "execution_count": 12,
     "metadata": {},
     "output_type": "execute_result"
    },
    {
     "data": {
      "image/png": "[encoded data removed]",
      "text/plain": [
       "<Figure size 432x288 with 1 Axes>"
      ]
     },
     "metadata": {},
     "output_type": "display_data"
    }
   ],
   "source": [
    "print(data.repository_name.value_counts())\n",
    "data.repository_name.hist()"
   ]
  },
  {
   "cell_type": "code",
   "execution_count": 13,
   "metadata": {},
   "outputs": [
    {
     "data": {
      "text/plain": [
       "<AxesSubplot:xlabel='repository_name', ylabel='bugs'>"
      ]
     },
     "execution_count": 13,
     "metadata": {},
     "output_type": "execute_result"
    },
    {
     "data": {
      "image/png": "[encoded data removed]",
      "text/plain": [
       "<Figure size 432x288 with 1 Axes>"
      ]
     },
     "metadata": {},
     "output_type": "display_data"
    }
   ],
   "source": [
    "sns.boxplot(data=data, x='repository_name', y='bugs')"
   ]
  },
  {
   "cell_type": "markdown",
   "metadata": {},
   "source": [
    "В меньшей мере количество багов связано с репозиторием. Однако тоже различается по этому параметру."
   ]
  },
  {
   "cell_type": "markdown",
   "metadata": {},
   "source": [
    "### Commit_hash"
   ]
  },
  {
   "cell_type": "code",
   "execution_count": 14,
   "metadata": {},
   "outputs": [
    {
     "data": {
      "text/plain": [
       "True"
      ]
     },
     "execution_count": 14,
     "metadata": {},
     "output_type": "execute_result"
    }
   ],
   "source": [
    "data.commit_hash.nunique() == len(data)"
   ]
  },
  {
   "cell_type": "markdown",
   "metadata": {},
   "source": [
    "Commit_hash - уникальное значение. Мы можем отказаться от этого параметра"
   ]
  },
  {
   "cell_type": "markdown",
   "metadata": {},
   "source": [
    "### Commit_massage"
   ]
  },
  {
   "cell_type": "code",
   "execution_count": 15,
   "metadata": {},
   "outputs": [
    {
     "data": {
      "text/plain": [
       "309"
      ]
     },
     "execution_count": 15,
     "metadata": {},
     "output_type": "execute_result"
    }
   ],
   "source": [
    "data.commit_message.nunique()"
   ]
  },
  {
   "cell_type": "markdown",
   "metadata": {},
   "source": [
    "С текстом коммита надо поработать. Попробуем учесть эту характеристику через длину коммита. "
   ]
  },
  {
   "cell_type": "markdown",
   "metadata": {},
   "source": [
    "## Подготовка данных для расчетов"
   ]
  },
  {
   "cell_type": "code",
   "execution_count": 16,
   "metadata": {},
   "outputs": [],
   "source": [
    "# убираем выбросы по количеству багов\n",
    "data = data[data['bugs'] < 8]"
   ]
  },
  {
   "cell_type": "code",
   "execution_count": 17,
   "metadata": {},
   "outputs": [],
   "source": [
    "X_train = data.iloc[:, 0:5].copy()\n",
    "Y_train = data.iloc[:, 5].copy()"
   ]
  },
  {
   "cell_type": "code",
   "execution_count": 18,
   "metadata": {},
   "outputs": [
    {
     "data": {
      "text/html": [
       "<div>\n",
       "<style scoped>\n",
       "    .dataframe tbody tr th:only-of-type {\n",
       "        vertical-align: middle;\n",
       "    }\n",
       "\n",
       "    .dataframe tbody tr th {\n",
       "        vertical-align: top;\n",
       "    }\n",
       "\n",
       "    .dataframe thead th {\n",
       "        text-align: right;\n",
       "    }\n",
       "</style>\n",
       "<table border=\"1\" class=\"dataframe\">\n",
       "  <thead>\n",
       "    <tr style=\"text-align: right;\">\n",
       "      <th></th>\n",
       "      <th>repository_name</th>\n",
       "      <th>commit_hash</th>\n",
       "      <th>commit_date</th>\n",
       "      <th>commit_author</th>\n",
       "      <th>commit_message</th>\n",
       "    </tr>\n",
       "  </thead>\n",
       "  <tbody>\n",
       "    <tr>\n",
       "      <th>0</th>\n",
       "      <td>mlm</td>\n",
       "      <td>b28abb42</td>\n",
       "      <td>2020-06-12T14:26:12</td>\n",
       "      <td>Victor</td>\n",
       "      <td>объяснения предсказаний с помощью lime</td>\n",
       "    </tr>\n",
       "    <tr>\n",
       "      <th>1</th>\n",
       "      <td>mlm</td>\n",
       "      <td>438b5c4d</td>\n",
       "      <td>2020-06-12T11:53:10</td>\n",
       "      <td>Victor</td>\n",
       "      <td>Поставил lime вместо eli5</td>\n",
       "    </tr>\n",
       "    <tr>\n",
       "      <th>2</th>\n",
       "      <td>mlm</td>\n",
       "      <td>8e6e4f31</td>\n",
       "      <td>2020-06-11T15:19:03</td>\n",
       "      <td>Victor</td>\n",
       "      <td>Скрипт для создния пакетов обновления</td>\n",
       "    </tr>\n",
       "    <tr>\n",
       "      <th>3</th>\n",
       "      <td>mlm</td>\n",
       "      <td>5e0956a6</td>\n",
       "      <td>2020-06-11T10:42:29</td>\n",
       "      <td>Victor</td>\n",
       "      <td>Сортировка весов по убыванию</td>\n",
       "    </tr>\n",
       "    <tr>\n",
       "      <th>4</th>\n",
       "      <td>mlm</td>\n",
       "      <td>b9f4b40c</td>\n",
       "      <td>2020-06-11T09:25:19</td>\n",
       "      <td>Victor</td>\n",
       "      <td>не надо конвертировать массив до операции по с...</td>\n",
       "    </tr>\n",
       "  </tbody>\n",
       "</table>\n",
       "</div>"
      ],
      "text/plain": [
       "  repository_name commit_hash          commit_date commit_author  \\\n",
       "0             mlm    b28abb42  2020-06-12T14:26:12        Victor   \n",
       "1             mlm    438b5c4d  2020-06-12T11:53:10        Victor   \n",
       "2             mlm    8e6e4f31  2020-06-11T15:19:03        Victor   \n",
       "3             mlm    5e0956a6  2020-06-11T10:42:29        Victor   \n",
       "4             mlm    b9f4b40c  2020-06-11T09:25:19        Victor   \n",
       "\n",
       "                                      commit_message  \n",
       "0             объяснения предсказаний с помощью lime  \n",
       "1                          Поставил lime вместо eli5  \n",
       "2              Скрипт для создния пакетов обновления  \n",
       "3                       Сортировка весов по убыванию  \n",
       "4  не надо конвертировать массив до операции по с...  "
      ]
     },
     "execution_count": 18,
     "metadata": {},
     "output_type": "execute_result"
    }
   ],
   "source": [
    "X_train.head()"
   ]
  },
  {
   "cell_type": "code",
   "execution_count": 19,
   "metadata": {},
   "outputs": [
    {
     "data": {
      "text/plain": [
       "0    4\n",
       "1    3\n",
       "2    4\n",
       "3    3\n",
       "4    7\n",
       "Name: bugs, dtype: int64"
      ]
     },
     "execution_count": 19,
     "metadata": {},
     "output_type": "execute_result"
    }
   ],
   "source": [
    "Y_train.head()"
   ]
  },
  {
   "cell_type": "markdown",
   "metadata": {},
   "source": [
    "### Commit_author and repository_name"
   ]
  },
  {
   "cell_type": "code",
   "execution_count": 20,
   "metadata": {},
   "outputs": [
    {
     "data": {
      "text/html": [
       "<div>\n",
       "<style scoped>\n",
       "    .dataframe tbody tr th:only-of-type {\n",
       "        vertical-align: middle;\n",
       "    }\n",
       "\n",
       "    .dataframe tbody tr th {\n",
       "        vertical-align: top;\n",
       "    }\n",
       "\n",
       "    .dataframe thead th {\n",
       "        text-align: right;\n",
       "    }\n",
       "</style>\n",
       "<table border=\"1\" class=\"dataframe\">\n",
       "  <thead>\n",
       "    <tr style=\"text-align: right;\">\n",
       "      <th></th>\n",
       "      <th>commit_author_Alice</th>\n",
       "      <th>commit_author_Bob</th>\n",
       "      <th>commit_author_Carol</th>\n",
       "      <th>commit_author_Dabe</th>\n",
       "      <th>commit_author_Eve</th>\n",
       "      <th>commit_author_Mallory</th>\n",
       "      <th>commit_author_Peggy</th>\n",
       "      <th>commit_author_Trudy</th>\n",
       "      <th>commit_author_Victor</th>\n",
       "      <th>commit_author_Wendy</th>\n",
       "      <th>repository_name_agent</th>\n",
       "      <th>repository_name_conductor</th>\n",
       "      <th>repository_name_dockers</th>\n",
       "      <th>repository_name_mlm</th>\n",
       "      <th>repository_name_sensor</th>\n",
       "      <th>repository_name_standard</th>\n",
       "    </tr>\n",
       "  </thead>\n",
       "  <tbody>\n",
       "    <tr>\n",
       "      <th>0</th>\n",
       "      <td>0</td>\n",
       "      <td>0</td>\n",
       "      <td>0</td>\n",
       "      <td>0</td>\n",
       "      <td>0</td>\n",
       "      <td>0</td>\n",
       "      <td>0</td>\n",
       "      <td>0</td>\n",
       "      <td>1</td>\n",
       "      <td>0</td>\n",
       "      <td>0</td>\n",
       "      <td>0</td>\n",
       "      <td>0</td>\n",
       "      <td>1</td>\n",
       "      <td>0</td>\n",
       "      <td>0</td>\n",
       "    </tr>\n",
       "    <tr>\n",
       "      <th>1</th>\n",
       "      <td>0</td>\n",
       "      <td>0</td>\n",
       "      <td>0</td>\n",
       "      <td>0</td>\n",
       "      <td>0</td>\n",
       "      <td>0</td>\n",
       "      <td>0</td>\n",
       "      <td>0</td>\n",
       "      <td>1</td>\n",
       "      <td>0</td>\n",
       "      <td>0</td>\n",
       "      <td>0</td>\n",
       "      <td>0</td>\n",
       "      <td>1</td>\n",
       "      <td>0</td>\n",
       "      <td>0</td>\n",
       "    </tr>\n",
       "    <tr>\n",
       "      <th>2</th>\n",
       "      <td>0</td>\n",
       "      <td>0</td>\n",
       "      <td>0</td>\n",
       "      <td>0</td>\n",
       "      <td>0</td>\n",
       "      <td>0</td>\n",
       "      <td>0</td>\n",
       "      <td>0</td>\n",
       "      <td>1</td>\n",
       "      <td>0</td>\n",
       "      <td>0</td>\n",
       "      <td>0</td>\n",
       "      <td>0</td>\n",
       "      <td>1</td>\n",
       "      <td>0</td>\n",
       "      <td>0</td>\n",
       "    </tr>\n",
       "    <tr>\n",
       "      <th>3</th>\n",
       "      <td>0</td>\n",
       "      <td>0</td>\n",
       "      <td>0</td>\n",
       "      <td>0</td>\n",
       "      <td>0</td>\n",
       "      <td>0</td>\n",
       "      <td>0</td>\n",
       "      <td>0</td>\n",
       "      <td>1</td>\n",
       "      <td>0</td>\n",
       "      <td>0</td>\n",
       "      <td>0</td>\n",
       "      <td>0</td>\n",
       "      <td>1</td>\n",
       "      <td>0</td>\n",
       "      <td>0</td>\n",
       "    </tr>\n",
       "    <tr>\n",
       "      <th>4</th>\n",
       "      <td>0</td>\n",
       "      <td>0</td>\n",
       "      <td>0</td>\n",
       "      <td>0</td>\n",
       "      <td>0</td>\n",
       "      <td>0</td>\n",
       "      <td>0</td>\n",
       "      <td>0</td>\n",
       "      <td>1</td>\n",
       "      <td>0</td>\n",
       "      <td>0</td>\n",
       "      <td>0</td>\n",
       "      <td>0</td>\n",
       "      <td>1</td>\n",
       "      <td>0</td>\n",
       "      <td>0</td>\n",
       "    </tr>\n",
       "    <tr>\n",
       "      <th>...</th>\n",
       "      <td>...</td>\n",
       "      <td>...</td>\n",
       "      <td>...</td>\n",
       "      <td>...</td>\n",
       "      <td>...</td>\n",
       "      <td>...</td>\n",
       "      <td>...</td>\n",
       "      <td>...</td>\n",
       "      <td>...</td>\n",
       "      <td>...</td>\n",
       "      <td>...</td>\n",
       "      <td>...</td>\n",
       "      <td>...</td>\n",
       "      <td>...</td>\n",
       "      <td>...</td>\n",
       "      <td>...</td>\n",
       "    </tr>\n",
       "    <tr>\n",
       "      <th>314</th>\n",
       "      <td>0</td>\n",
       "      <td>0</td>\n",
       "      <td>0</td>\n",
       "      <td>1</td>\n",
       "      <td>0</td>\n",
       "      <td>0</td>\n",
       "      <td>0</td>\n",
       "      <td>0</td>\n",
       "      <td>0</td>\n",
       "      <td>0</td>\n",
       "      <td>0</td>\n",
       "      <td>0</td>\n",
       "      <td>0</td>\n",
       "      <td>0</td>\n",
       "      <td>1</td>\n",
       "      <td>0</td>\n",
       "    </tr>\n",
       "    <tr>\n",
       "      <th>315</th>\n",
       "      <td>0</td>\n",
       "      <td>0</td>\n",
       "      <td>0</td>\n",
       "      <td>1</td>\n",
       "      <td>0</td>\n",
       "      <td>0</td>\n",
       "      <td>0</td>\n",
       "      <td>0</td>\n",
       "      <td>0</td>\n",
       "      <td>0</td>\n",
       "      <td>0</td>\n",
       "      <td>0</td>\n",
       "      <td>0</td>\n",
       "      <td>0</td>\n",
       "      <td>1</td>\n",
       "      <td>0</td>\n",
       "    </tr>\n",
       "    <tr>\n",
       "      <th>316</th>\n",
       "      <td>0</td>\n",
       "      <td>0</td>\n",
       "      <td>0</td>\n",
       "      <td>1</td>\n",
       "      <td>0</td>\n",
       "      <td>0</td>\n",
       "      <td>0</td>\n",
       "      <td>0</td>\n",
       "      <td>0</td>\n",
       "      <td>0</td>\n",
       "      <td>0</td>\n",
       "      <td>0</td>\n",
       "      <td>0</td>\n",
       "      <td>0</td>\n",
       "      <td>1</td>\n",
       "      <td>0</td>\n",
       "    </tr>\n",
       "    <tr>\n",
       "      <th>317</th>\n",
       "      <td>0</td>\n",
       "      <td>0</td>\n",
       "      <td>0</td>\n",
       "      <td>1</td>\n",
       "      <td>0</td>\n",
       "      <td>0</td>\n",
       "      <td>0</td>\n",
       "      <td>0</td>\n",
       "      <td>0</td>\n",
       "      <td>0</td>\n",
       "      <td>0</td>\n",
       "      <td>0</td>\n",
       "      <td>0</td>\n",
       "      <td>0</td>\n",
       "      <td>1</td>\n",
       "      <td>0</td>\n",
       "    </tr>\n",
       "    <tr>\n",
       "      <th>318</th>\n",
       "      <td>0</td>\n",
       "      <td>0</td>\n",
       "      <td>0</td>\n",
       "      <td>1</td>\n",
       "      <td>0</td>\n",
       "      <td>0</td>\n",
       "      <td>0</td>\n",
       "      <td>0</td>\n",
       "      <td>0</td>\n",
       "      <td>0</td>\n",
       "      <td>0</td>\n",
       "      <td>0</td>\n",
       "      <td>0</td>\n",
       "      <td>0</td>\n",
       "      <td>1</td>\n",
       "      <td>0</td>\n",
       "    </tr>\n",
       "  </tbody>\n",
       "</table>\n",
       "<p>310 rows × 16 columns</p>\n",
       "</div>"
      ],
      "text/plain": [
       "     commit_author_Alice  commit_author_Bob  commit_author_Carol  \\\n",
       "0                      0                  0                    0   \n",
       "1                      0                  0                    0   \n",
       "2                      0                  0                    0   \n",
       "3                      0                  0                    0   \n",
       "4                      0                  0                    0   \n",
       "..                   ...                ...                  ...   \n",
       "314                    0                  0                    0   \n",
       "315                    0                  0                    0   \n",
       "316                    0                  0                    0   \n",
       "317                    0                  0                    0   \n",
       "318                    0                  0                    0   \n",
       "\n",
       "     commit_author_Dabe  commit_author_Eve  commit_author_Mallory  \\\n",
       "0                     0                  0                      0   \n",
       "1                     0                  0                      0   \n",
       "2                     0                  0                      0   \n",
       "3                     0                  0                      0   \n",
       "4                     0                  0                      0   \n",
       "..                  ...                ...                    ...   \n",
       "314                   1                  0                      0   \n",
       "315                   1                  0                      0   \n",
       "316                   1                  0                      0   \n",
       "317                   1                  0                      0   \n",
       "318                   1                  0                      0   \n",
       "\n",
       "     commit_author_Peggy  commit_author_Trudy  commit_author_Victor  \\\n",
       "0                      0                    0                     1   \n",
       "1                      0                    0                     1   \n",
       "2                      0                    0                     1   \n",
       "3                      0                    0                     1   \n",
       "4                      0                    0                     1   \n",
       "..                   ...                  ...                   ...   \n",
       "314                    0                    0                     0   \n",
       "315                    0                    0                     0   \n",
       "316                    0                    0                     0   \n",
       "317                    0                    0                     0   \n",
       "318                    0                    0                     0   \n",
       "\n",
       "     commit_author_Wendy  repository_name_agent  repository_name_conductor  \\\n",
       "0                      0                      0                          0   \n",
       "1                      0                      0                          0   \n",
       "2                      0                      0                          0   \n",
       "3                      0                      0                          0   \n",
       "4                      0                      0                          0   \n",
       "..                   ...                    ...                        ...   \n",
       "314                    0                      0                          0   \n",
       "315                    0                      0                          0   \n",
       "316                    0                      0                          0   \n",
       "317                    0                      0                          0   \n",
       "318                    0                      0                          0   \n",
       "\n",
       "     repository_name_dockers  repository_name_mlm  repository_name_sensor  \\\n",
       "0                          0                    1                       0   \n",
       "1                          0                    1                       0   \n",
       "2                          0                    1                       0   \n",
       "3                          0                    1                       0   \n",
       "4                          0                    1                       0   \n",
       "..                       ...                  ...                     ...   \n",
       "314                        0                    0                       1   \n",
       "315                        0                    0                       1   \n",
       "316                        0                    0                       1   \n",
       "317                        0                    0                       1   \n",
       "318                        0                    0                       1   \n",
       "\n",
       "     repository_name_standard  \n",
       "0                           0  \n",
       "1                           0  \n",
       "2                           0  \n",
       "3                           0  \n",
       "4                           0  \n",
       "..                        ...  \n",
       "314                         0  \n",
       "315                         0  \n",
       "316                         0  \n",
       "317                         0  \n",
       "318                         0  \n",
       "\n",
       "[310 rows x 16 columns]"
      ]
     },
     "execution_count": 20,
     "metadata": {},
     "output_type": "execute_result"
    }
   ],
   "source": [
    "# Закодируем имена авторов\n",
    "categorical_subs = pd.get_dummies(X_train[['commit_author', 'repository_name']])\n",
    "categorical_subs"
   ]
  },
  {
   "cell_type": "code",
   "execution_count": 21,
   "metadata": {},
   "outputs": [],
   "source": [
    "X_train = X_train.merge(categorical_subs, \n",
    "                        how='inner', left_index=True, \n",
    "                        right_index=True).drop(columns=['commit_author', \n",
    "                                                        'repository_name'], \n",
    "                                               axis=1)"
   ]
  },
  {
   "cell_type": "markdown",
   "metadata": {},
   "source": [
    "### Data"
   ]
  },
  {
   "cell_type": "code",
   "execution_count": 22,
   "metadata": {},
   "outputs": [
    {
     "data": {
      "text/plain": [
       "<AxesSubplot:>"
      ]
     },
     "execution_count": 22,
     "metadata": {},
     "output_type": "execute_result"
    },
    {
     "data": {
      "image/png": "[encoded data removed]",
      "text/plain": [
       "<Figure size 432x288 with 1 Axes>"
      ]
     },
     "metadata": {},
     "output_type": "display_data"
    }
   ],
   "source": [
    "# Преобразуем дату из строки в datetime\n",
    "X_train.commit_date = pd.to_datetime(X_train.commit_date)\n",
    "X_train.commit_date.hist()"
   ]
  },
  {
   "cell_type": "code",
   "execution_count": 23,
   "metadata": {},
   "outputs": [],
   "source": [
    "# Обработаем даты: разобъем и преобразуем\n",
    "X_train['year'] = X_train.commit_date.apply(lambda x: x.year)\n",
    "X_train['month'] = X_train.commit_date.apply(lambda x: x.month)\n",
    "X_train['day'] = X_train.commit_date.apply(lambda x: x.day)\n",
    "X_train['hour'] = X_train.commit_date.apply(lambda x: x.hour \n",
    "                                            + x.minute/60).round(2)\n",
    "X_train['weekday'] = X_train.commit_date.apply(lambda x: x.weekday())"
   ]
  },
  {
   "cell_type": "code",
   "execution_count": 24,
   "metadata": {},
   "outputs": [],
   "source": [
    "X_train = X_train.drop('commit_date', axis=1)"
   ]
  },
  {
   "cell_type": "code",
   "execution_count": 25,
   "metadata": {},
   "outputs": [
    {
     "data": {
      "text/html": [
       "<div>\n",
       "<style scoped>\n",
       "    .dataframe tbody tr th:only-of-type {\n",
       "        vertical-align: middle;\n",
       "    }\n",
       "\n",
       "    .dataframe tbody tr th {\n",
       "        vertical-align: top;\n",
       "    }\n",
       "\n",
       "    .dataframe thead th {\n",
       "        text-align: right;\n",
       "    }\n",
       "</style>\n",
       "<table border=\"1\" class=\"dataframe\">\n",
       "  <thead>\n",
       "    <tr style=\"text-align: right;\">\n",
       "      <th></th>\n",
       "      <th>commit_hash</th>\n",
       "      <th>commit_message</th>\n",
       "      <th>commit_author_Alice</th>\n",
       "      <th>commit_author_Bob</th>\n",
       "      <th>commit_author_Carol</th>\n",
       "      <th>commit_author_Dabe</th>\n",
       "      <th>commit_author_Eve</th>\n",
       "      <th>commit_author_Mallory</th>\n",
       "      <th>commit_author_Peggy</th>\n",
       "      <th>commit_author_Trudy</th>\n",
       "      <th>...</th>\n",
       "      <th>repository_name_conductor</th>\n",
       "      <th>repository_name_dockers</th>\n",
       "      <th>repository_name_mlm</th>\n",
       "      <th>repository_name_sensor</th>\n",
       "      <th>repository_name_standard</th>\n",
       "      <th>year</th>\n",
       "      <th>month</th>\n",
       "      <th>day</th>\n",
       "      <th>hour</th>\n",
       "      <th>weekday</th>\n",
       "    </tr>\n",
       "  </thead>\n",
       "  <tbody>\n",
       "    <tr>\n",
       "      <th>0</th>\n",
       "      <td>b28abb42</td>\n",
       "      <td>объяснения предсказаний с помощью lime</td>\n",
       "      <td>0</td>\n",
       "      <td>0</td>\n",
       "      <td>0</td>\n",
       "      <td>0</td>\n",
       "      <td>0</td>\n",
       "      <td>0</td>\n",
       "      <td>0</td>\n",
       "      <td>0</td>\n",
       "      <td>...</td>\n",
       "      <td>0</td>\n",
       "      <td>0</td>\n",
       "      <td>1</td>\n",
       "      <td>0</td>\n",
       "      <td>0</td>\n",
       "      <td>2020</td>\n",
       "      <td>6</td>\n",
       "      <td>12</td>\n",
       "      <td>14.43</td>\n",
       "      <td>4</td>\n",
       "    </tr>\n",
       "    <tr>\n",
       "      <th>1</th>\n",
       "      <td>438b5c4d</td>\n",
       "      <td>Поставил lime вместо eli5</td>\n",
       "      <td>0</td>\n",
       "      <td>0</td>\n",
       "      <td>0</td>\n",
       "      <td>0</td>\n",
       "      <td>0</td>\n",
       "      <td>0</td>\n",
       "      <td>0</td>\n",
       "      <td>0</td>\n",
       "      <td>...</td>\n",
       "      <td>0</td>\n",
       "      <td>0</td>\n",
       "      <td>1</td>\n",
       "      <td>0</td>\n",
       "      <td>0</td>\n",
       "      <td>2020</td>\n",
       "      <td>6</td>\n",
       "      <td>12</td>\n",
       "      <td>11.88</td>\n",
       "      <td>4</td>\n",
       "    </tr>\n",
       "    <tr>\n",
       "      <th>2</th>\n",
       "      <td>8e6e4f31</td>\n",
       "      <td>Скрипт для создния пакетов обновления</td>\n",
       "      <td>0</td>\n",
       "      <td>0</td>\n",
       "      <td>0</td>\n",
       "      <td>0</td>\n",
       "      <td>0</td>\n",
       "      <td>0</td>\n",
       "      <td>0</td>\n",
       "      <td>0</td>\n",
       "      <td>...</td>\n",
       "      <td>0</td>\n",
       "      <td>0</td>\n",
       "      <td>1</td>\n",
       "      <td>0</td>\n",
       "      <td>0</td>\n",
       "      <td>2020</td>\n",
       "      <td>6</td>\n",
       "      <td>11</td>\n",
       "      <td>15.32</td>\n",
       "      <td>3</td>\n",
       "    </tr>\n",
       "    <tr>\n",
       "      <th>3</th>\n",
       "      <td>5e0956a6</td>\n",
       "      <td>Сортировка весов по убыванию</td>\n",
       "      <td>0</td>\n",
       "      <td>0</td>\n",
       "      <td>0</td>\n",
       "      <td>0</td>\n",
       "      <td>0</td>\n",
       "      <td>0</td>\n",
       "      <td>0</td>\n",
       "      <td>0</td>\n",
       "      <td>...</td>\n",
       "      <td>0</td>\n",
       "      <td>0</td>\n",
       "      <td>1</td>\n",
       "      <td>0</td>\n",
       "      <td>0</td>\n",
       "      <td>2020</td>\n",
       "      <td>6</td>\n",
       "      <td>11</td>\n",
       "      <td>10.70</td>\n",
       "      <td>3</td>\n",
       "    </tr>\n",
       "    <tr>\n",
       "      <th>4</th>\n",
       "      <td>b9f4b40c</td>\n",
       "      <td>не надо конвертировать массив до операции по с...</td>\n",
       "      <td>0</td>\n",
       "      <td>0</td>\n",
       "      <td>0</td>\n",
       "      <td>0</td>\n",
       "      <td>0</td>\n",
       "      <td>0</td>\n",
       "      <td>0</td>\n",
       "      <td>0</td>\n",
       "      <td>...</td>\n",
       "      <td>0</td>\n",
       "      <td>0</td>\n",
       "      <td>1</td>\n",
       "      <td>0</td>\n",
       "      <td>0</td>\n",
       "      <td>2020</td>\n",
       "      <td>6</td>\n",
       "      <td>11</td>\n",
       "      <td>9.42</td>\n",
       "      <td>3</td>\n",
       "    </tr>\n",
       "  </tbody>\n",
       "</table>\n",
       "<p>5 rows × 23 columns</p>\n",
       "</div>"
      ],
      "text/plain": [
       "  commit_hash                                     commit_message  \\\n",
       "0    b28abb42             объяснения предсказаний с помощью lime   \n",
       "1    438b5c4d                          Поставил lime вместо eli5   \n",
       "2    8e6e4f31              Скрипт для создния пакетов обновления   \n",
       "3    5e0956a6                       Сортировка весов по убыванию   \n",
       "4    b9f4b40c  не надо конвертировать массив до операции по с...   \n",
       "\n",
       "   commit_author_Alice  commit_author_Bob  commit_author_Carol  \\\n",
       "0                    0                  0                    0   \n",
       "1                    0                  0                    0   \n",
       "2                    0                  0                    0   \n",
       "3                    0                  0                    0   \n",
       "4                    0                  0                    0   \n",
       "\n",
       "   commit_author_Dabe  commit_author_Eve  commit_author_Mallory  \\\n",
       "0                   0                  0                      0   \n",
       "1                   0                  0                      0   \n",
       "2                   0                  0                      0   \n",
       "3                   0                  0                      0   \n",
       "4                   0                  0                      0   \n",
       "\n",
       "   commit_author_Peggy  commit_author_Trudy  ...  repository_name_conductor  \\\n",
       "0                    0                    0  ...                          0   \n",
       "1                    0                    0  ...                          0   \n",
       "2                    0                    0  ...                          0   \n",
       "3                    0                    0  ...                          0   \n",
       "4                    0                    0  ...                          0   \n",
       "\n",
       "   repository_name_dockers  repository_name_mlm  repository_name_sensor  \\\n",
       "0                        0                    1                       0   \n",
       "1                        0                    1                       0   \n",
       "2                        0                    1                       0   \n",
       "3                        0                    1                       0   \n",
       "4                        0                    1                       0   \n",
       "\n",
       "   repository_name_standard  year  month  day   hour  weekday  \n",
       "0                         0  2020      6   12  14.43        4  \n",
       "1                         0  2020      6   12  11.88        4  \n",
       "2                         0  2020      6   11  15.32        3  \n",
       "3                         0  2020      6   11  10.70        3  \n",
       "4                         0  2020      6   11   9.42        3  \n",
       "\n",
       "[5 rows x 23 columns]"
      ]
     },
     "execution_count": 25,
     "metadata": {},
     "output_type": "execute_result"
    }
   ],
   "source": [
    "X_train.head()"
   ]
  },
  {
   "cell_type": "markdown",
   "metadata": {},
   "source": [
    "### Commit_hash"
   ]
  },
  {
   "cell_type": "code",
   "execution_count": 26,
   "metadata": {},
   "outputs": [],
   "source": [
    "# commit_hash это уникальное значение для кажой строки. Убирем его\n",
    "X_train = X_train.drop('commit_hash', axis=1) "
   ]
  },
  {
   "cell_type": "code",
   "execution_count": 27,
   "metadata": {},
   "outputs": [
    {
     "data": {
      "text/html": [
       "<div>\n",
       "<style scoped>\n",
       "    .dataframe tbody tr th:only-of-type {\n",
       "        vertical-align: middle;\n",
       "    }\n",
       "\n",
       "    .dataframe tbody tr th {\n",
       "        vertical-align: top;\n",
       "    }\n",
       "\n",
       "    .dataframe thead th {\n",
       "        text-align: right;\n",
       "    }\n",
       "</style>\n",
       "<table border=\"1\" class=\"dataframe\">\n",
       "  <thead>\n",
       "    <tr style=\"text-align: right;\">\n",
       "      <th></th>\n",
       "      <th>commit_message</th>\n",
       "      <th>commit_author_Alice</th>\n",
       "      <th>commit_author_Bob</th>\n",
       "      <th>commit_author_Carol</th>\n",
       "      <th>commit_author_Dabe</th>\n",
       "      <th>commit_author_Eve</th>\n",
       "      <th>commit_author_Mallory</th>\n",
       "      <th>commit_author_Peggy</th>\n",
       "      <th>commit_author_Trudy</th>\n",
       "      <th>commit_author_Victor</th>\n",
       "      <th>...</th>\n",
       "      <th>repository_name_conductor</th>\n",
       "      <th>repository_name_dockers</th>\n",
       "      <th>repository_name_mlm</th>\n",
       "      <th>repository_name_sensor</th>\n",
       "      <th>repository_name_standard</th>\n",
       "      <th>year</th>\n",
       "      <th>month</th>\n",
       "      <th>day</th>\n",
       "      <th>hour</th>\n",
       "      <th>weekday</th>\n",
       "    </tr>\n",
       "  </thead>\n",
       "  <tbody>\n",
       "    <tr>\n",
       "      <th>0</th>\n",
       "      <td>объяснения предсказаний с помощью lime</td>\n",
       "      <td>0</td>\n",
       "      <td>0</td>\n",
       "      <td>0</td>\n",
       "      <td>0</td>\n",
       "      <td>0</td>\n",
       "      <td>0</td>\n",
       "      <td>0</td>\n",
       "      <td>0</td>\n",
       "      <td>1</td>\n",
       "      <td>...</td>\n",
       "      <td>0</td>\n",
       "      <td>0</td>\n",
       "      <td>1</td>\n",
       "      <td>0</td>\n",
       "      <td>0</td>\n",
       "      <td>2020</td>\n",
       "      <td>6</td>\n",
       "      <td>12</td>\n",
       "      <td>14.43</td>\n",
       "      <td>4</td>\n",
       "    </tr>\n",
       "    <tr>\n",
       "      <th>1</th>\n",
       "      <td>Поставил lime вместо eli5</td>\n",
       "      <td>0</td>\n",
       "      <td>0</td>\n",
       "      <td>0</td>\n",
       "      <td>0</td>\n",
       "      <td>0</td>\n",
       "      <td>0</td>\n",
       "      <td>0</td>\n",
       "      <td>0</td>\n",
       "      <td>1</td>\n",
       "      <td>...</td>\n",
       "      <td>0</td>\n",
       "      <td>0</td>\n",
       "      <td>1</td>\n",
       "      <td>0</td>\n",
       "      <td>0</td>\n",
       "      <td>2020</td>\n",
       "      <td>6</td>\n",
       "      <td>12</td>\n",
       "      <td>11.88</td>\n",
       "      <td>4</td>\n",
       "    </tr>\n",
       "    <tr>\n",
       "      <th>2</th>\n",
       "      <td>Скрипт для создния пакетов обновления</td>\n",
       "      <td>0</td>\n",
       "      <td>0</td>\n",
       "      <td>0</td>\n",
       "      <td>0</td>\n",
       "      <td>0</td>\n",
       "      <td>0</td>\n",
       "      <td>0</td>\n",
       "      <td>0</td>\n",
       "      <td>1</td>\n",
       "      <td>...</td>\n",
       "      <td>0</td>\n",
       "      <td>0</td>\n",
       "      <td>1</td>\n",
       "      <td>0</td>\n",
       "      <td>0</td>\n",
       "      <td>2020</td>\n",
       "      <td>6</td>\n",
       "      <td>11</td>\n",
       "      <td>15.32</td>\n",
       "      <td>3</td>\n",
       "    </tr>\n",
       "    <tr>\n",
       "      <th>3</th>\n",
       "      <td>Сортировка весов по убыванию</td>\n",
       "      <td>0</td>\n",
       "      <td>0</td>\n",
       "      <td>0</td>\n",
       "      <td>0</td>\n",
       "      <td>0</td>\n",
       "      <td>0</td>\n",
       "      <td>0</td>\n",
       "      <td>0</td>\n",
       "      <td>1</td>\n",
       "      <td>...</td>\n",
       "      <td>0</td>\n",
       "      <td>0</td>\n",
       "      <td>1</td>\n",
       "      <td>0</td>\n",
       "      <td>0</td>\n",
       "      <td>2020</td>\n",
       "      <td>6</td>\n",
       "      <td>11</td>\n",
       "      <td>10.70</td>\n",
       "      <td>3</td>\n",
       "    </tr>\n",
       "    <tr>\n",
       "      <th>4</th>\n",
       "      <td>не надо конвертировать массив до операции по с...</td>\n",
       "      <td>0</td>\n",
       "      <td>0</td>\n",
       "      <td>0</td>\n",
       "      <td>0</td>\n",
       "      <td>0</td>\n",
       "      <td>0</td>\n",
       "      <td>0</td>\n",
       "      <td>0</td>\n",
       "      <td>1</td>\n",
       "      <td>...</td>\n",
       "      <td>0</td>\n",
       "      <td>0</td>\n",
       "      <td>1</td>\n",
       "      <td>0</td>\n",
       "      <td>0</td>\n",
       "      <td>2020</td>\n",
       "      <td>6</td>\n",
       "      <td>11</td>\n",
       "      <td>9.42</td>\n",
       "      <td>3</td>\n",
       "    </tr>\n",
       "  </tbody>\n",
       "</table>\n",
       "<p>5 rows × 22 columns</p>\n",
       "</div>"
      ],
      "text/plain": [
       "                                      commit_message  commit_author_Alice  \\\n",
       "0             объяснения предсказаний с помощью lime                    0   \n",
       "1                          Поставил lime вместо eli5                    0   \n",
       "2              Скрипт для создния пакетов обновления                    0   \n",
       "3                       Сортировка весов по убыванию                    0   \n",
       "4  не надо конвертировать массив до операции по с...                    0   \n",
       "\n",
       "   commit_author_Bob  commit_author_Carol  commit_author_Dabe  \\\n",
       "0                  0                    0                   0   \n",
       "1                  0                    0                   0   \n",
       "2                  0                    0                   0   \n",
       "3                  0                    0                   0   \n",
       "4                  0                    0                   0   \n",
       "\n",
       "   commit_author_Eve  commit_author_Mallory  commit_author_Peggy  \\\n",
       "0                  0                      0                    0   \n",
       "1                  0                      0                    0   \n",
       "2                  0                      0                    0   \n",
       "3                  0                      0                    0   \n",
       "4                  0                      0                    0   \n",
       "\n",
       "   commit_author_Trudy  commit_author_Victor  ...  repository_name_conductor  \\\n",
       "0                    0                     1  ...                          0   \n",
       "1                    0                     1  ...                          0   \n",
       "2                    0                     1  ...                          0   \n",
       "3                    0                     1  ...                          0   \n",
       "4                    0                     1  ...                          0   \n",
       "\n",
       "   repository_name_dockers  repository_name_mlm  repository_name_sensor  \\\n",
       "0                        0                    1                       0   \n",
       "1                        0                    1                       0   \n",
       "2                        0                    1                       0   \n",
       "3                        0                    1                       0   \n",
       "4                        0                    1                       0   \n",
       "\n",
       "   repository_name_standard  year  month  day   hour  weekday  \n",
       "0                         0  2020      6   12  14.43        4  \n",
       "1                         0  2020      6   12  11.88        4  \n",
       "2                         0  2020      6   11  15.32        3  \n",
       "3                         0  2020      6   11  10.70        3  \n",
       "4                         0  2020      6   11   9.42        3  \n",
       "\n",
       "[5 rows x 22 columns]"
      ]
     },
     "execution_count": 27,
     "metadata": {},
     "output_type": "execute_result"
    }
   ],
   "source": [
    "X_train.head()"
   ]
  },
  {
   "cell_type": "code",
   "execution_count": 28,
   "metadata": {},
   "outputs": [],
   "source": [
    "# Проанализируем commit_message\n",
    "messages_len = []\n",
    "for string in X_train.commit_message:\n",
    "    #messages.append(string)\n",
    "    messages_len.append(len(string))"
   ]
  },
  {
   "cell_type": "code",
   "execution_count": 29,
   "metadata": {},
   "outputs": [
    {
     "data": {
      "text/plain": [
       "<AxesSubplot:>"
      ]
     },
     "execution_count": 29,
     "metadata": {},
     "output_type": "execute_result"
    },
    {
     "data": {
      "image/png": "[encoded data removed]",
      "text/plain": [
       "<Figure size 432x288 with 1 Axes>"
      ]
     },
     "metadata": {},
     "output_type": "display_data"
    }
   ],
   "source": [
    "# возьмем натуральный логариф от длины и будем исопльзовать его в расчетах\n",
    "len_of_commit_message = np.log(np.array(messages_len))\n",
    "\n",
    "# распределение длины коммитов\n",
    "pd.Series(np.array(messages_len)).hist()"
   ]
  },
  {
   "cell_type": "code",
   "execution_count": 30,
   "metadata": {},
   "outputs": [
    {
     "data": {
      "text/plain": [
       "Text(0.5, 1.0, 'График соотношения комитов и багов')"
      ]
     },
     "execution_count": 30,
     "metadata": {},
     "output_type": "execute_result"
    },
    {
     "data": {
      "image/png": "[encoded data removed]",
      "text/plain": [
       "<Figure size 432x288 with 1 Axes>"
      ]
     },
     "metadata": {},
     "output_type": "display_data"
    }
   ],
   "source": [
    "fig, ax = plt.subplots()\n",
    "plt.plot(pd.Series(np.array(messages_len)), Y_train, 'o', color='g')\n",
    "ax.set_xlabel('Длина комитов')\n",
    "ax.set_ylabel('Количество багов')\n",
    "ax.set_title('График соотношения комитов и багов')"
   ]
  },
  {
   "cell_type": "code",
   "execution_count": 31,
   "metadata": {},
   "outputs": [
    {
     "data": {
      "text/plain": [
       "(0.6500791328205024, 1.2868944735760507e-38)"
      ]
     },
     "execution_count": 31,
     "metadata": {},
     "output_type": "execute_result"
    }
   ],
   "source": [
    "# коэффициент корреляции пирсона для длины коммита и числа багов\n",
    "pearsonr(np.array(messages_len), Y_train)"
   ]
  },
  {
   "cell_type": "markdown",
   "metadata": {},
   "source": [
    "Коэффицент корреляции между длиной комитов и числом багов составляет 0,65."
   ]
  },
  {
   "cell_type": "code",
   "execution_count": 32,
   "metadata": {},
   "outputs": [],
   "source": [
    "X_train.commit_message = len_of_commit_message"
   ]
  },
  {
   "cell_type": "code",
   "execution_count": 33,
   "metadata": {},
   "outputs": [
    {
     "data": {
      "text/html": [
       "<div>\n",
       "<style scoped>\n",
       "    .dataframe tbody tr th:only-of-type {\n",
       "        vertical-align: middle;\n",
       "    }\n",
       "\n",
       "    .dataframe tbody tr th {\n",
       "        vertical-align: top;\n",
       "    }\n",
       "\n",
       "    .dataframe thead th {\n",
       "        text-align: right;\n",
       "    }\n",
       "</style>\n",
       "<table border=\"1\" class=\"dataframe\">\n",
       "  <thead>\n",
       "    <tr style=\"text-align: right;\">\n",
       "      <th></th>\n",
       "      <th>commit_message</th>\n",
       "      <th>commit_author_Alice</th>\n",
       "      <th>commit_author_Bob</th>\n",
       "      <th>commit_author_Carol</th>\n",
       "      <th>commit_author_Dabe</th>\n",
       "      <th>commit_author_Eve</th>\n",
       "      <th>commit_author_Mallory</th>\n",
       "      <th>commit_author_Peggy</th>\n",
       "      <th>commit_author_Trudy</th>\n",
       "      <th>commit_author_Victor</th>\n",
       "      <th>...</th>\n",
       "      <th>repository_name_conductor</th>\n",
       "      <th>repository_name_dockers</th>\n",
       "      <th>repository_name_mlm</th>\n",
       "      <th>repository_name_sensor</th>\n",
       "      <th>repository_name_standard</th>\n",
       "      <th>year</th>\n",
       "      <th>month</th>\n",
       "      <th>day</th>\n",
       "      <th>hour</th>\n",
       "      <th>weekday</th>\n",
       "    </tr>\n",
       "  </thead>\n",
       "  <tbody>\n",
       "    <tr>\n",
       "      <th>0</th>\n",
       "      <td>3.637586</td>\n",
       "      <td>0</td>\n",
       "      <td>0</td>\n",
       "      <td>0</td>\n",
       "      <td>0</td>\n",
       "      <td>0</td>\n",
       "      <td>0</td>\n",
       "      <td>0</td>\n",
       "      <td>0</td>\n",
       "      <td>1</td>\n",
       "      <td>...</td>\n",
       "      <td>0</td>\n",
       "      <td>0</td>\n",
       "      <td>1</td>\n",
       "      <td>0</td>\n",
       "      <td>0</td>\n",
       "      <td>2020</td>\n",
       "      <td>6</td>\n",
       "      <td>12</td>\n",
       "      <td>14.43</td>\n",
       "      <td>4</td>\n",
       "    </tr>\n",
       "    <tr>\n",
       "      <th>1</th>\n",
       "      <td>3.218876</td>\n",
       "      <td>0</td>\n",
       "      <td>0</td>\n",
       "      <td>0</td>\n",
       "      <td>0</td>\n",
       "      <td>0</td>\n",
       "      <td>0</td>\n",
       "      <td>0</td>\n",
       "      <td>0</td>\n",
       "      <td>1</td>\n",
       "      <td>...</td>\n",
       "      <td>0</td>\n",
       "      <td>0</td>\n",
       "      <td>1</td>\n",
       "      <td>0</td>\n",
       "      <td>0</td>\n",
       "      <td>2020</td>\n",
       "      <td>6</td>\n",
       "      <td>12</td>\n",
       "      <td>11.88</td>\n",
       "      <td>4</td>\n",
       "    </tr>\n",
       "    <tr>\n",
       "      <th>2</th>\n",
       "      <td>3.610918</td>\n",
       "      <td>0</td>\n",
       "      <td>0</td>\n",
       "      <td>0</td>\n",
       "      <td>0</td>\n",
       "      <td>0</td>\n",
       "      <td>0</td>\n",
       "      <td>0</td>\n",
       "      <td>0</td>\n",
       "      <td>1</td>\n",
       "      <td>...</td>\n",
       "      <td>0</td>\n",
       "      <td>0</td>\n",
       "      <td>1</td>\n",
       "      <td>0</td>\n",
       "      <td>0</td>\n",
       "      <td>2020</td>\n",
       "      <td>6</td>\n",
       "      <td>11</td>\n",
       "      <td>15.32</td>\n",
       "      <td>3</td>\n",
       "    </tr>\n",
       "    <tr>\n",
       "      <th>3</th>\n",
       "      <td>3.332205</td>\n",
       "      <td>0</td>\n",
       "      <td>0</td>\n",
       "      <td>0</td>\n",
       "      <td>0</td>\n",
       "      <td>0</td>\n",
       "      <td>0</td>\n",
       "      <td>0</td>\n",
       "      <td>0</td>\n",
       "      <td>1</td>\n",
       "      <td>...</td>\n",
       "      <td>0</td>\n",
       "      <td>0</td>\n",
       "      <td>1</td>\n",
       "      <td>0</td>\n",
       "      <td>0</td>\n",
       "      <td>2020</td>\n",
       "      <td>6</td>\n",
       "      <td>11</td>\n",
       "      <td>10.70</td>\n",
       "      <td>3</td>\n",
       "    </tr>\n",
       "    <tr>\n",
       "      <th>4</th>\n",
       "      <td>4.025352</td>\n",
       "      <td>0</td>\n",
       "      <td>0</td>\n",
       "      <td>0</td>\n",
       "      <td>0</td>\n",
       "      <td>0</td>\n",
       "      <td>0</td>\n",
       "      <td>0</td>\n",
       "      <td>0</td>\n",
       "      <td>1</td>\n",
       "      <td>...</td>\n",
       "      <td>0</td>\n",
       "      <td>0</td>\n",
       "      <td>1</td>\n",
       "      <td>0</td>\n",
       "      <td>0</td>\n",
       "      <td>2020</td>\n",
       "      <td>6</td>\n",
       "      <td>11</td>\n",
       "      <td>9.42</td>\n",
       "      <td>3</td>\n",
       "    </tr>\n",
       "  </tbody>\n",
       "</table>\n",
       "<p>5 rows × 22 columns</p>\n",
       "</div>"
      ],
      "text/plain": [
       "   commit_message  commit_author_Alice  commit_author_Bob  \\\n",
       "0        3.637586                    0                  0   \n",
       "1        3.218876                    0                  0   \n",
       "2        3.610918                    0                  0   \n",
       "3        3.332205                    0                  0   \n",
       "4        4.025352                    0                  0   \n",
       "\n",
       "   commit_author_Carol  commit_author_Dabe  commit_author_Eve  \\\n",
       "0                    0                   0                  0   \n",
       "1                    0                   0                  0   \n",
       "2                    0                   0                  0   \n",
       "3                    0                   0                  0   \n",
       "4                    0                   0                  0   \n",
       "\n",
       "   commit_author_Mallory  commit_author_Peggy  commit_author_Trudy  \\\n",
       "0                      0                    0                    0   \n",
       "1                      0                    0                    0   \n",
       "2                      0                    0                    0   \n",
       "3                      0                    0                    0   \n",
       "4                      0                    0                    0   \n",
       "\n",
       "   commit_author_Victor  ...  repository_name_conductor  \\\n",
       "0                     1  ...                          0   \n",
       "1                     1  ...                          0   \n",
       "2                     1  ...                          0   \n",
       "3                     1  ...                          0   \n",
       "4                     1  ...                          0   \n",
       "\n",
       "   repository_name_dockers  repository_name_mlm  repository_name_sensor  \\\n",
       "0                        0                    1                       0   \n",
       "1                        0                    1                       0   \n",
       "2                        0                    1                       0   \n",
       "3                        0                    1                       0   \n",
       "4                        0                    1                       0   \n",
       "\n",
       "   repository_name_standard  year  month  day   hour  weekday  \n",
       "0                         0  2020      6   12  14.43        4  \n",
       "1                         0  2020      6   12  11.88        4  \n",
       "2                         0  2020      6   11  15.32        3  \n",
       "3                         0  2020      6   11  10.70        3  \n",
       "4                         0  2020      6   11   9.42        3  \n",
       "\n",
       "[5 rows x 22 columns]"
      ]
     },
     "execution_count": 33,
     "metadata": {},
     "output_type": "execute_result"
    }
   ],
   "source": [
    "X_train.head()"
   ]
  },
  {
   "cell_type": "markdown",
   "metadata": {},
   "source": [
    "## Выбор модели"
   ]
  },
  {
   "cell_type": "markdown",
   "metadata": {},
   "source": [
    "Для сравнения моделей будем использовать MSE и оценку эффективности моделей из библиотеки sklearn (.score)"
   ]
  },
  {
   "cell_type": "markdown",
   "metadata": {},
   "source": [
    "### Стандартизируем данные и разделим на обучающую и тестовую выборки"
   ]
  },
  {
   "cell_type": "code",
   "execution_count": 34,
   "metadata": {},
   "outputs": [],
   "source": [
    "from sklearn.preprocessing import StandardScaler"
   ]
  },
  {
   "cell_type": "code",
   "execution_count": 35,
   "metadata": {},
   "outputs": [
    {
     "data": {
      "text/plain": [
       "StandardScaler()"
      ]
     },
     "execution_count": 35,
     "metadata": {},
     "output_type": "execute_result"
    }
   ],
   "source": [
    "scaler = StandardScaler()\n",
    "scaler.fit(X_train)"
   ]
  },
  {
   "cell_type": "code",
   "execution_count": 36,
   "metadata": {},
   "outputs": [],
   "source": [
    "X_train_scaled = scaler.transform(X_train)\n",
    "X_train_scaled = pd.DataFrame(X_train_scaled,\n",
    "                                      columns=X_train.columns)"
   ]
  },
  {
   "cell_type": "code",
   "execution_count": 37,
   "metadata": {},
   "outputs": [],
   "source": [
    "# год один для всех наблюдений - удалим столбец\n",
    "X_train_scaled = X_train_scaled.drop('year', axis=1)"
   ]
  },
  {
   "cell_type": "code",
   "execution_count": 38,
   "metadata": {},
   "outputs": [
    {
     "data": {
      "text/html": [
       "<div>\n",
       "<style scoped>\n",
       "    .dataframe tbody tr th:only-of-type {\n",
       "        vertical-align: middle;\n",
       "    }\n",
       "\n",
       "    .dataframe tbody tr th {\n",
       "        vertical-align: top;\n",
       "    }\n",
       "\n",
       "    .dataframe thead th {\n",
       "        text-align: right;\n",
       "    }\n",
       "</style>\n",
       "<table border=\"1\" class=\"dataframe\">\n",
       "  <thead>\n",
       "    <tr style=\"text-align: right;\">\n",
       "      <th></th>\n",
       "      <th>commit_message</th>\n",
       "      <th>commit_author_Alice</th>\n",
       "      <th>commit_author_Bob</th>\n",
       "      <th>commit_author_Carol</th>\n",
       "      <th>commit_author_Dabe</th>\n",
       "      <th>commit_author_Eve</th>\n",
       "      <th>commit_author_Mallory</th>\n",
       "      <th>commit_author_Peggy</th>\n",
       "      <th>commit_author_Trudy</th>\n",
       "      <th>commit_author_Victor</th>\n",
       "      <th>...</th>\n",
       "      <th>repository_name_agent</th>\n",
       "      <th>repository_name_conductor</th>\n",
       "      <th>repository_name_dockers</th>\n",
       "      <th>repository_name_mlm</th>\n",
       "      <th>repository_name_sensor</th>\n",
       "      <th>repository_name_standard</th>\n",
       "      <th>month</th>\n",
       "      <th>day</th>\n",
       "      <th>hour</th>\n",
       "      <th>weekday</th>\n",
       "    </tr>\n",
       "  </thead>\n",
       "  <tbody>\n",
       "    <tr>\n",
       "      <th>0</th>\n",
       "      <td>0.841040</td>\n",
       "      <td>-0.080582</td>\n",
       "      <td>-0.080582</td>\n",
       "      <td>-0.114332</td>\n",
       "      <td>-0.395874</td>\n",
       "      <td>-0.172917</td>\n",
       "      <td>-0.520088</td>\n",
       "      <td>-0.080582</td>\n",
       "      <td>-0.172917</td>\n",
       "      <td>1.208436</td>\n",
       "      <td>...</td>\n",
       "      <td>-0.217479</td>\n",
       "      <td>-0.746853</td>\n",
       "      <td>-0.255523</td>\n",
       "      <td>2.803060</td>\n",
       "      <td>-0.700275</td>\n",
       "      <td>-0.321252</td>\n",
       "      <td>1.693227</td>\n",
       "      <td>-0.177321</td>\n",
       "      <td>0.180935</td>\n",
       "      <td>0.845578</td>\n",
       "    </tr>\n",
       "    <tr>\n",
       "      <th>1</th>\n",
       "      <td>0.002770</td>\n",
       "      <td>-0.080582</td>\n",
       "      <td>-0.080582</td>\n",
       "      <td>-0.114332</td>\n",
       "      <td>-0.395874</td>\n",
       "      <td>-0.172917</td>\n",
       "      <td>-0.520088</td>\n",
       "      <td>-0.080582</td>\n",
       "      <td>-0.172917</td>\n",
       "      <td>1.208436</td>\n",
       "      <td>...</td>\n",
       "      <td>-0.217479</td>\n",
       "      <td>-0.746853</td>\n",
       "      <td>-0.255523</td>\n",
       "      <td>2.803060</td>\n",
       "      <td>-0.700275</td>\n",
       "      <td>-0.321252</td>\n",
       "      <td>1.693227</td>\n",
       "      <td>-0.177321</td>\n",
       "      <td>-0.673941</td>\n",
       "      <td>0.845578</td>\n",
       "    </tr>\n",
       "    <tr>\n",
       "      <th>2</th>\n",
       "      <td>0.787649</td>\n",
       "      <td>-0.080582</td>\n",
       "      <td>-0.080582</td>\n",
       "      <td>-0.114332</td>\n",
       "      <td>-0.395874</td>\n",
       "      <td>-0.172917</td>\n",
       "      <td>-0.520088</td>\n",
       "      <td>-0.080582</td>\n",
       "      <td>-0.172917</td>\n",
       "      <td>1.208436</td>\n",
       "      <td>...</td>\n",
       "      <td>-0.217479</td>\n",
       "      <td>-0.746853</td>\n",
       "      <td>-0.255523</td>\n",
       "      <td>2.803060</td>\n",
       "      <td>-0.700275</td>\n",
       "      <td>-0.321252</td>\n",
       "      <td>1.693227</td>\n",
       "      <td>-0.290194</td>\n",
       "      <td>0.479304</td>\n",
       "      <td>0.203105</td>\n",
       "    </tr>\n",
       "    <tr>\n",
       "      <th>3</th>\n",
       "      <td>0.229657</td>\n",
       "      <td>-0.080582</td>\n",
       "      <td>-0.080582</td>\n",
       "      <td>-0.114332</td>\n",
       "      <td>-0.395874</td>\n",
       "      <td>-0.172917</td>\n",
       "      <td>-0.520088</td>\n",
       "      <td>-0.080582</td>\n",
       "      <td>-0.172917</td>\n",
       "      <td>1.208436</td>\n",
       "      <td>...</td>\n",
       "      <td>-0.217479</td>\n",
       "      <td>-0.746853</td>\n",
       "      <td>-0.255523</td>\n",
       "      <td>2.803060</td>\n",
       "      <td>-0.700275</td>\n",
       "      <td>-0.321252</td>\n",
       "      <td>1.693227</td>\n",
       "      <td>-0.290194</td>\n",
       "      <td>-1.069530</td>\n",
       "      <td>0.203105</td>\n",
       "    </tr>\n",
       "    <tr>\n",
       "      <th>4</th>\n",
       "      <td>1.617357</td>\n",
       "      <td>-0.080582</td>\n",
       "      <td>-0.080582</td>\n",
       "      <td>-0.114332</td>\n",
       "      <td>-0.395874</td>\n",
       "      <td>-0.172917</td>\n",
       "      <td>-0.520088</td>\n",
       "      <td>-0.080582</td>\n",
       "      <td>-0.172917</td>\n",
       "      <td>1.208436</td>\n",
       "      <td>...</td>\n",
       "      <td>-0.217479</td>\n",
       "      <td>-0.746853</td>\n",
       "      <td>-0.255523</td>\n",
       "      <td>2.803060</td>\n",
       "      <td>-0.700275</td>\n",
       "      <td>-0.321252</td>\n",
       "      <td>1.693227</td>\n",
       "      <td>-0.290194</td>\n",
       "      <td>-1.498645</td>\n",
       "      <td>0.203105</td>\n",
       "    </tr>\n",
       "    <tr>\n",
       "      <th>...</th>\n",
       "      <td>...</td>\n",
       "      <td>...</td>\n",
       "      <td>...</td>\n",
       "      <td>...</td>\n",
       "      <td>...</td>\n",
       "      <td>...</td>\n",
       "      <td>...</td>\n",
       "      <td>...</td>\n",
       "      <td>...</td>\n",
       "      <td>...</td>\n",
       "      <td>...</td>\n",
       "      <td>...</td>\n",
       "      <td>...</td>\n",
       "      <td>...</td>\n",
       "      <td>...</td>\n",
       "      <td>...</td>\n",
       "      <td>...</td>\n",
       "      <td>...</td>\n",
       "      <td>...</td>\n",
       "      <td>...</td>\n",
       "      <td>...</td>\n",
       "    </tr>\n",
       "    <tr>\n",
       "      <th>305</th>\n",
       "      <td>-0.890710</td>\n",
       "      <td>-0.080582</td>\n",
       "      <td>-0.080582</td>\n",
       "      <td>-0.114332</td>\n",
       "      <td>2.526055</td>\n",
       "      <td>-0.172917</td>\n",
       "      <td>-0.520088</td>\n",
       "      <td>-0.080582</td>\n",
       "      <td>-0.172917</td>\n",
       "      <td>-0.827516</td>\n",
       "      <td>...</td>\n",
       "      <td>-0.217479</td>\n",
       "      <td>-0.746853</td>\n",
       "      <td>-0.255523</td>\n",
       "      <td>-0.356753</td>\n",
       "      <td>1.428011</td>\n",
       "      <td>-0.321252</td>\n",
       "      <td>-1.418830</td>\n",
       "      <td>1.064289</td>\n",
       "      <td>-0.331990</td>\n",
       "      <td>-1.724316</td>\n",
       "    </tr>\n",
       "    <tr>\n",
       "      <th>306</th>\n",
       "      <td>0.229657</td>\n",
       "      <td>-0.080582</td>\n",
       "      <td>-0.080582</td>\n",
       "      <td>-0.114332</td>\n",
       "      <td>2.526055</td>\n",
       "      <td>-0.172917</td>\n",
       "      <td>-0.520088</td>\n",
       "      <td>-0.080582</td>\n",
       "      <td>-0.172917</td>\n",
       "      <td>-0.827516</td>\n",
       "      <td>...</td>\n",
       "      <td>-0.217479</td>\n",
       "      <td>-0.746853</td>\n",
       "      <td>-0.255523</td>\n",
       "      <td>-0.356753</td>\n",
       "      <td>1.428011</td>\n",
       "      <td>-0.321252</td>\n",
       "      <td>-1.418830</td>\n",
       "      <td>1.064289</td>\n",
       "      <td>-0.466089</td>\n",
       "      <td>-1.724316</td>\n",
       "    </tr>\n",
       "    <tr>\n",
       "      <th>307</th>\n",
       "      <td>1.041409</td>\n",
       "      <td>-0.080582</td>\n",
       "      <td>-0.080582</td>\n",
       "      <td>-0.114332</td>\n",
       "      <td>2.526055</td>\n",
       "      <td>-0.172917</td>\n",
       "      <td>-0.520088</td>\n",
       "      <td>-0.080582</td>\n",
       "      <td>-0.172917</td>\n",
       "      <td>-0.827516</td>\n",
       "      <td>...</td>\n",
       "      <td>-0.217479</td>\n",
       "      <td>-0.746853</td>\n",
       "      <td>-0.255523</td>\n",
       "      <td>-0.356753</td>\n",
       "      <td>1.428011</td>\n",
       "      <td>-0.321252</td>\n",
       "      <td>-1.418830</td>\n",
       "      <td>1.064289</td>\n",
       "      <td>-0.818096</td>\n",
       "      <td>-1.724316</td>\n",
       "    </tr>\n",
       "    <tr>\n",
       "      <th>308</th>\n",
       "      <td>-0.546661</td>\n",
       "      <td>-0.080582</td>\n",
       "      <td>-0.080582</td>\n",
       "      <td>-0.114332</td>\n",
       "      <td>2.526055</td>\n",
       "      <td>-0.172917</td>\n",
       "      <td>-0.520088</td>\n",
       "      <td>-0.080582</td>\n",
       "      <td>-0.172917</td>\n",
       "      <td>-0.827516</td>\n",
       "      <td>...</td>\n",
       "      <td>-0.217479</td>\n",
       "      <td>-0.746853</td>\n",
       "      <td>-0.255523</td>\n",
       "      <td>-0.356753</td>\n",
       "      <td>1.428011</td>\n",
       "      <td>-0.321252</td>\n",
       "      <td>-1.418830</td>\n",
       "      <td>1.064289</td>\n",
       "      <td>-0.858326</td>\n",
       "      <td>-1.724316</td>\n",
       "    </tr>\n",
       "    <tr>\n",
       "      <th>309</th>\n",
       "      <td>-2.854358</td>\n",
       "      <td>-0.080582</td>\n",
       "      <td>-0.080582</td>\n",
       "      <td>-0.114332</td>\n",
       "      <td>2.526055</td>\n",
       "      <td>-0.172917</td>\n",
       "      <td>-0.520088</td>\n",
       "      <td>-0.080582</td>\n",
       "      <td>-0.172917</td>\n",
       "      <td>-0.827516</td>\n",
       "      <td>...</td>\n",
       "      <td>-0.217479</td>\n",
       "      <td>-0.746853</td>\n",
       "      <td>-0.255523</td>\n",
       "      <td>-0.356753</td>\n",
       "      <td>1.428011</td>\n",
       "      <td>-0.321252</td>\n",
       "      <td>-1.418830</td>\n",
       "      <td>1.064289</td>\n",
       "      <td>-0.928727</td>\n",
       "      <td>-1.724316</td>\n",
       "    </tr>\n",
       "  </tbody>\n",
       "</table>\n",
       "<p>310 rows × 21 columns</p>\n",
       "</div>"
      ],
      "text/plain": [
       "     commit_message  commit_author_Alice  commit_author_Bob  \\\n",
       "0          0.841040            -0.080582          -0.080582   \n",
       "1          0.002770            -0.080582          -0.080582   \n",
       "2          0.787649            -0.080582          -0.080582   \n",
       "3          0.229657            -0.080582          -0.080582   \n",
       "4          1.617357            -0.080582          -0.080582   \n",
       "..              ...                  ...                ...   \n",
       "305       -0.890710            -0.080582          -0.080582   \n",
       "306        0.229657            -0.080582          -0.080582   \n",
       "307        1.041409            -0.080582          -0.080582   \n",
       "308       -0.546661            -0.080582          -0.080582   \n",
       "309       -2.854358            -0.080582          -0.080582   \n",
       "\n",
       "     commit_author_Carol  commit_author_Dabe  commit_author_Eve  \\\n",
       "0              -0.114332           -0.395874          -0.172917   \n",
       "1              -0.114332           -0.395874          -0.172917   \n",
       "2              -0.114332           -0.395874          -0.172917   \n",
       "3              -0.114332           -0.395874          -0.172917   \n",
       "4              -0.114332           -0.395874          -0.172917   \n",
       "..                   ...                 ...                ...   \n",
       "305            -0.114332            2.526055          -0.172917   \n",
       "306            -0.114332            2.526055          -0.172917   \n",
       "307            -0.114332            2.526055          -0.172917   \n",
       "308            -0.114332            2.526055          -0.172917   \n",
       "309            -0.114332            2.526055          -0.172917   \n",
       "\n",
       "     commit_author_Mallory  commit_author_Peggy  commit_author_Trudy  \\\n",
       "0                -0.520088            -0.080582            -0.172917   \n",
       "1                -0.520088            -0.080582            -0.172917   \n",
       "2                -0.520088            -0.080582            -0.172917   \n",
       "3                -0.520088            -0.080582            -0.172917   \n",
       "4                -0.520088            -0.080582            -0.172917   \n",
       "..                     ...                  ...                  ...   \n",
       "305              -0.520088            -0.080582            -0.172917   \n",
       "306              -0.520088            -0.080582            -0.172917   \n",
       "307              -0.520088            -0.080582            -0.172917   \n",
       "308              -0.520088            -0.080582            -0.172917   \n",
       "309              -0.520088            -0.080582            -0.172917   \n",
       "\n",
       "     commit_author_Victor  ...  repository_name_agent  \\\n",
       "0                1.208436  ...              -0.217479   \n",
       "1                1.208436  ...              -0.217479   \n",
       "2                1.208436  ...              -0.217479   \n",
       "3                1.208436  ...              -0.217479   \n",
       "4                1.208436  ...              -0.217479   \n",
       "..                    ...  ...                    ...   \n",
       "305             -0.827516  ...              -0.217479   \n",
       "306             -0.827516  ...              -0.217479   \n",
       "307             -0.827516  ...              -0.217479   \n",
       "308             -0.827516  ...              -0.217479   \n",
       "309             -0.827516  ...              -0.217479   \n",
       "\n",
       "     repository_name_conductor  repository_name_dockers  repository_name_mlm  \\\n",
       "0                    -0.746853                -0.255523             2.803060   \n",
       "1                    -0.746853                -0.255523             2.803060   \n",
       "2                    -0.746853                -0.255523             2.803060   \n",
       "3                    -0.746853                -0.255523             2.803060   \n",
       "4                    -0.746853                -0.255523             2.803060   \n",
       "..                         ...                      ...                  ...   \n",
       "305                  -0.746853                -0.255523            -0.356753   \n",
       "306                  -0.746853                -0.255523            -0.356753   \n",
       "307                  -0.746853                -0.255523            -0.356753   \n",
       "308                  -0.746853                -0.255523            -0.356753   \n",
       "309                  -0.746853                -0.255523            -0.356753   \n",
       "\n",
       "     repository_name_sensor  repository_name_standard     month       day  \\\n",
       "0                 -0.700275                 -0.321252  1.693227 -0.177321   \n",
       "1                 -0.700275                 -0.321252  1.693227 -0.177321   \n",
       "2                 -0.700275                 -0.321252  1.693227 -0.290194   \n",
       "3                 -0.700275                 -0.321252  1.693227 -0.290194   \n",
       "4                 -0.700275                 -0.321252  1.693227 -0.290194   \n",
       "..                      ...                       ...       ...       ...   \n",
       "305                1.428011                 -0.321252 -1.418830  1.064289   \n",
       "306                1.428011                 -0.321252 -1.418830  1.064289   \n",
       "307                1.428011                 -0.321252 -1.418830  1.064289   \n",
       "308                1.428011                 -0.321252 -1.418830  1.064289   \n",
       "309                1.428011                 -0.321252 -1.418830  1.064289   \n",
       "\n",
       "         hour   weekday  \n",
       "0    0.180935  0.845578  \n",
       "1   -0.673941  0.845578  \n",
       "2    0.479304  0.203105  \n",
       "3   -1.069530  0.203105  \n",
       "4   -1.498645  0.203105  \n",
       "..        ...       ...  \n",
       "305 -0.331990 -1.724316  \n",
       "306 -0.466089 -1.724316  \n",
       "307 -0.818096 -1.724316  \n",
       "308 -0.858326 -1.724316  \n",
       "309 -0.928727 -1.724316  \n",
       "\n",
       "[310 rows x 21 columns]"
      ]
     },
     "execution_count": 38,
     "metadata": {},
     "output_type": "execute_result"
    }
   ],
   "source": [
    "X_train_scaled"
   ]
  },
  {
   "cell_type": "code",
   "execution_count": 39,
   "metadata": {},
   "outputs": [],
   "source": [
    "from sklearn.model_selection import train_test_split"
   ]
  },
  {
   "cell_type": "code",
   "execution_count": 40,
   "metadata": {},
   "outputs": [],
   "source": [
    "X_train_fin, X_val, y_train_fin, y_val = train_test_split(\n",
    "    X_train_scaled, Y_train, test_size=0.3)"
   ]
  },
  {
   "cell_type": "markdown",
   "metadata": {},
   "source": [
    "### LogisticRegression"
   ]
  },
  {
   "cell_type": "code",
   "execution_count": 41,
   "metadata": {},
   "outputs": [],
   "source": [
    "from sklearn.linear_model import LogisticRegression"
   ]
  },
  {
   "cell_type": "code",
   "execution_count": 42,
   "metadata": {},
   "outputs": [],
   "source": [
    "clf = LogisticRegression()"
   ]
  },
  {
   "cell_type": "code",
   "execution_count": 43,
   "metadata": {},
   "outputs": [
    {
     "data": {
      "text/plain": [
       "LogisticRegression()"
      ]
     },
     "execution_count": 43,
     "metadata": {},
     "output_type": "execute_result"
    }
   ],
   "source": [
    "clf.fit(X_train_fin, y_train_fin)"
   ]
  },
  {
   "cell_type": "code",
   "execution_count": 44,
   "metadata": {},
   "outputs": [],
   "source": [
    "y_logist_pred = clf.predict(X_val)"
   ]
  },
  {
   "cell_type": "markdown",
   "metadata": {},
   "source": [
    "##### MSE"
   ]
  },
  {
   "cell_type": "code",
   "execution_count": 45,
   "metadata": {},
   "outputs": [
    {
     "name": "stdout",
     "output_type": "stream",
     "text": [
      "mse 1.4086021505376345\n",
      "sqrt(mse) 1.1868454619442392\n",
      "avg_error 0.7204301075268817\n"
     ]
    }
   ],
   "source": [
    "mse_logistic = np.mean((y_val-y_logist_pred)**2)\n",
    "print('mse', mse_logistic)\n",
    "print('sqrt(mse)', mse_logistic**0.5)\n",
    "print('avg_error', np.mean(abs(y_val-y_logist_pred)))"
   ]
  },
  {
   "cell_type": "code",
   "execution_count": 46,
   "metadata": {},
   "outputs": [
    {
     "data": {
      "text/plain": [
       "(array([ 3.,  0., 14.,  0., 42.,  0., 27.,  0.,  5.,  0.,  0.,  1.,  0.,\n",
       "         0.,  0.,  0.,  0.,  0.,  0.,  1.]),\n",
       " array([-2.  , -1.55, -1.1 , -0.65, -0.2 ,  0.25,  0.7 ,  1.15,  1.6 ,\n",
       "         2.05,  2.5 ,  2.95,  3.4 ,  3.85,  4.3 ,  4.75,  5.2 ,  5.65,\n",
       "         6.1 ,  6.55,  7.  ]),\n",
       " <BarContainer object of 20 artists>)"
      ]
     },
     "execution_count": 46,
     "metadata": {},
     "output_type": "execute_result"
    },
    {
     "data": {
      "image/png": "[encoded data removed]",
      "text/plain": [
       "<Figure size 432x288 with 1 Axes>"
      ]
     },
     "metadata": {},
     "output_type": "display_data"
    }
   ],
   "source": [
    "plt.hist(y_val-y_logist_pred, bins=20)"
   ]
  },
  {
   "cell_type": "code",
   "execution_count": 47,
   "metadata": {},
   "outputs": [
    {
     "data": {
      "text/plain": [
       "0.45161290322580644"
      ]
     },
     "execution_count": 47,
     "metadata": {},
     "output_type": "execute_result"
    }
   ],
   "source": [
    "clf.score(X_val, y_val)"
   ]
  },
  {
   "cell_type": "markdown",
   "metadata": {},
   "source": [
    "### LinearRegression"
   ]
  },
  {
   "cell_type": "code",
   "execution_count": 48,
   "metadata": {},
   "outputs": [],
   "source": [
    "from sklearn.linear_model import LinearRegression"
   ]
  },
  {
   "cell_type": "code",
   "execution_count": 49,
   "metadata": {},
   "outputs": [],
   "source": [
    "regression = LinearRegression()"
   ]
  },
  {
   "cell_type": "code",
   "execution_count": 50,
   "metadata": {
    "scrolled": true
   },
   "outputs": [
    {
     "data": {
      "text/plain": [
       "LinearRegression()"
      ]
     },
     "execution_count": 50,
     "metadata": {},
     "output_type": "execute_result"
    }
   ],
   "source": [
    "regression.fit(X_train_fin, y_train_fin)"
   ]
  },
  {
   "cell_type": "code",
   "execution_count": 51,
   "metadata": {},
   "outputs": [],
   "source": [
    "y_linear_pred = regression.predict(X_val)"
   ]
  },
  {
   "cell_type": "code",
   "execution_count": 52,
   "metadata": {},
   "outputs": [
    {
     "data": {
      "text/plain": [
       "count    93.000000\n",
       "mean      0.174045\n",
       "std       0.826397\n",
       "min      -2.163923\n",
       "25%      -0.390291\n",
       "50%       0.115570\n",
       "75%       0.704013\n",
       "max       2.358641\n",
       "Name: bugs, dtype: float64"
      ]
     },
     "execution_count": 52,
     "metadata": {},
     "output_type": "execute_result"
    }
   ],
   "source": [
    "(y_val - y_linear_pred).describe()"
   ]
  },
  {
   "cell_type": "code",
   "execution_count": 53,
   "metadata": {},
   "outputs": [
    {
     "data": {
      "text/plain": [
       "(array([ 1.,  0.,  1.,  0.,  1.,  5.,  9.,  9.,  7., 11., 11., 11.,  7.,\n",
       "         8.,  3.,  2.,  3.,  0.,  2.,  2.]),\n",
       " array([-2.16392332, -1.93779508, -1.71166684, -1.4855386 , -1.25941036,\n",
       "        -1.03328212, -0.80715388, -0.58102564, -0.3548974 , -0.12876916,\n",
       "         0.09735908,  0.32348732,  0.54961556,  0.7757438 ,  1.00187204,\n",
       "         1.22800028,  1.45412852,  1.68025676,  1.906385  ,  2.13251324,\n",
       "         2.35864148]),\n",
       " <BarContainer object of 20 artists>)"
      ]
     },
     "execution_count": 53,
     "metadata": {},
     "output_type": "execute_result"
    },
    {
     "data": {
      "image/png": "[encoded data removed]",
      "text/plain": [
       "<Figure size 432x288 with 1 Axes>"
      ]
     },
     "metadata": {},
     "output_type": "display_data"
    }
   ],
   "source": [
    "plt.hist(y_val-y_linear_pred, bins=20,color='r')"
   ]
  },
  {
   "cell_type": "markdown",
   "metadata": {},
   "source": [
    "##### MSE"
   ]
  },
  {
   "cell_type": "code",
   "execution_count": 54,
   "metadata": {},
   "outputs": [
    {
     "name": "stdout",
     "output_type": "stream",
     "text": [
      "mse 0.7058799089993211\n",
      "sqrt(mse) 0.8401665959792266\n",
      "avg_error 0.647953734673244\n"
     ]
    }
   ],
   "source": [
    "mse = np.mean((y_val-y_linear_pred)**2)\n",
    "print('mse', mse)\n",
    "print('sqrt(mse)', mse**0.5)\n",
    "print('avg_error', np.mean(abs(y_val-y_linear_pred)))"
   ]
  },
  {
   "cell_type": "code",
   "execution_count": 55,
   "metadata": {},
   "outputs": [
    {
     "data": {
      "text/plain": [
       "0.7010793511097176"
      ]
     },
     "execution_count": 55,
     "metadata": {},
     "output_type": "execute_result"
    }
   ],
   "source": [
    "regression.score(X_val, y_val)"
   ]
  },
  {
   "cell_type": "markdown",
   "metadata": {},
   "source": [
    "### KNN"
   ]
  },
  {
   "cell_type": "code",
   "execution_count": 56,
   "metadata": {},
   "outputs": [],
   "source": [
    "from sklearn.neighbors import KNeighborsRegressor"
   ]
  },
  {
   "cell_type": "code",
   "execution_count": 57,
   "metadata": {},
   "outputs": [],
   "source": [
    "knn = KNeighborsRegressor(weights = 'distance')"
   ]
  },
  {
   "cell_type": "code",
   "execution_count": 58,
   "metadata": {},
   "outputs": [
    {
     "data": {
      "text/plain": [
       "KNeighborsRegressor(weights='distance')"
      ]
     },
     "execution_count": 58,
     "metadata": {},
     "output_type": "execute_result"
    }
   ],
   "source": [
    "knn.fit(X_train_fin, y_train_fin)"
   ]
  },
  {
   "cell_type": "code",
   "execution_count": 59,
   "metadata": {},
   "outputs": [],
   "source": [
    "y_knn_pred = knn.predict(X_val)"
   ]
  },
  {
   "cell_type": "markdown",
   "metadata": {},
   "source": [
    "##### MSE"
   ]
  },
  {
   "cell_type": "code",
   "execution_count": 60,
   "metadata": {},
   "outputs": [
    {
     "name": "stdout",
     "output_type": "stream",
     "text": [
      "mse 1.612350366854639\n",
      "sqrt(mse) 1.2697835905596824\n",
      "avg_error 0.9222828417618477\n"
     ]
    }
   ],
   "source": [
    "mse_knn = np.mean((y_val-y_knn_pred)**2)\n",
    "print('mse', mse_knn)\n",
    "print('sqrt(mse)', mse_knn**0.5)\n",
    "print('avg_error', np.mean(abs(y_val-y_knn_pred)))"
   ]
  },
  {
   "cell_type": "code",
   "execution_count": 61,
   "metadata": {},
   "outputs": [
    {
     "data": {
      "text/plain": [
       "(array([ 1.,  2.,  0.,  5.,  6.,  7., 15., 13., 11.,  8.,  8.,  3.,  3.,\n",
       "         1.,  2.,  2.,  3.,  0.,  1.,  2.]),\n",
       " array([-2.58453918, -2.25531222, -1.92608526, -1.5968583 , -1.26763134,\n",
       "        -0.93840438, -0.60917742, -0.27995047,  0.04927649,  0.37850345,\n",
       "         0.70773041,  1.03695737,  1.36618433,  1.69541129,  2.02463825,\n",
       "         2.35386521,  2.68309216,  3.01231912,  3.34154608,  3.67077304,\n",
       "         4.        ]),\n",
       " <BarContainer object of 20 artists>)"
      ]
     },
     "execution_count": 61,
     "metadata": {},
     "output_type": "execute_result"
    },
    {
     "data": {
      "image/png": "[encoded data removed]",
      "text/plain": [
       "<Figure size 432x288 with 1 Axes>"
      ]
     },
     "metadata": {},
     "output_type": "display_data"
    }
   ],
   "source": [
    "plt.hist(y_val-y_knn_pred, bins=20, color='m')"
   ]
  },
  {
   "cell_type": "code",
   "execution_count": 62,
   "metadata": {},
   "outputs": [
    {
     "data": {
      "text/plain": [
       "0.317214144000892"
      ]
     },
     "execution_count": 62,
     "metadata": {},
     "output_type": "execute_result"
    }
   ],
   "source": [
    "knn.score(X_val, y_val)"
   ]
  },
  {
   "cell_type": "markdown",
   "metadata": {},
   "source": [
    "### Tree"
   ]
  },
  {
   "cell_type": "code",
   "execution_count": 63,
   "metadata": {},
   "outputs": [],
   "source": [
    "from sklearn.tree import DecisionTreeClassifier"
   ]
  },
  {
   "cell_type": "code",
   "execution_count": 64,
   "metadata": {},
   "outputs": [],
   "source": [
    "tree = DecisionTreeClassifier(max_depth=100)"
   ]
  },
  {
   "cell_type": "code",
   "execution_count": 65,
   "metadata": {},
   "outputs": [
    {
     "data": {
      "text/plain": [
       "DecisionTreeClassifier(max_depth=100)"
      ]
     },
     "execution_count": 65,
     "metadata": {},
     "output_type": "execute_result"
    }
   ],
   "source": [
    "tree.fit(X_train_fin, y_train_fin)"
   ]
  },
  {
   "cell_type": "code",
   "execution_count": 66,
   "metadata": {},
   "outputs": [],
   "source": [
    "y_tree_pred = tree.predict(X_val)"
   ]
  },
  {
   "cell_type": "markdown",
   "metadata": {},
   "source": [
    "##### MSE"
   ]
  },
  {
   "cell_type": "code",
   "execution_count": 67,
   "metadata": {},
   "outputs": [
    {
     "name": "stdout",
     "output_type": "stream",
     "text": [
      "mse 2.053763440860215\n",
      "sqrt(mse) 1.4330957542537814\n",
      "avg_error 0.8924731182795699\n"
     ]
    }
   ],
   "source": [
    "mse_tree = np.mean((y_val-y_tree_pred)**2)\n",
    "print('mse', mse_tree)\n",
    "print('sqrt(mse)', mse_tree**0.5)\n",
    "print('avg_error', np.mean(abs(y_val-y_tree_pred)))"
   ]
  },
  {
   "cell_type": "code",
   "execution_count": 68,
   "metadata": {},
   "outputs": [
    {
     "data": {
      "text/plain": [
       "(array([ 4.,  0.,  0.,  0.,  0., 20.,  0., 40.,  0.,  0., 19.,  0.,  4.,\n",
       "         0.,  0.,  2.,  0.,  2.,  0.,  2.]),\n",
       " array([-3. , -2.6, -2.2, -1.8, -1.4, -1. , -0.6, -0.2,  0.2,  0.6,  1. ,\n",
       "         1.4,  1.8,  2.2,  2.6,  3. ,  3.4,  3.8,  4.2,  4.6,  5. ]),\n",
       " <BarContainer object of 20 artists>)"
      ]
     },
     "execution_count": 68,
     "metadata": {},
     "output_type": "execute_result"
    },
    {
     "data": {
      "image/png": "[encoded data removed]",
      "text/plain": [
       "<Figure size 432x288 with 1 Axes>"
      ]
     },
     "metadata": {},
     "output_type": "display_data"
    }
   ],
   "source": [
    "plt.hist(y_val-y_tree_pred, bins=20, color='g')"
   ]
  },
  {
   "cell_type": "code",
   "execution_count": 69,
   "metadata": {},
   "outputs": [
    {
     "data": {
      "text/plain": [
       "0.43010752688172044"
      ]
     },
     "execution_count": 69,
     "metadata": {},
     "output_type": "execute_result"
    }
   ],
   "source": [
    "tree.score(X_val, y_val)"
   ]
  },
  {
   "cell_type": "markdown",
   "metadata": {},
   "source": [
    "### Сравним результаты расчетов по нескольким моделям"
   ]
  },
  {
   "cell_type": "code",
   "execution_count": 70,
   "metadata": {},
   "outputs": [
    {
     "name": "stdout",
     "output_type": "stream",
     "text": [
      "Mean Squared Error:\n",
      "\n",
      "logistic reg = 1.408602\n",
      "linear reg = 0.705880\n",
      "knn = 1.612350\n",
      "tree = 2.053763\n"
     ]
    }
   ],
   "source": [
    "# расчет MSE\n",
    "print('Mean Squared Error:\\n\\n\\\n",
    "logistic reg = %f\\n\\\n",
    "linear reg = %f\\n\\\n",
    "knn = %f\\n\\\n",
    "tree = %f' %(\n",
    "    mean_squared_error(y_val, y_logist_pred), \n",
    "    mean_squared_error(y_val, y_linear_pred), \n",
    "    mean_squared_error(y_val, y_knn_pred), \n",
    "    mean_squared_error(y_val, y_tree_pred)))"
   ]
  },
  {
   "cell_type": "markdown",
   "metadata": {},
   "source": [
    "По величине MSE наилучший результат показывает линейная регрессия"
   ]
  },
  {
   "cell_type": "code",
   "execution_count": 71,
   "metadata": {},
   "outputs": [
    {
     "name": "stdout",
     "output_type": "stream",
     "text": [
      "Models score :\n",
      "\n",
      "logistic reg = 0.451613\n",
      "linear reg = 0.701079\n",
      "knn = 0.317214\n",
      "tree = 0.430108\n"
     ]
    }
   ],
   "source": [
    "# расчет score\n",
    "print('Models score :\\n\\n\\\n",
    "logistic reg = %f\\n\\\n",
    "linear reg = %f\\n\\\n",
    "knn = %f\\n\\\n",
    "tree = %f' %(\n",
    "    clf.score(X_val, y_val), \n",
    "    regression.score(X_val, y_val), \n",
    "    knn.score(X_val, y_val), \n",
    "    tree.score(X_val, y_val)))"
   ]
  },
  {
   "cell_type": "markdown",
   "metadata": {},
   "source": [
    "Оценка эффективности модели также показывает преимущество линейной регрессии относительно других. Посмотрим на графиках:"
   ]
  },
  {
   "cell_type": "code",
   "execution_count": 72,
   "metadata": {},
   "outputs": [
    {
     "data": {
      "image/png": "[encoded data removed]",
      "text/plain": [
       "<Figure size 720x720 with 4 Axes>"
      ]
     },
     "metadata": {},
     "output_type": "display_data"
    }
   ],
   "source": [
    "# визуализируем\n",
    "list_of_y_all = [np.array(y_val),y_logist_pred, y_linear_pred, \n",
    "             y_knn_pred, y_tree_pred]\n",
    "\n",
    "df00 = pd.DataFrame(list_of_y_all).transpose()\n",
    "df00.columns=['y_val', 'y_logistic_pred', 'y_linear_pred', \n",
    "              'y_knn_pred', 'y_tree_pred']\n",
    "\n",
    "fig, ax =plt.subplots(2,2)\n",
    "sns.regplot( ax=ax[0,0], x='y_val', y='y_logistic_pred', data = df00)\n",
    "sns.regplot(ax=ax[0,1], x='y_val', y='y_linear_pred', data = df00)\n",
    "sns.regplot( ax=ax[1,0], x='y_val', y='y_knn_pred', data = df00)\n",
    "sns.regplot(ax=ax[1,1], x='y_val', y='y_tree_pred', data = df00)\n",
    "\n",
    "fig.suptitle('Оценка моделей.\\nФактические и расчетные значения',\n",
    "             y=1.0)\n",
    "\n",
    "ax[0,0].set_title('Логистическая регрессия')\n",
    "ax[0,1].set_title('Линейная регрессия')\n",
    "ax[1,0].set_title('Метод k-ближайших соседей')\n",
    "ax[1,1].set_title('Дерево решений')\n",
    "\n",
    "\n",
    "fig.set_figheight(10)\n",
    "fig.set_figwidth(10)"
   ]
  },
  {
   "cell_type": "markdown",
   "metadata": {},
   "source": [
    "Выберем модель линейной регрессии для дальнейшей калибровки."
   ]
  },
  {
   "cell_type": "markdown",
   "metadata": {},
   "source": [
    "## Настроим гиперпараметры"
   ]
  },
  {
   "cell_type": "code",
   "execution_count": 73,
   "metadata": {},
   "outputs": [],
   "source": [
    "model = LinearRegression()"
   ]
  },
  {
   "cell_type": "code",
   "execution_count": 74,
   "metadata": {},
   "outputs": [
    {
     "data": {
      "text/plain": [
       "{'copy_X': True, 'fit_intercept': True, 'n_jobs': None, 'normalize': False}"
      ]
     },
     "execution_count": 74,
     "metadata": {},
     "output_type": "execute_result"
    }
   ],
   "source": [
    "# посмотрим параметры модели\n",
    "model.get_params()"
   ]
  },
  {
   "cell_type": "code",
   "execution_count": 75,
   "metadata": {},
   "outputs": [],
   "source": [
    "# актуально настраивать n_jobs\n",
    "n_jobs = range(1,15)\n",
    "\n",
    "hyperparameter_grid = {'n_jobs': n_jobs}\n",
    "\n",
    "from sklearn.model_selection import RandomizedSearchCV\n",
    "\n",
    "random_cv = RandomizedSearchCV(estimator=model,\n",
    "    param_distributions=hyperparameter_grid,\n",
    "    n_iter=10, \n",
    "    scoring = 'neg_mean_absolute_error',\n",
    "    n_jobs = -1, verbose = 1, \n",
    "    return_train_score = True)"
   ]
  },
  {
   "cell_type": "code",
   "execution_count": 76,
   "metadata": {},
   "outputs": [
    {
     "name": "stdout",
     "output_type": "stream",
     "text": [
      "Fitting 5 folds for each of 10 candidates, totalling 50 fits\n"
     ]
    },
    {
     "name": "stderr",
     "output_type": "stream",
     "text": [
      "[Parallel(n_jobs=-1)]: Using backend LokyBackend with 8 concurrent workers.\n",
      "[Parallel(n_jobs=-1)]: Done  34 tasks      | elapsed:    1.4s\n",
      "[Parallel(n_jobs=-1)]: Done  50 out of  50 | elapsed:    1.4s finished\n"
     ]
    },
    {
     "data": {
      "text/plain": [
       "RandomizedSearchCV(estimator=LinearRegression(), n_jobs=-1,\n",
       "                   param_distributions={'n_jobs': range(1, 15)},\n",
       "                   return_train_score=True, scoring='neg_mean_absolute_error',\n",
       "                   verbose=1)"
      ]
     },
     "execution_count": 76,
     "metadata": {},
     "output_type": "execute_result"
    }
   ],
   "source": [
    "random_cv.fit(X_train_fin, y_train_fin)"
   ]
  },
  {
   "cell_type": "code",
   "execution_count": 77,
   "metadata": {},
   "outputs": [
    {
     "data": {
      "text/plain": [
       "LinearRegression(n_jobs=7)"
      ]
     },
     "execution_count": 77,
     "metadata": {},
     "output_type": "execute_result"
    }
   ],
   "source": [
    "random_cv.best_estimator_"
   ]
  },
  {
   "cell_type": "markdown",
   "metadata": {},
   "source": [
    "## Построим итоговую модель"
   ]
  },
  {
   "cell_type": "code",
   "execution_count": 78,
   "metadata": {},
   "outputs": [],
   "source": [
    "model_fin = random_cv.best_estimator_"
   ]
  },
  {
   "cell_type": "code",
   "execution_count": 79,
   "metadata": {
    "scrolled": true
   },
   "outputs": [
    {
     "data": {
      "text/plain": [
       "LinearRegression(n_jobs=7)"
      ]
     },
     "execution_count": 79,
     "metadata": {},
     "output_type": "execute_result"
    }
   ],
   "source": [
    "model_fin.fit(X_train_fin, y_train_fin)"
   ]
  },
  {
   "cell_type": "code",
   "execution_count": 80,
   "metadata": {},
   "outputs": [],
   "source": [
    "y_pred_fin = model_fin.predict(X_val)"
   ]
  },
  {
   "cell_type": "code",
   "execution_count": 81,
   "metadata": {},
   "outputs": [
    {
     "name": "stdout",
     "output_type": "stream",
     "text": [
      "mse 0.7058799089993211\n",
      "sqrt(mse) 0.8401665959792266\n",
      "avg_error 0.647953734673244\n"
     ]
    }
   ],
   "source": [
    "mse_fin = np.mean((y_val-y_pred_fin)**2)\n",
    "print('mse', mse_fin)\n",
    "print('sqrt(mse)', mse_fin**0.5)\n",
    "print('avg_error', np.mean(abs(y_val-y_pred_fin)))"
   ]
  },
  {
   "cell_type": "code",
   "execution_count": 82,
   "metadata": {},
   "outputs": [
    {
     "data": {
      "text/plain": [
       "(array([ 1.,  0.,  1.,  0.,  1.,  5.,  9.,  9.,  7., 11., 11., 11.,  7.,\n",
       "         8.,  3.,  2.,  3.,  0.,  2.,  2.]),\n",
       " array([-2.16392332, -1.93779508, -1.71166684, -1.4855386 , -1.25941036,\n",
       "        -1.03328212, -0.80715388, -0.58102564, -0.3548974 , -0.12876916,\n",
       "         0.09735908,  0.32348732,  0.54961556,  0.7757438 ,  1.00187204,\n",
       "         1.22800028,  1.45412852,  1.68025676,  1.906385  ,  2.13251324,\n",
       "         2.35864148]),\n",
       " <BarContainer object of 20 artists>)"
      ]
     },
     "execution_count": 82,
     "metadata": {},
     "output_type": "execute_result"
    },
    {
     "data": {
      "image/png": "[encoded data removed]",
      "text/plain": [
       "<Figure size 432x288 with 1 Axes>"
      ]
     },
     "metadata": {},
     "output_type": "display_data"
    }
   ],
   "source": [
    "plt.hist(y_val-y_pred_fin, bins=20)"
   ]
  },
  {
   "cell_type": "code",
   "execution_count": 83,
   "metadata": {},
   "outputs": [
    {
     "data": {
      "text/plain": [
       "0.7010793511097176"
      ]
     },
     "execution_count": 83,
     "metadata": {},
     "output_type": "execute_result"
    }
   ],
   "source": [
    "model_fin.score(X_val, y_val)"
   ]
  },
  {
   "cell_type": "markdown",
   "metadata": {},
   "source": [
    "Настройка параметров не принесла улучшения модели."
   ]
  },
  {
   "cell_type": "markdown",
   "metadata": {},
   "source": [
    "## Вывод"
   ]
  },
  {
   "cell_type": "markdown",
   "metadata": {},
   "source": [
    "Получена модель на основе линейной регрессии, которая прогнозирует количество bugs. Коэффициент детерминации модели составляет 0,70. "
   ]
  },
  {
   "cell_type": "code",
   "execution_count": 84,
   "metadata": {},
   "outputs": [],
   "source": [
    "MAE_base = np.mean(abs(y_val-np.median(y_train_fin)))\n",
    "MAE_model = np.mean(abs(y_val-y_pred_fin ))"
   ]
  },
  {
   "cell_type": "code",
   "execution_count": 85,
   "metadata": {},
   "outputs": [
    {
     "name": "stdout",
     "output_type": "stream",
     "text": [
      "Средння абсолютная ошибка:\n",
      "при прогнозе по медиане составляет 1.161290\n",
      "при прогнозе по модели составляет 0.647954\n"
     ]
    }
   ],
   "source": [
    "print('Средння абсолютная ошибка:\\n\\\n",
    "при прогнозе по медиане составляет %f\\n\\\n",
    "при прогнозе по модели составляет %f' % (MAE_base, MAE_model))\n"
   ]
  },
  {
   "cell_type": "markdown",
   "metadata": {},
   "source": [
    "Средняя абсолютная ошибка прогноза по модели на 55% меньше, чем прогноз по медиане. Модель дает новую информацию в сравнении с прогнозом по медиане.\n",
    "\n",
    "Возможные пути улучшения прогноза: более детально проработать текстовые данные коммитов, расширить перечень применяемых моделей, опробовать модели с более гибкой настройкой гиперпараметров. "
   ]
  },
  {
   "cell_type": "code",
   "execution_count": null,
   "metadata": {},
   "outputs": [],
   "source": []
  }
 ],
 "metadata": {
  "kernelspec": {
   "display_name": "Python 3",
   "language": "python",
   "name": "python3"
  },
  "language_info": {
   "codemirror_mode": {
    "name": "ipython",
    "version": 3
   },
   "file_extension": ".py",
   "mimetype": "text/x-python",
   "name": "python",
   "nbconvert_exporter": "python",
   "pygments_lexer": "ipython3",
   "version": "3.8.6"
  }
 },
 "nbformat": 4,
 "nbformat_minor": 4
}
