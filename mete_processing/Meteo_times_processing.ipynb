{
 "cells": [
  {
   "cell_type": "markdown",
   "metadata": {},
   "source": [
    "# Processing of meterological data"
   ]
  },
  {
   "cell_type": "code",
   "execution_count": 5,
   "metadata": {},
   "outputs": [],
   "source": [
    "import numpy as np\n",
    "import pandas as pd"
   ]
  },
  {
   "cell_type": "markdown",
   "metadata": {},
   "source": [
    "# Functions"
   ]
  },
  {
   "cell_type": "code",
   "execution_count": 6,
   "metadata": {},
   "outputs": [],
   "source": [
    "def Gumbel_for_one(series_of_values, name):\n",
    "    \"\"\"Calculation of Gumbel distribution for any characteristics.\n",
    "          \n",
    "        series_of_values: pd.series, import values\n",
    "        \n",
    "        name: str, name of characteristic\n",
    "    \"\"\"\n",
    "    \n",
    "    table1 = pd.read_csv('table_of_n_y.csv', delimiter = ';')\n",
    "    table2 = pd.read_csv('table_of_n_sigma.csv', delimiter = ';')\n",
    "\n",
    "    from scipy import interpolate\n",
    "    inter_y = interpolate.interp1d(table1['n'], table1['y_mean'])\n",
    "    inter_sigma = interpolate.interp1d(table2['n'], table2['sigma'])\n",
    "    \n",
    "    # \n",
    "    data = series_of_values\n",
    "    \n",
    "    MSE = data.std()\n",
    "    mean = data.mean()\n",
    "    y = inter_y(len(data))\n",
    "    sigma = inter_sigma(len(data))\n",
    "    q = mean - y * (MSE / sigma)\n",
    "\n",
    "    p_values = [0.01, 0.1, 1, 5, 10, 20, 30, 50, 63, 70, 80, 90, 95, 99, 99.9]\n",
    "    \n",
    "    p_df = pd.DataFrame(data=p_values, columns=['P_%'])\n",
    "\n",
    "    from numpy import log as ln\n",
    "    p_df['Yp'] = -ln(-ln((100 - p_df['P_%']) / 100))\n",
    "    p_df[name] = q + (MSE / sigma) * p_df['Yp']\n",
    "\n",
    "    p_df[name] = p_df[name].apply(lambda x: 0 if x < 0 else x)\n",
    "    p_df = p_df.drop('Yp', axis=1)\n",
    "    p_df.to_excel('{}.xlsx'.format(name), float_format='%.2f')\n",
    "    \n",
    "    return p_df.round(1)"
   ]
  },
  {
   "cell_type": "code",
   "execution_count": 80,
   "metadata": {},
   "outputs": [],
   "source": [
    "def year_mean_distribution (df, I, start_year, end_year):\n",
    "    \"\"\" Calculates mean value of characteristic for months and year\n",
    "        \n",
    "        df: dataframe, contains columns ['Year', 'Month', I]\n",
    "        \n",
    "        I: str, name of characteristic\n",
    "        \n",
    "        start_year: year from which the calculation begins\n",
    "        \n",
    "        end_year: year which ends the calculation\"\"\"\n",
    "    \n",
    "    import numpy as np\n",
    "    import pandas as pd\n",
    "    \n",
    "    time_names =  [1,2,3,4,5,6,7,8,9,10,11,12,'Год']\n",
    "    \n",
    "    df = df[['Year', 'Month', I]].dropna()\n",
    "    df = df[df['Year'].between(start_year, end_year)]\n",
    "    df_piv = df.pivot_table(columns='Month', index='Year', aggfunc=np.mean)\n",
    "    df_piv = df_piv.dropna(axis=0)\n",
    "    df_piv['year_value'] = df_piv.mean(axis=1)\n",
    "    df_year = df_piv.mean(axis=0).to_frame().droplevel(0, axis=0)\n",
    "    df_year.columns = [I]\n",
    "    df_year = df_year.reset_index().drop('Month', axis=1)\n",
    "\n",
    "    result = df_year.round(1).transpose()\n",
    "    result.columns = time_names\n",
    "    result.to_excel('{}.xlsx'.format(I), index=True)\n",
    "    \n",
    "#     from plotly.offline import init_notebook_mode, iplot\n",
    "#     import plotly\n",
    "#     import plotly.graph_objs as go\n",
    "#     init_notebook_mode(connected=True)\n",
    "    \n",
    "#     trace0 = go.Scatter(\n",
    "#     x = df_year.index,\n",
    "#     y = df_year.iloc[:,0].round(1),\n",
    "#     name = I)\n",
    "    \n",
    "#     data = [trace0]\n",
    "#     layout = {'title': 'Year distribution of {}'.format(I)}\n",
    "#     fig = go.Figure(data=data, layout=layout)\n",
    "#     iplot(fig, show_link=False)\n",
    "      \n",
    "    return result"
   ]
  },
  {
   "cell_type": "code",
   "execution_count": 8,
   "metadata": {},
   "outputs": [],
   "source": [
    "    def imper_table(df, char):\n",
    "        \"\"\"Calculates empirical probability values for char.\n",
    "          Need a function 'save_as_excel_table'\n",
    "\n",
    "            df: dataframe, contains columns ['Year', char]\n",
    "\n",
    "            char: str, name of characteristic\"\"\"\n",
    "    \n",
    "    \n",
    "        df.columns = ['Year', char]\n",
    "        df = df.sort_values(by=char, ascending=False).reset_index().drop('index', axis=1)\n",
    "        df['length'] = range(1, len(df)+1)\n",
    "        df['imper_probab_%'] = df['length'] / (len(df) + 1) * 100 \n",
    "        df['imper_probab_%'] = df['imper_probab_%'].round(3)\n",
    "\n",
    "\n",
    "        df = df[['length', 'Year', char, 'imper_probab_%']]\n",
    "        df.columns = ['№', 'Год', 'Значение', 'Обеспеченность P(%)']\n",
    "\n",
    "        save_as_excel_table('imper_table_of_{}'.format(char), 1 , df, '00')"
   ]
  },
  {
   "cell_type": "code",
   "execution_count": 9,
   "metadata": {},
   "outputs": [],
   "source": [
    "def save_as_excel_table(excel_file_name, sheet_name, df, float_num):\n",
    "    \"\"\"Save dataframe as xlsx file\n",
    "        excel_file_name: tr,wihtout .xlsx\n",
    "        \n",
    "        sheet_name: any, of sheet in file\n",
    "        \n",
    "        df: dataframe, ta\n",
    "        \n",
    "        float_num: numbers of float nulls. In format - '00' - means two zeros\"\"\"\n",
    "    \n",
    "    from styleframe import StyleFrame, Styler, utils\n",
    "    import openpyxl\n",
    "    \n",
    "    with StyleFrame.ExcelWriter('{}.xlsx'.format(excel_file_name)) as writer:\n",
    "        \n",
    "        sf=StyleFrame(df)\n",
    "        \n",
    "        # table\n",
    "        sf.apply_column_style(cols_to_style=df.columns, \\\n",
    "                              styler_obj=Styler(bg_color=utils.colors.white, \\\n",
    "                                                bold=False, \\\n",
    "                                                font=utils.fonts.calibri,\\\n",
    "                                                font_size=11),\n",
    "                              style_header=False)\n",
    "        \n",
    "        # header\n",
    "        sf.apply_headers_style(styler_obj=Styler(bg_color=utils.colors.white, \\\n",
    "                                                 bold=True, \\\n",
    "                                                 font_size=11, \\\n",
    "                                                 font_color=utils.colors.black,\\\n",
    "                                                 number_format=utils.number_formats.general, \\\n",
    "                                                 protection=False))\n",
    "        \n",
    "        \n",
    "        sf.to_excel(writer, sheet_name=str(sheet_name), index = False)\n",
    "        writer.save()\n",
    "        \n",
    "    import openpyxl  \n",
    "    wb = openpyxl.load_workbook(filename = '{}.xlsx'.format(excel_file_name))\n",
    "    ws = wb['{}'.format(str(sheet_name))]\n",
    "    \n",
    "    \n",
    "    for x in range(1,51):\n",
    "        for y in range(1,51):\n",
    "            ws.cell(row=x, column=y).number_format = '0.{}'.format(float_num)\n",
    "    wb.save('{}.xlsx'.format(excel_file_name))\n",
    "             \n",
    "        \n",
    "    return(print('result in file \"{}.xlsx\"'.format(excel_file_name)))"
   ]
  },
  {
   "cell_type": "markdown",
   "metadata": {},
   "source": [
    "# Data"
   ]
  },
  {
   "cell_type": "code",
   "execution_count": 10,
   "metadata": {},
   "outputs": [],
   "source": [
    "df = pd.read_csv('sroki_1.csv', delimiter=';')"
   ]
  },
  {
   "cell_type": "code",
   "execution_count": 11,
   "metadata": {},
   "outputs": [
    {
     "data": {
      "text/html": [
       "<div>\n",
       "<style scoped>\n",
       "    .dataframe tbody tr th:only-of-type {\n",
       "        vertical-align: middle;\n",
       "    }\n",
       "\n",
       "    .dataframe tbody tr th {\n",
       "        vertical-align: top;\n",
       "    }\n",
       "\n",
       "    .dataframe thead th {\n",
       "        text-align: right;\n",
       "    }\n",
       "</style>\n",
       "<table border=\"1\" class=\"dataframe\">\n",
       "  <thead>\n",
       "    <tr style=\"text-align: right;\">\n",
       "      <th></th>\n",
       "      <th>ID</th>\n",
       "      <th>Year</th>\n",
       "      <th>Month</th>\n",
       "      <th>Day</th>\n",
       "      <th>Time</th>\n",
       "      <th>Wind_dir</th>\n",
       "      <th>Wind_vel_mean</th>\n",
       "      <th>Wind_vel_max</th>\n",
       "      <th>Humidity</th>\n",
       "      <th>Pressure_st</th>\n",
       "      <th>Pressure_sea</th>\n",
       "    </tr>\n",
       "  </thead>\n",
       "  <tbody>\n",
       "    <tr>\n",
       "      <th>0</th>\n",
       "      <td>30965</td>\n",
       "      <td>1966</td>\n",
       "      <td>1</td>\n",
       "      <td>1</td>\n",
       "      <td>18</td>\n",
       "      <td>70.0</td>\n",
       "      <td>3.0</td>\n",
       "      <td>NaN</td>\n",
       "      <td>74.0</td>\n",
       "      <td>941.2</td>\n",
       "      <td>NaN</td>\n",
       "    </tr>\n",
       "    <tr>\n",
       "      <th>1</th>\n",
       "      <td>30965</td>\n",
       "      <td>1966</td>\n",
       "      <td>1</td>\n",
       "      <td>1</td>\n",
       "      <td>21</td>\n",
       "      <td>70.0</td>\n",
       "      <td>3.0</td>\n",
       "      <td>NaN</td>\n",
       "      <td>74.0</td>\n",
       "      <td>941.1</td>\n",
       "      <td>NaN</td>\n",
       "    </tr>\n",
       "    <tr>\n",
       "      <th>2</th>\n",
       "      <td>30965</td>\n",
       "      <td>1966</td>\n",
       "      <td>1</td>\n",
       "      <td>1</td>\n",
       "      <td>0</td>\n",
       "      <td>70.0</td>\n",
       "      <td>3.0</td>\n",
       "      <td>NaN</td>\n",
       "      <td>74.0</td>\n",
       "      <td>941.6</td>\n",
       "      <td>NaN</td>\n",
       "    </tr>\n",
       "    <tr>\n",
       "      <th>3</th>\n",
       "      <td>30965</td>\n",
       "      <td>1966</td>\n",
       "      <td>1</td>\n",
       "      <td>1</td>\n",
       "      <td>3</td>\n",
       "      <td>90.0</td>\n",
       "      <td>1.0</td>\n",
       "      <td>NaN</td>\n",
       "      <td>75.0</td>\n",
       "      <td>942.5</td>\n",
       "      <td>NaN</td>\n",
       "    </tr>\n",
       "    <tr>\n",
       "      <th>4</th>\n",
       "      <td>30965</td>\n",
       "      <td>1966</td>\n",
       "      <td>1</td>\n",
       "      <td>1</td>\n",
       "      <td>6</td>\n",
       "      <td>0.0</td>\n",
       "      <td>0.0</td>\n",
       "      <td>NaN</td>\n",
       "      <td>74.0</td>\n",
       "      <td>943.4</td>\n",
       "      <td>NaN</td>\n",
       "    </tr>\n",
       "    <tr>\n",
       "      <th>...</th>\n",
       "      <td>...</td>\n",
       "      <td>...</td>\n",
       "      <td>...</td>\n",
       "      <td>...</td>\n",
       "      <td>...</td>\n",
       "      <td>...</td>\n",
       "      <td>...</td>\n",
       "      <td>...</td>\n",
       "      <td>...</td>\n",
       "      <td>...</td>\n",
       "      <td>...</td>\n",
       "    </tr>\n",
       "    <tr>\n",
       "      <th>158027</th>\n",
       "      <td>30965</td>\n",
       "      <td>2020</td>\n",
       "      <td>1</td>\n",
       "      <td>31</td>\n",
       "      <td>0</td>\n",
       "      <td>31.0</td>\n",
       "      <td>1.0</td>\n",
       "      <td>2.0</td>\n",
       "      <td>74.0</td>\n",
       "      <td>937.8</td>\n",
       "      <td>1029.1</td>\n",
       "    </tr>\n",
       "    <tr>\n",
       "      <th>158028</th>\n",
       "      <td>30965</td>\n",
       "      <td>2020</td>\n",
       "      <td>1</td>\n",
       "      <td>31</td>\n",
       "      <td>3</td>\n",
       "      <td>206.0</td>\n",
       "      <td>1.0</td>\n",
       "      <td>3.0</td>\n",
       "      <td>75.0</td>\n",
       "      <td>938.4</td>\n",
       "      <td>1027.8</td>\n",
       "    </tr>\n",
       "    <tr>\n",
       "      <th>158029</th>\n",
       "      <td>30965</td>\n",
       "      <td>2020</td>\n",
       "      <td>1</td>\n",
       "      <td>31</td>\n",
       "      <td>6</td>\n",
       "      <td>282.0</td>\n",
       "      <td>3.0</td>\n",
       "      <td>5.0</td>\n",
       "      <td>67.0</td>\n",
       "      <td>937.8</td>\n",
       "      <td>1024.9</td>\n",
       "    </tr>\n",
       "    <tr>\n",
       "      <th>158030</th>\n",
       "      <td>30965</td>\n",
       "      <td>2020</td>\n",
       "      <td>1</td>\n",
       "      <td>31</td>\n",
       "      <td>9</td>\n",
       "      <td>0.0</td>\n",
       "      <td>0.0</td>\n",
       "      <td>5.0</td>\n",
       "      <td>72.0</td>\n",
       "      <td>938.8</td>\n",
       "      <td>1026.2</td>\n",
       "    </tr>\n",
       "    <tr>\n",
       "      <th>158031</th>\n",
       "      <td>30965</td>\n",
       "      <td>2020</td>\n",
       "      <td>1</td>\n",
       "      <td>31</td>\n",
       "      <td>12</td>\n",
       "      <td>257.0</td>\n",
       "      <td>2.0</td>\n",
       "      <td>3.0</td>\n",
       "      <td>83.0</td>\n",
       "      <td>939.5</td>\n",
       "      <td>1027.6</td>\n",
       "    </tr>\n",
       "  </tbody>\n",
       "</table>\n",
       "<p>158032 rows × 11 columns</p>\n",
       "</div>"
      ],
      "text/plain": [
       "           ID  Year  Month  Day  Time  Wind_dir  Wind_vel_mean  Wind_vel_max  \\\n",
       "0       30965  1966      1    1    18      70.0            3.0           NaN   \n",
       "1       30965  1966      1    1    21      70.0            3.0           NaN   \n",
       "2       30965  1966      1    1     0      70.0            3.0           NaN   \n",
       "3       30965  1966      1    1     3      90.0            1.0           NaN   \n",
       "4       30965  1966      1    1     6       0.0            0.0           NaN   \n",
       "...       ...   ...    ...  ...   ...       ...            ...           ...   \n",
       "158027  30965  2020      1   31     0      31.0            1.0           2.0   \n",
       "158028  30965  2020      1   31     3     206.0            1.0           3.0   \n",
       "158029  30965  2020      1   31     6     282.0            3.0           5.0   \n",
       "158030  30965  2020      1   31     9       0.0            0.0           5.0   \n",
       "158031  30965  2020      1   31    12     257.0            2.0           3.0   \n",
       "\n",
       "        Humidity  Pressure_st  Pressure_sea  \n",
       "0           74.0        941.2           NaN  \n",
       "1           74.0        941.1           NaN  \n",
       "2           74.0        941.6           NaN  \n",
       "3           75.0        942.5           NaN  \n",
       "4           74.0        943.4           NaN  \n",
       "...          ...          ...           ...  \n",
       "158027      74.0        937.8        1029.1  \n",
       "158028      75.0        938.4        1027.8  \n",
       "158029      67.0        937.8        1024.9  \n",
       "158030      72.0        938.8        1026.2  \n",
       "158031      83.0        939.5        1027.6  \n",
       "\n",
       "[158032 rows x 11 columns]"
      ]
     },
     "execution_count": 11,
     "metadata": {},
     "output_type": "execute_result"
    }
   ],
   "source": [
    "df"
   ]
  },
  {
   "cell_type": "markdown",
   "metadata": {},
   "source": [
    "# Wind\n",
    "## Maximum velocity"
   ]
  },
  {
   "cell_type": "code",
   "execution_count": 12,
   "metadata": {},
   "outputs": [
    {
     "name": "stdout",
     "output_type": "stream",
     "text": [
      "<class 'pandas.core.frame.DataFrame'>\n",
      "RangeIndex: 158032 entries, 0 to 158031\n",
      "Data columns (total 5 columns):\n",
      " #   Column        Non-Null Count   Dtype  \n",
      "---  ------        --------------   -----  \n",
      " 0   Year          158032 non-null  int64  \n",
      " 1   Month         158032 non-null  int64  \n",
      " 2   Day           158032 non-null  int64  \n",
      " 3   Time          158032 non-null  int64  \n",
      " 4   Wind_vel_max  125885 non-null  float64\n",
      "dtypes: float64(1), int64(4)\n",
      "memory usage: 6.0 MB\n"
     ]
    }
   ],
   "source": [
    "wind_max = df[['Year', 'Month', 'Day', 'Time', 'Wind_vel_max']]\n",
    "wind_max.info()"
   ]
  },
  {
   "cell_type": "code",
   "execution_count": 13,
   "metadata": {},
   "outputs": [
    {
     "data": {
      "text/plain": [
       "Year                0\n",
       "Month               0\n",
       "Day                 0\n",
       "Time                0\n",
       "Wind_vel_max    32147\n",
       "dtype: int64"
      ]
     },
     "execution_count": 13,
     "metadata": {},
     "output_type": "execute_result"
    }
   ],
   "source": [
    "wind_max.isnull().sum()"
   ]
  },
  {
   "cell_type": "code",
   "execution_count": 14,
   "metadata": {},
   "outputs": [],
   "source": [
    "wind_max = wind_max.dropna(axis=0)\n",
    "wind_max = wind_max[wind_max['Year'].between(1977, 2019)]"
   ]
  },
  {
   "cell_type": "code",
   "execution_count": 15,
   "metadata": {},
   "outputs": [
    {
     "name": "stdout",
     "output_type": "stream",
     "text": [
      "<class 'pandas.core.frame.DataFrame'>\n",
      "Int64Index: 125637 entries, 32144 to 157783\n",
      "Data columns (total 5 columns):\n",
      " #   Column        Non-Null Count   Dtype  \n",
      "---  ------        --------------   -----  \n",
      " 0   Year          125637 non-null  int64  \n",
      " 1   Month         125637 non-null  int64  \n",
      " 2   Day           125637 non-null  int64  \n",
      " 3   Time          125637 non-null  int64  \n",
      " 4   Wind_vel_max  125637 non-null  float64\n",
      "dtypes: float64(1), int64(4)\n",
      "memory usage: 5.8 MB\n"
     ]
    }
   ],
   "source": [
    "wind_max.info()"
   ]
  },
  {
   "cell_type": "code",
   "execution_count": 16,
   "metadata": {},
   "outputs": [
    {
     "name": "stdout",
     "output_type": "stream",
     "text": [
      "<class 'pandas.core.frame.DataFrame'>\n",
      "Int64Index: 123609 entries, 32144 to 157783\n",
      "Data columns (total 5 columns):\n",
      " #   Column        Non-Null Count   Dtype  \n",
      "---  ------        --------------   -----  \n",
      " 0   Year          123609 non-null  int64  \n",
      " 1   Month         123609 non-null  int64  \n",
      " 2   Day           123609 non-null  int64  \n",
      " 3   Time          123609 non-null  int64  \n",
      " 4   Wind_vel_max  123609 non-null  float64\n",
      "dtypes: float64(1), int64(4)\n",
      "memory usage: 5.7 MB\n"
     ]
    }
   ],
   "source": [
    "index_to_drop = wind_max[wind_max['Wind_vel_max']==0].index\n",
    "wind_max_dropped = wind_max.drop(index_to_drop, axis=0)\n",
    "wind_max_dropped.info()"
   ]
  },
  {
   "cell_type": "code",
   "execution_count": 17,
   "metadata": {},
   "outputs": [
    {
     "data": {
      "text/plain": [
       "Year\n",
       "1977    26.0\n",
       "1978    20.0\n",
       "1979    24.0\n",
       "1980    24.0\n",
       "1981    34.0\n",
       "1982    27.0\n",
       "1983    28.0\n",
       "1984    29.0\n",
       "1985    29.0\n",
       "1986    24.0\n",
       "1987    24.0\n",
       "1988    26.0\n",
       "1989    25.0\n",
       "1990    27.0\n",
       "1991    23.0\n",
       "1992    23.0\n",
       "1993    24.0\n",
       "1994    24.0\n",
       "1995    26.0\n",
       "1996    24.0\n",
       "1997    24.0\n",
       "1998    24.0\n",
       "1999    28.0\n",
       "2000    24.0\n",
       "2001    27.0\n",
       "2002    20.0\n",
       "2003    34.0\n",
       "2004    31.0\n",
       "2005    23.0\n",
       "2006    20.0\n",
       "2007    23.0\n",
       "2008    28.0\n",
       "2009    27.0\n",
       "2010    21.0\n",
       "2011    24.0\n",
       "2012    24.0\n",
       "2013    23.0\n",
       "2014    20.0\n",
       "2015    20.0\n",
       "2016    34.0\n",
       "2017    27.0\n",
       "2018    25.0\n",
       "2019    24.0\n",
       "Name: Wind_vel_max, dtype: float64"
      ]
     },
     "execution_count": 17,
     "metadata": {},
     "output_type": "execute_result"
    }
   ],
   "source": [
    "wind_maximum = wind_max_dropped.groupby('Year')['Wind_vel_max'].max()\n",
    "wind_maximum "
   ]
  },
  {
   "cell_type": "code",
   "execution_count": 19,
   "metadata": {},
   "outputs": [
    {
     "data": {
      "text/html": [
       "<div>\n",
       "<style scoped>\n",
       "    .dataframe tbody tr th:only-of-type {\n",
       "        vertical-align: middle;\n",
       "    }\n",
       "\n",
       "    .dataframe tbody tr th {\n",
       "        vertical-align: top;\n",
       "    }\n",
       "\n",
       "    .dataframe thead th {\n",
       "        text-align: right;\n",
       "    }\n",
       "</style>\n",
       "<table border=\"1\" class=\"dataframe\">\n",
       "  <thead>\n",
       "    <tr style=\"text-align: right;\">\n",
       "      <th></th>\n",
       "      <th>P_%</th>\n",
       "      <th>wind_max</th>\n",
       "    </tr>\n",
       "  </thead>\n",
       "  <tbody>\n",
       "    <tr>\n",
       "      <th>0</th>\n",
       "      <td>0.0</td>\n",
       "      <td>52.1</td>\n",
       "    </tr>\n",
       "    <tr>\n",
       "      <th>1</th>\n",
       "      <td>0.1</td>\n",
       "      <td>45.0</td>\n",
       "    </tr>\n",
       "    <tr>\n",
       "      <th>2</th>\n",
       "      <td>1.0</td>\n",
       "      <td>37.8</td>\n",
       "    </tr>\n",
       "    <tr>\n",
       "      <th>3</th>\n",
       "      <td>5.0</td>\n",
       "      <td>32.8</td>\n",
       "    </tr>\n",
       "    <tr>\n",
       "      <th>4</th>\n",
       "      <td>10.0</td>\n",
       "      <td>30.5</td>\n",
       "    </tr>\n",
       "    <tr>\n",
       "      <th>5</th>\n",
       "      <td>20.0</td>\n",
       "      <td>28.2</td>\n",
       "    </tr>\n",
       "    <tr>\n",
       "      <th>6</th>\n",
       "      <td>30.0</td>\n",
       "      <td>26.8</td>\n",
       "    </tr>\n",
       "    <tr>\n",
       "      <th>7</th>\n",
       "      <td>50.0</td>\n",
       "      <td>24.7</td>\n",
       "    </tr>\n",
       "    <tr>\n",
       "      <th>8</th>\n",
       "      <td>63.0</td>\n",
       "      <td>23.6</td>\n",
       "    </tr>\n",
       "    <tr>\n",
       "      <th>9</th>\n",
       "      <td>70.0</td>\n",
       "      <td>23.0</td>\n",
       "    </tr>\n",
       "    <tr>\n",
       "      <th>10</th>\n",
       "      <td>80.0</td>\n",
       "      <td>22.1</td>\n",
       "    </tr>\n",
       "    <tr>\n",
       "      <th>11</th>\n",
       "      <td>90.0</td>\n",
       "      <td>21.0</td>\n",
       "    </tr>\n",
       "    <tr>\n",
       "      <th>12</th>\n",
       "      <td>95.0</td>\n",
       "      <td>20.2</td>\n",
       "    </tr>\n",
       "    <tr>\n",
       "      <th>13</th>\n",
       "      <td>99.0</td>\n",
       "      <td>18.8</td>\n",
       "    </tr>\n",
       "    <tr>\n",
       "      <th>14</th>\n",
       "      <td>99.9</td>\n",
       "      <td>17.6</td>\n",
       "    </tr>\n",
       "  </tbody>\n",
       "</table>\n",
       "</div>"
      ],
      "text/plain": [
       "     P_%  wind_max\n",
       "0    0.0      52.1\n",
       "1    0.1      45.0\n",
       "2    1.0      37.8\n",
       "3    5.0      32.8\n",
       "4   10.0      30.5\n",
       "5   20.0      28.2\n",
       "6   30.0      26.8\n",
       "7   50.0      24.7\n",
       "8   63.0      23.6\n",
       "9   70.0      23.0\n",
       "10  80.0      22.1\n",
       "11  90.0      21.0\n",
       "12  95.0      20.2\n",
       "13  99.0      18.8\n",
       "14  99.9      17.6"
      ]
     },
     "execution_count": 19,
     "metadata": {},
     "output_type": "execute_result"
    }
   ],
   "source": [
    "Gumbel_for_one(wind_maximum, 'wind_max')"
   ]
  },
  {
   "cell_type": "code",
   "execution_count": 20,
   "metadata": {},
   "outputs": [
    {
     "name": "stdout",
     "output_type": "stream",
     "text": [
      "result in file \"imper_table_of_wind_max.xlsx\"\n"
     ]
    }
   ],
   "source": [
    "imper_table(wind_maximum.to_frame().reset_index(), 'wind_max')"
   ]
  },
  {
   "cell_type": "markdown",
   "metadata": {},
   "source": [
    "## Average velocity"
   ]
  },
  {
   "cell_type": "code",
   "execution_count": 21,
   "metadata": {},
   "outputs": [
    {
     "name": "stdout",
     "output_type": "stream",
     "text": [
      "<class 'pandas.core.frame.DataFrame'>\n",
      "RangeIndex: 158032 entries, 0 to 158031\n",
      "Data columns (total 5 columns):\n",
      " #   Column         Non-Null Count   Dtype  \n",
      "---  ------         --------------   -----  \n",
      " 0   Year           158032 non-null  int64  \n",
      " 1   Month          158032 non-null  int64  \n",
      " 2   Day            158032 non-null  int64  \n",
      " 3   Time           158032 non-null  int64  \n",
      " 4   Wind_vel_mean  158024 non-null  float64\n",
      "dtypes: float64(1), int64(4)\n",
      "memory usage: 6.0 MB\n"
     ]
    }
   ],
   "source": [
    "wind_av = df[['Year', 'Month', 'Day', 'Time', 'Wind_vel_mean']]\n",
    "wind_av.info()"
   ]
  },
  {
   "cell_type": "code",
   "execution_count": 22,
   "metadata": {},
   "outputs": [
    {
     "name": "stdout",
     "output_type": "stream",
     "text": [
      "<class 'pandas.core.frame.DataFrame'>\n",
      "Int64Index: 158024 entries, 0 to 158031\n",
      "Data columns (total 5 columns):\n",
      " #   Column         Non-Null Count   Dtype  \n",
      "---  ------         --------------   -----  \n",
      " 0   Year           158024 non-null  int64  \n",
      " 1   Month          158024 non-null  int64  \n",
      " 2   Day            158024 non-null  int64  \n",
      " 3   Time           158024 non-null  int64  \n",
      " 4   Wind_vel_mean  158024 non-null  float64\n",
      "dtypes: float64(1), int64(4)\n",
      "memory usage: 7.2 MB\n"
     ]
    }
   ],
   "source": [
    "wand_av = wind_av.dropna(axis=0)\n",
    "wand_av.info()"
   ]
  },
  {
   "cell_type": "code",
   "execution_count": 81,
   "metadata": {},
   "outputs": [
    {
     "data": {
      "text/html": [
       "<div>\n",
       "<style scoped>\n",
       "    .dataframe tbody tr th:only-of-type {\n",
       "        vertical-align: middle;\n",
       "    }\n",
       "\n",
       "    .dataframe tbody tr th {\n",
       "        vertical-align: top;\n",
       "    }\n",
       "\n",
       "    .dataframe thead th {\n",
       "        text-align: right;\n",
       "    }\n",
       "</style>\n",
       "<table border=\"1\" class=\"dataframe\">\n",
       "  <thead>\n",
       "    <tr style=\"text-align: right;\">\n",
       "      <th></th>\n",
       "      <th>1</th>\n",
       "      <th>2</th>\n",
       "      <th>3</th>\n",
       "      <th>4</th>\n",
       "      <th>5</th>\n",
       "      <th>6</th>\n",
       "      <th>7</th>\n",
       "      <th>8</th>\n",
       "      <th>9</th>\n",
       "      <th>10</th>\n",
       "      <th>11</th>\n",
       "      <th>12</th>\n",
       "      <th>Год</th>\n",
       "    </tr>\n",
       "  </thead>\n",
       "  <tbody>\n",
       "    <tr>\n",
       "      <th>Wind_vel_mean</th>\n",
       "      <td>1.8</td>\n",
       "      <td>2.2</td>\n",
       "      <td>3.2</td>\n",
       "      <td>4.3</td>\n",
       "      <td>4.3</td>\n",
       "      <td>3.3</td>\n",
       "      <td>2.9</td>\n",
       "      <td>2.8</td>\n",
       "      <td>3.1</td>\n",
       "      <td>3.1</td>\n",
       "      <td>2.4</td>\n",
       "      <td>1.8</td>\n",
       "      <td>2.9</td>\n",
       "    </tr>\n",
       "  </tbody>\n",
       "</table>\n",
       "</div>"
      ],
      "text/plain": [
       "                 1    2    3    4    5    6    7    8    9   10   11   12  Год\n",
       "Wind_vel_mean  1.8  2.2  3.2  4.3  4.3  3.3  2.9  2.8  3.1  3.1  2.4  1.8  2.9"
      ]
     },
     "execution_count": 81,
     "metadata": {},
     "output_type": "execute_result"
    }
   ],
   "source": [
    "year_mean_distribution (wind_av, 'Wind_vel_mean', 1966, 2019)"
   ]
  },
  {
   "cell_type": "code",
   "execution_count": 24,
   "metadata": {},
   "outputs": [
    {
     "data": {
      "text/html": [
       "<div>\n",
       "<style scoped>\n",
       "    .dataframe tbody tr th:only-of-type {\n",
       "        vertical-align: middle;\n",
       "    }\n",
       "\n",
       "    .dataframe tbody tr th {\n",
       "        vertical-align: top;\n",
       "    }\n",
       "\n",
       "    .dataframe thead th {\n",
       "        text-align: right;\n",
       "    }\n",
       "</style>\n",
       "<table border=\"1\" class=\"dataframe\">\n",
       "  <thead>\n",
       "    <tr style=\"text-align: right;\">\n",
       "      <th></th>\n",
       "      <th>P_%</th>\n",
       "      <th>wind_av_vel_Gumbel</th>\n",
       "    </tr>\n",
       "  </thead>\n",
       "  <tbody>\n",
       "    <tr>\n",
       "      <th>0</th>\n",
       "      <td>0.0</td>\n",
       "      <td>5.7</td>\n",
       "    </tr>\n",
       "    <tr>\n",
       "      <th>1</th>\n",
       "      <td>0.1</td>\n",
       "      <td>4.9</td>\n",
       "    </tr>\n",
       "    <tr>\n",
       "      <th>2</th>\n",
       "      <td>1.0</td>\n",
       "      <td>4.2</td>\n",
       "    </tr>\n",
       "    <tr>\n",
       "      <th>3</th>\n",
       "      <td>5.0</td>\n",
       "      <td>3.7</td>\n",
       "    </tr>\n",
       "    <tr>\n",
       "      <th>4</th>\n",
       "      <td>10.0</td>\n",
       "      <td>3.4</td>\n",
       "    </tr>\n",
       "    <tr>\n",
       "      <th>5</th>\n",
       "      <td>20.0</td>\n",
       "      <td>3.2</td>\n",
       "    </tr>\n",
       "    <tr>\n",
       "      <th>6</th>\n",
       "      <td>30.0</td>\n",
       "      <td>3.1</td>\n",
       "    </tr>\n",
       "    <tr>\n",
       "      <th>7</th>\n",
       "      <td>50.0</td>\n",
       "      <td>2.8</td>\n",
       "    </tr>\n",
       "    <tr>\n",
       "      <th>8</th>\n",
       "      <td>63.0</td>\n",
       "      <td>2.7</td>\n",
       "    </tr>\n",
       "    <tr>\n",
       "      <th>9</th>\n",
       "      <td>70.0</td>\n",
       "      <td>2.7</td>\n",
       "    </tr>\n",
       "    <tr>\n",
       "      <th>10</th>\n",
       "      <td>80.0</td>\n",
       "      <td>2.6</td>\n",
       "    </tr>\n",
       "    <tr>\n",
       "      <th>11</th>\n",
       "      <td>90.0</td>\n",
       "      <td>2.5</td>\n",
       "    </tr>\n",
       "    <tr>\n",
       "      <th>12</th>\n",
       "      <td>95.0</td>\n",
       "      <td>2.4</td>\n",
       "    </tr>\n",
       "    <tr>\n",
       "      <th>13</th>\n",
       "      <td>99.0</td>\n",
       "      <td>2.2</td>\n",
       "    </tr>\n",
       "    <tr>\n",
       "      <th>14</th>\n",
       "      <td>99.9</td>\n",
       "      <td>2.1</td>\n",
       "    </tr>\n",
       "  </tbody>\n",
       "</table>\n",
       "</div>"
      ],
      "text/plain": [
       "     P_%  wind_av_vel_Gumbel\n",
       "0    0.0                 5.7\n",
       "1    0.1                 4.9\n",
       "2    1.0                 4.2\n",
       "3    5.0                 3.7\n",
       "4   10.0                 3.4\n",
       "5   20.0                 3.2\n",
       "6   30.0                 3.1\n",
       "7   50.0                 2.8\n",
       "8   63.0                 2.7\n",
       "9   70.0                 2.7\n",
       "10  80.0                 2.6\n",
       "11  90.0                 2.5\n",
       "12  95.0                 2.4\n",
       "13  99.0                 2.2\n",
       "14  99.9                 2.1"
      ]
     },
     "execution_count": 24,
     "metadata": {},
     "output_type": "execute_result"
    }
   ],
   "source": [
    "Gumbel_for_one(wind_av.groupby('Year')['Wind_vel_mean'].mean(), 'wind_av_vel_Gumbel')"
   ]
  },
  {
   "cell_type": "code",
   "execution_count": 25,
   "metadata": {},
   "outputs": [
    {
     "name": "stdout",
     "output_type": "stream",
     "text": [
      "result in file \"imper_table_of_Wind_vel_mean.xlsx\"\n"
     ]
    }
   ],
   "source": [
    "df_av_imp = wind_av.groupby('Year')['Wind_vel_mean'].mean().to_frame().reset_index()\n",
    "imper_table(df_av_imp, 'Wind_vel_mean')"
   ]
  },
  {
   "cell_type": "markdown",
   "metadata": {},
   "source": [
    "## Repeability"
   ]
  },
  {
   "cell_type": "code",
   "execution_count": 26,
   "metadata": {},
   "outputs": [],
   "source": [
    "wind_rep = df[['Year', 'Month', 'Day', 'Time', 'Wind_dir']]\n",
    "wind_rep = wind_rep[wind_rep['Year'].between(1977, 2019)]"
   ]
  },
  {
   "cell_type": "code",
   "execution_count": 27,
   "metadata": {},
   "outputs": [
    {
     "name": "stdout",
     "output_type": "stream",
     "text": [
      "<class 'pandas.core.frame.DataFrame'>\n",
      "Int64Index: 125637 entries, 32144 to 157783\n",
      "Data columns (total 5 columns):\n",
      " #   Column    Non-Null Count   Dtype  \n",
      "---  ------    --------------   -----  \n",
      " 0   Year      125637 non-null  int64  \n",
      " 1   Month     125637 non-null  int64  \n",
      " 2   Day       125637 non-null  int64  \n",
      " 3   Time      125637 non-null  int64  \n",
      " 4   Wind_dir  125637 non-null  float64\n",
      "dtypes: float64(1), int64(4)\n",
      "memory usage: 5.8 MB\n"
     ]
    }
   ],
   "source": [
    "wind_rep = wind_rep.dropna(axis=0)\n",
    "wind_rep.info()"
   ]
  },
  {
   "cell_type": "code",
   "execution_count": 28,
   "metadata": {},
   "outputs": [
    {
     "data": {
      "text/plain": [
       "32144       0\n",
       "32145      70\n",
       "32146       0\n",
       "32147      70\n",
       "32148       0\n",
       "         ... \n",
       "157779    215\n",
       "157780    280\n",
       "157781    258\n",
       "157782    218\n",
       "157783    203\n",
       "Name: Wind_dir, Length: 125637, dtype: int64"
      ]
     },
     "execution_count": 28,
     "metadata": {},
     "output_type": "execute_result"
    }
   ],
   "source": [
    "wind_rep['Wind_dir'].astype('int64')"
   ]
  },
  {
   "cell_type": "code",
   "execution_count": 29,
   "metadata": {},
   "outputs": [
    {
     "data": {
      "text/plain": [
       "[range(1, 23),\n",
       " range(23, 68),\n",
       " range(68, 113),\n",
       " range(113, 158),\n",
       " range(158, 203),\n",
       " range(203, 248),\n",
       " range(248, 293),\n",
       " range(293, 338),\n",
       " range(338, 361),\n",
       " [0]]"
      ]
     },
     "execution_count": 29,
     "metadata": {},
     "output_type": "execute_result"
    }
   ],
   "source": [
    "# cardinal points\n",
    "N1 = range(1, 23)\n",
    "NE = range(23, 68)\n",
    "E = range(68, 113)\n",
    "SE = range(113, 158)\n",
    "S = range(158, 203)\n",
    "SW = range(203, 248)\n",
    "W = range(248, 293) \n",
    "NW = range(293, 338)\n",
    "N2 = range(338, 361)\n",
    "calm = [0]\n",
    "\n",
    "CP = [N1, NE, E, SE, S, SW, W, NW, N2, calm]\n",
    "CP"
   ]
  },
  {
   "cell_type": "code",
   "execution_count": 30,
   "metadata": {},
   "outputs": [],
   "source": [
    "# cardinal_points = {'N1': range(0, 22), 'NE': range(23, 67), 'E': range(68, 112), 'SE': range(113, 157), 'S': range(158, 202),\n",
    "#                    'SW': range(203, 247), 'W': range(248, 292) , 'NW':range(293, 337), 'N2': range(338, 360), 'calm': 0}"
   ]
  },
  {
   "cell_type": "code",
   "execution_count": 31,
   "metadata": {},
   "outputs": [],
   "source": [
    "#type(list(cardinal_points.values()))"
   ]
  },
  {
   "cell_type": "code",
   "execution_count": 44,
   "metadata": {},
   "outputs": [
    {
     "data": {
      "text/html": [
       "<div>\n",
       "<style scoped>\n",
       "    .dataframe tbody tr th:only-of-type {\n",
       "        vertical-align: middle;\n",
       "    }\n",
       "\n",
       "    .dataframe tbody tr th {\n",
       "        vertical-align: top;\n",
       "    }\n",
       "\n",
       "    .dataframe thead th {\n",
       "        text-align: right;\n",
       "    }\n",
       "</style>\n",
       "<table border=\"1\" class=\"dataframe\">\n",
       "  <thead>\n",
       "    <tr style=\"text-align: right;\">\n",
       "      <th></th>\n",
       "      <th>Year</th>\n",
       "      <th>Month</th>\n",
       "      <th>Day</th>\n",
       "      <th>Time</th>\n",
       "      <th>Wind_dir</th>\n",
       "    </tr>\n",
       "  </thead>\n",
       "  <tbody>\n",
       "    <tr>\n",
       "      <th>32144</th>\n",
       "      <td>1977</td>\n",
       "      <td>1</td>\n",
       "      <td>1</td>\n",
       "      <td>18</td>\n",
       "      <td>0</td>\n",
       "    </tr>\n",
       "    <tr>\n",
       "      <th>32145</th>\n",
       "      <td>1977</td>\n",
       "      <td>1</td>\n",
       "      <td>1</td>\n",
       "      <td>21</td>\n",
       "      <td>70</td>\n",
       "    </tr>\n",
       "    <tr>\n",
       "      <th>32146</th>\n",
       "      <td>1977</td>\n",
       "      <td>1</td>\n",
       "      <td>1</td>\n",
       "      <td>0</td>\n",
       "      <td>0</td>\n",
       "    </tr>\n",
       "    <tr>\n",
       "      <th>32147</th>\n",
       "      <td>1977</td>\n",
       "      <td>1</td>\n",
       "      <td>1</td>\n",
       "      <td>3</td>\n",
       "      <td>70</td>\n",
       "    </tr>\n",
       "    <tr>\n",
       "      <th>32148</th>\n",
       "      <td>1977</td>\n",
       "      <td>1</td>\n",
       "      <td>1</td>\n",
       "      <td>6</td>\n",
       "      <td>0</td>\n",
       "    </tr>\n",
       "    <tr>\n",
       "      <th>...</th>\n",
       "      <td>...</td>\n",
       "      <td>...</td>\n",
       "      <td>...</td>\n",
       "      <td>...</td>\n",
       "      <td>...</td>\n",
       "    </tr>\n",
       "    <tr>\n",
       "      <th>157779</th>\n",
       "      <td>2019</td>\n",
       "      <td>12</td>\n",
       "      <td>31</td>\n",
       "      <td>0</td>\n",
       "      <td>215</td>\n",
       "    </tr>\n",
       "    <tr>\n",
       "      <th>157780</th>\n",
       "      <td>2019</td>\n",
       "      <td>12</td>\n",
       "      <td>31</td>\n",
       "      <td>3</td>\n",
       "      <td>280</td>\n",
       "    </tr>\n",
       "    <tr>\n",
       "      <th>157781</th>\n",
       "      <td>2019</td>\n",
       "      <td>12</td>\n",
       "      <td>31</td>\n",
       "      <td>6</td>\n",
       "      <td>258</td>\n",
       "    </tr>\n",
       "    <tr>\n",
       "      <th>157782</th>\n",
       "      <td>2019</td>\n",
       "      <td>12</td>\n",
       "      <td>31</td>\n",
       "      <td>9</td>\n",
       "      <td>218</td>\n",
       "    </tr>\n",
       "    <tr>\n",
       "      <th>157783</th>\n",
       "      <td>2019</td>\n",
       "      <td>12</td>\n",
       "      <td>31</td>\n",
       "      <td>12</td>\n",
       "      <td>203</td>\n",
       "    </tr>\n",
       "  </tbody>\n",
       "</table>\n",
       "<p>125637 rows × 5 columns</p>\n",
       "</div>"
      ],
      "text/plain": [
       "        Year  Month  Day  Time  Wind_dir\n",
       "32144   1977      1    1    18         0\n",
       "32145   1977      1    1    21        70\n",
       "32146   1977      1    1     0         0\n",
       "32147   1977      1    1     3        70\n",
       "32148   1977      1    1     6         0\n",
       "...      ...    ...  ...   ...       ...\n",
       "157779  2019     12   31     0       215\n",
       "157780  2019     12   31     3       280\n",
       "157781  2019     12   31     6       258\n",
       "157782  2019     12   31     9       218\n",
       "157783  2019     12   31    12       203\n",
       "\n",
       "[125637 rows x 5 columns]"
      ]
     },
     "execution_count": 44,
     "metadata": {},
     "output_type": "execute_result"
    }
   ],
   "source": [
    "wind_rep\n",
    "len(wind_rep['Wind_dir'].astype('int64'))\n",
    "wind_rep['Wind_dir'] = wind_rep['Wind_dir'].astype('int64')\n",
    "wind_rep"
   ]
  },
  {
   "cell_type": "code",
   "execution_count": 57,
   "metadata": {},
   "outputs": [],
   "source": [
    "direction = []\n",
    "\n",
    "for wind in wind_rep['Wind_dir']:\n",
    "    \n",
    "    for n in CP:\n",
    "        \n",
    "        for degree in n:\n",
    "            \n",
    "            if wind == degree:\n",
    "                direction.append(n)"
   ]
  },
  {
   "cell_type": "code",
   "execution_count": 58,
   "metadata": {},
   "outputs": [
    {
     "data": {
      "text/plain": [
       "125637"
      ]
     },
     "execution_count": 58,
     "metadata": {},
     "output_type": "execute_result"
    }
   ],
   "source": [
    "len(direction)"
   ]
  },
  {
   "cell_type": "code",
   "execution_count": 59,
   "metadata": {},
   "outputs": [],
   "source": [
    "cardinal_points = {range(1, 23): 'N1', range(23, 68):'NE', range(68, 113): 'E', range(113, 158) : 'SE', range(158, 203): 'S',\n",
    "                  range(203, 248):  'SW', range(248, 293): 'W', range(293, 338): 'NW', range(338, 361): 'N2', 0: 'calm'}"
   ]
  },
  {
   "cell_type": "code",
   "execution_count": 60,
   "metadata": {},
   "outputs": [
    {
     "data": {
      "text/plain": [
       "'calm'"
      ]
     },
     "execution_count": 60,
     "metadata": {},
     "output_type": "execute_result"
    }
   ],
   "source": [
    "cardinal_points.get((0))"
   ]
  },
  {
   "cell_type": "code",
   "execution_count": 61,
   "metadata": {},
   "outputs": [],
   "source": [
    "direction_get = []\n",
    "\n",
    "for ran in direction:\n",
    "    \n",
    "    if ran == [0]:\n",
    "        ran = 0\n",
    "                \n",
    "    name_of_CP = cardinal_points.get(ran)\n",
    "    \n",
    "    direction_get.append(name_of_CP)"
   ]
  },
  {
   "cell_type": "code",
   "execution_count": 62,
   "metadata": {},
   "outputs": [
    {
     "data": {
      "text/plain": [
       "125637"
      ]
     },
     "execution_count": 62,
     "metadata": {},
     "output_type": "execute_result"
    }
   ],
   "source": [
    "len(direction_get)"
   ]
  },
  {
   "cell_type": "code",
   "execution_count": 63,
   "metadata": {},
   "outputs": [],
   "source": [
    "wind_rep['Direction'] = direction_get"
   ]
  },
  {
   "cell_type": "code",
   "execution_count": 64,
   "metadata": {},
   "outputs": [
    {
     "data": {
      "text/html": [
       "<div>\n",
       "<style scoped>\n",
       "    .dataframe tbody tr th:only-of-type {\n",
       "        vertical-align: middle;\n",
       "    }\n",
       "\n",
       "    .dataframe tbody tr th {\n",
       "        vertical-align: top;\n",
       "    }\n",
       "\n",
       "    .dataframe thead th {\n",
       "        text-align: right;\n",
       "    }\n",
       "</style>\n",
       "<table border=\"1\" class=\"dataframe\">\n",
       "  <thead>\n",
       "    <tr style=\"text-align: right;\">\n",
       "      <th></th>\n",
       "      <th>Year</th>\n",
       "      <th>Month</th>\n",
       "      <th>Day</th>\n",
       "      <th>Time</th>\n",
       "      <th>Wind_dir</th>\n",
       "      <th>Direction</th>\n",
       "    </tr>\n",
       "  </thead>\n",
       "  <tbody>\n",
       "    <tr>\n",
       "      <th>32144</th>\n",
       "      <td>1977</td>\n",
       "      <td>1</td>\n",
       "      <td>1</td>\n",
       "      <td>18</td>\n",
       "      <td>0</td>\n",
       "      <td>calm</td>\n",
       "    </tr>\n",
       "    <tr>\n",
       "      <th>32145</th>\n",
       "      <td>1977</td>\n",
       "      <td>1</td>\n",
       "      <td>1</td>\n",
       "      <td>21</td>\n",
       "      <td>70</td>\n",
       "      <td>E</td>\n",
       "    </tr>\n",
       "    <tr>\n",
       "      <th>32146</th>\n",
       "      <td>1977</td>\n",
       "      <td>1</td>\n",
       "      <td>1</td>\n",
       "      <td>0</td>\n",
       "      <td>0</td>\n",
       "      <td>calm</td>\n",
       "    </tr>\n",
       "    <tr>\n",
       "      <th>32147</th>\n",
       "      <td>1977</td>\n",
       "      <td>1</td>\n",
       "      <td>1</td>\n",
       "      <td>3</td>\n",
       "      <td>70</td>\n",
       "      <td>E</td>\n",
       "    </tr>\n",
       "    <tr>\n",
       "      <th>32148</th>\n",
       "      <td>1977</td>\n",
       "      <td>1</td>\n",
       "      <td>1</td>\n",
       "      <td>6</td>\n",
       "      <td>0</td>\n",
       "      <td>calm</td>\n",
       "    </tr>\n",
       "    <tr>\n",
       "      <th>32149</th>\n",
       "      <td>1977</td>\n",
       "      <td>1</td>\n",
       "      <td>1</td>\n",
       "      <td>9</td>\n",
       "      <td>220</td>\n",
       "      <td>SW</td>\n",
       "    </tr>\n",
       "    <tr>\n",
       "      <th>32150</th>\n",
       "      <td>1977</td>\n",
       "      <td>1</td>\n",
       "      <td>1</td>\n",
       "      <td>12</td>\n",
       "      <td>250</td>\n",
       "      <td>W</td>\n",
       "    </tr>\n",
       "    <tr>\n",
       "      <th>32151</th>\n",
       "      <td>1977</td>\n",
       "      <td>1</td>\n",
       "      <td>1</td>\n",
       "      <td>15</td>\n",
       "      <td>0</td>\n",
       "      <td>calm</td>\n",
       "    </tr>\n",
       "    <tr>\n",
       "      <th>32152</th>\n",
       "      <td>1977</td>\n",
       "      <td>1</td>\n",
       "      <td>2</td>\n",
       "      <td>18</td>\n",
       "      <td>0</td>\n",
       "      <td>calm</td>\n",
       "    </tr>\n",
       "    <tr>\n",
       "      <th>32153</th>\n",
       "      <td>1977</td>\n",
       "      <td>1</td>\n",
       "      <td>2</td>\n",
       "      <td>21</td>\n",
       "      <td>0</td>\n",
       "      <td>calm</td>\n",
       "    </tr>\n",
       "  </tbody>\n",
       "</table>\n",
       "</div>"
      ],
      "text/plain": [
       "       Year  Month  Day  Time  Wind_dir Direction\n",
       "32144  1977      1    1    18         0      calm\n",
       "32145  1977      1    1    21        70         E\n",
       "32146  1977      1    1     0         0      calm\n",
       "32147  1977      1    1     3        70         E\n",
       "32148  1977      1    1     6         0      calm\n",
       "32149  1977      1    1     9       220        SW\n",
       "32150  1977      1    1    12       250         W\n",
       "32151  1977      1    1    15         0      calm\n",
       "32152  1977      1    2    18         0      calm\n",
       "32153  1977      1    2    21         0      calm"
      ]
     },
     "execution_count": 64,
     "metadata": {},
     "output_type": "execute_result"
    }
   ],
   "source": [
    "wind_rep.head(10)"
   ]
  },
  {
   "cell_type": "markdown",
   "metadata": {},
   "source": [
    "### Year"
   ]
  },
  {
   "cell_type": "code",
   "execution_count": 65,
   "metadata": {},
   "outputs": [],
   "source": [
    "wind_rep['Direction'].value_counts().to_excel('year-direction.xlsx')"
   ]
  },
  {
   "cell_type": "markdown",
   "metadata": {},
   "source": [
    "### Year values without calm"
   ]
  },
  {
   "cell_type": "code",
   "execution_count": 79,
   "metadata": {},
   "outputs": [],
   "source": [
    "wind_rep_2 = wind_rep[wind_rep['Direction'] != 'calm']\n",
    "wind_rep_2['Direction'].value_counts().to_excel('wind_year_without calm.xlsx')"
   ]
  },
  {
   "cell_type": "markdown",
   "metadata": {},
   "source": [
    "### Calm for months"
   ]
  },
  {
   "cell_type": "code",
   "execution_count": 67,
   "metadata": {},
   "outputs": [],
   "source": [
    "wind_rep_calm = wind_rep[wind_rep['Direction'] == 'calm']\n",
    "wind_rep_calm.groupby('Month')['Direction'].value_counts().to_excel('wind_calm.xlsx')"
   ]
  },
  {
   "cell_type": "markdown",
   "metadata": {},
   "source": [
    "### Months with calm"
   ]
  },
  {
   "cell_type": "code",
   "execution_count": 68,
   "metadata": {},
   "outputs": [],
   "source": [
    "wind_rep.groupby('Month')['Direction'].value_counts().to_excel('wind_direction.xlsx')"
   ]
  },
  {
   "cell_type": "code",
   "execution_count": 69,
   "metadata": {},
   "outputs": [],
   "source": [
    "wind_rep_3 = wind_rep[wind_rep['Direction'] == 'calm']"
   ]
  },
  {
   "cell_type": "code",
   "execution_count": 70,
   "metadata": {},
   "outputs": [
    {
     "data": {
      "text/plain": [
       "calm    17651\n",
       "Name: Direction, dtype: int64"
      ]
     },
     "execution_count": 70,
     "metadata": {},
     "output_type": "execute_result"
    }
   ],
   "source": [
    "wind_rep_3\n",
    "wind_rep_3['Direction'].value_counts()"
   ]
  },
  {
   "cell_type": "markdown",
   "metadata": {},
   "source": [
    "### Months without calm"
   ]
  },
  {
   "cell_type": "code",
   "execution_count": 71,
   "metadata": {},
   "outputs": [],
   "source": [
    "mask = wind_rep['Direction'] != 'calm'\n",
    "wind_rep[mask].groupby('Month')['Direction'].value_counts().to_excel('wind_dir_without_calm.xlsx')"
   ]
  },
  {
   "cell_type": "markdown",
   "metadata": {},
   "source": [
    "## Humidity"
   ]
  },
  {
   "cell_type": "code",
   "execution_count": 72,
   "metadata": {},
   "outputs": [
    {
     "data": {
      "text/html": [
       "<div>\n",
       "<style scoped>\n",
       "    .dataframe tbody tr th:only-of-type {\n",
       "        vertical-align: middle;\n",
       "    }\n",
       "\n",
       "    .dataframe tbody tr th {\n",
       "        vertical-align: top;\n",
       "    }\n",
       "\n",
       "    .dataframe thead th {\n",
       "        text-align: right;\n",
       "    }\n",
       "</style>\n",
       "<table border=\"1\" class=\"dataframe\">\n",
       "  <thead>\n",
       "    <tr style=\"text-align: right;\">\n",
       "      <th></th>\n",
       "      <th>Year</th>\n",
       "      <th>Month</th>\n",
       "      <th>Day</th>\n",
       "      <th>Time</th>\n",
       "      <th>Humidity</th>\n",
       "    </tr>\n",
       "  </thead>\n",
       "  <tbody>\n",
       "    <tr>\n",
       "      <th>0</th>\n",
       "      <td>1966</td>\n",
       "      <td>1</td>\n",
       "      <td>1</td>\n",
       "      <td>18</td>\n",
       "      <td>74.0</td>\n",
       "    </tr>\n",
       "    <tr>\n",
       "      <th>1</th>\n",
       "      <td>1966</td>\n",
       "      <td>1</td>\n",
       "      <td>1</td>\n",
       "      <td>21</td>\n",
       "      <td>74.0</td>\n",
       "    </tr>\n",
       "    <tr>\n",
       "      <th>2</th>\n",
       "      <td>1966</td>\n",
       "      <td>1</td>\n",
       "      <td>1</td>\n",
       "      <td>0</td>\n",
       "      <td>74.0</td>\n",
       "    </tr>\n",
       "    <tr>\n",
       "      <th>3</th>\n",
       "      <td>1966</td>\n",
       "      <td>1</td>\n",
       "      <td>1</td>\n",
       "      <td>3</td>\n",
       "      <td>75.0</td>\n",
       "    </tr>\n",
       "    <tr>\n",
       "      <th>4</th>\n",
       "      <td>1966</td>\n",
       "      <td>1</td>\n",
       "      <td>1</td>\n",
       "      <td>6</td>\n",
       "      <td>74.0</td>\n",
       "    </tr>\n",
       "    <tr>\n",
       "      <th>...</th>\n",
       "      <td>...</td>\n",
       "      <td>...</td>\n",
       "      <td>...</td>\n",
       "      <td>...</td>\n",
       "      <td>...</td>\n",
       "    </tr>\n",
       "    <tr>\n",
       "      <th>158027</th>\n",
       "      <td>2020</td>\n",
       "      <td>1</td>\n",
       "      <td>31</td>\n",
       "      <td>0</td>\n",
       "      <td>74.0</td>\n",
       "    </tr>\n",
       "    <tr>\n",
       "      <th>158028</th>\n",
       "      <td>2020</td>\n",
       "      <td>1</td>\n",
       "      <td>31</td>\n",
       "      <td>3</td>\n",
       "      <td>75.0</td>\n",
       "    </tr>\n",
       "    <tr>\n",
       "      <th>158029</th>\n",
       "      <td>2020</td>\n",
       "      <td>1</td>\n",
       "      <td>31</td>\n",
       "      <td>6</td>\n",
       "      <td>67.0</td>\n",
       "    </tr>\n",
       "    <tr>\n",
       "      <th>158030</th>\n",
       "      <td>2020</td>\n",
       "      <td>1</td>\n",
       "      <td>31</td>\n",
       "      <td>9</td>\n",
       "      <td>72.0</td>\n",
       "    </tr>\n",
       "    <tr>\n",
       "      <th>158031</th>\n",
       "      <td>2020</td>\n",
       "      <td>1</td>\n",
       "      <td>31</td>\n",
       "      <td>12</td>\n",
       "      <td>83.0</td>\n",
       "    </tr>\n",
       "  </tbody>\n",
       "</table>\n",
       "<p>158032 rows × 5 columns</p>\n",
       "</div>"
      ],
      "text/plain": [
       "        Year  Month  Day  Time  Humidity\n",
       "0       1966      1    1    18      74.0\n",
       "1       1966      1    1    21      74.0\n",
       "2       1966      1    1     0      74.0\n",
       "3       1966      1    1     3      75.0\n",
       "4       1966      1    1     6      74.0\n",
       "...      ...    ...  ...   ...       ...\n",
       "158027  2020      1   31     0      74.0\n",
       "158028  2020      1   31     3      75.0\n",
       "158029  2020      1   31     6      67.0\n",
       "158030  2020      1   31     9      72.0\n",
       "158031  2020      1   31    12      83.0\n",
       "\n",
       "[158032 rows x 5 columns]"
      ]
     },
     "execution_count": 72,
     "metadata": {},
     "output_type": "execute_result"
    }
   ],
   "source": [
    "humidity = df[['Year', 'Month', 'Day', 'Time', 'Humidity']]\n",
    "humidity"
   ]
  },
  {
   "cell_type": "code",
   "execution_count": 73,
   "metadata": {},
   "outputs": [
    {
     "name": "stdout",
     "output_type": "stream",
     "text": [
      "<class 'pandas.core.frame.DataFrame'>\n",
      "RangeIndex: 158032 entries, 0 to 158031\n",
      "Data columns (total 5 columns):\n",
      " #   Column    Non-Null Count   Dtype  \n",
      "---  ------    --------------   -----  \n",
      " 0   Year      158032 non-null  int64  \n",
      " 1   Month     158032 non-null  int64  \n",
      " 2   Day       158032 non-null  int64  \n",
      " 3   Time      158032 non-null  int64  \n",
      " 4   Humidity  158021 non-null  float64\n",
      "dtypes: float64(1), int64(4)\n",
      "memory usage: 6.0 MB\n"
     ]
    }
   ],
   "source": [
    "humidity.info()"
   ]
  },
  {
   "cell_type": "code",
   "execution_count": 74,
   "metadata": {},
   "outputs": [
    {
     "name": "stdout",
     "output_type": "stream",
     "text": [
      "<class 'pandas.core.frame.DataFrame'>\n",
      "Int64Index: 158021 entries, 0 to 158031\n",
      "Data columns (total 5 columns):\n",
      " #   Column    Non-Null Count   Dtype  \n",
      "---  ------    --------------   -----  \n",
      " 0   Year      158021 non-null  int64  \n",
      " 1   Month     158021 non-null  int64  \n",
      " 2   Day       158021 non-null  int64  \n",
      " 3   Time      158021 non-null  int64  \n",
      " 4   Humidity  158021 non-null  float64\n",
      "dtypes: float64(1), int64(4)\n",
      "memory usage: 7.2 MB\n"
     ]
    }
   ],
   "source": [
    "humidity = humidity.dropna(axis=0)\n",
    "humidity.info()"
   ]
  },
  {
   "cell_type": "markdown",
   "metadata": {},
   "source": [
    "### Cold period"
   ]
  },
  {
   "cell_type": "code",
   "execution_count": 75,
   "metadata": {},
   "outputs": [
    {
     "data": {
      "text/plain": [
       "1     13638\n",
       "12    13392\n",
       "3     13391\n",
       "11    12958\n",
       "2     12199\n",
       "Name: Month, dtype: int64"
      ]
     },
     "execution_count": 75,
     "metadata": {},
     "output_type": "execute_result"
    }
   ],
   "source": [
    "hum_cold = humidity[(humidity['Month'].between(1,3)) | (humidity['Month'].between(11,12))]\n",
    "hum_cold['Month'].value_counts()"
   ]
  },
  {
   "cell_type": "code",
   "execution_count": 76,
   "metadata": {},
   "outputs": [
    {
     "data": {
      "text/plain": [
       "74.42000365976395"
      ]
     },
     "execution_count": 76,
     "metadata": {},
     "output_type": "execute_result"
    }
   ],
   "source": [
    "hum_cold['Humidity'].mean()"
   ]
  },
  {
   "cell_type": "markdown",
   "metadata": {},
   "source": [
    "### Warm period"
   ]
  },
  {
   "cell_type": "code",
   "execution_count": 77,
   "metadata": {},
   "outputs": [
    {
     "data": {
      "text/plain": [
       "8     13392\n",
       "7     13392\n",
       "5     13392\n",
       "10    13389\n",
       "6     12960\n",
       "9     12959\n",
       "4     12959\n",
       "Name: Month, dtype: int64"
      ]
     },
     "execution_count": 77,
     "metadata": {},
     "output_type": "execute_result"
    }
   ],
   "source": [
    "hum_warm = humidity[humidity['Month'].between(4,10)]\n",
    "hum_warm['Month'].value_counts()"
   ]
  },
  {
   "cell_type": "code",
   "execution_count": 78,
   "metadata": {},
   "outputs": [
    {
     "data": {
      "text/plain": [
       "60.93746416710838"
      ]
     },
     "execution_count": 78,
     "metadata": {},
     "output_type": "execute_result"
    }
   ],
   "source": [
    "hum_warm['Humidity'].mean()"
   ]
  },
  {
   "cell_type": "code",
   "execution_count": null,
   "metadata": {},
   "outputs": [],
   "source": []
  }
 ],
 "metadata": {
  "kernelspec": {
   "display_name": "Python 3",
   "language": "python",
   "name": "python3"
  },
  "language_info": {
   "codemirror_mode": {
    "name": "ipython",
    "version": 3
   },
   "file_extension": ".py",
   "mimetype": "text/x-python",
   "name": "python",
   "nbconvert_exporter": "python",
   "pygments_lexer": "ipython3",
   "version": "3.8.3"
  }
 },
 "nbformat": 4,
 "nbformat_minor": 4
}
