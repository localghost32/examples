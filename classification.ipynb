{
 "cells": [
  {
   "cell_type": "markdown",
   "metadata": {},
   "source": [
    "# Построение ML и DL модели"
   ]
  },
  {
   "cell_type": "markdown",
   "metadata": {},
   "source": [
    "belbor1@gmail.com\n",
    "\n",
    "Целевая переменная - \"dep_var\""
   ]
  },
  {
   "cell_type": "code",
   "execution_count": 1,
   "metadata": {},
   "outputs": [],
   "source": [
    "import numpy as np\n",
    "import pandas as pd"
   ]
  },
  {
   "cell_type": "code",
   "execution_count": 2,
   "metadata": {},
   "outputs": [],
   "source": [
    "from matplotlib import pyplot as plt\n",
    "%matplotlib inline\n",
    "import seaborn as sns\n",
    "sns.set()"
   ]
  },
  {
   "cell_type": "code",
   "execution_count": 3,
   "metadata": {},
   "outputs": [
    {
     "name": "stderr",
     "output_type": "stream",
     "text": [
      "/opt/conda/lib/python3.8/site-packages/IPython/core/interactiveshell.py:3146: DtypeWarning: Columns (69,78) have mixed types.Specify dtype option on import or set low_memory=False.\n",
      "  has_raised = await self.run_ast_nodes(code_ast.body, cell_name,\n"
     ]
    }
   ],
   "source": [
    "df = pd.read_csv('20170504_test_download.csv', delimiter='\\t')"
   ]
  },
  {
   "cell_type": "code",
   "execution_count": 4,
   "metadata": {},
   "outputs": [
    {
     "data": {
      "text/plain": [
       "dtype('O')"
      ]
     },
     "execution_count": 4,
     "metadata": {},
     "output_type": "execute_result"
    }
   ],
   "source": [
    "df.iloc[:,69].dtypes"
   ]
  },
  {
   "cell_type": "code",
   "execution_count": 5,
   "metadata": {},
   "outputs": [
    {
     "data": {
      "text/plain": [
       "YamanaLab Robot    70\n",
       "Name: var63, dtype: int64"
      ]
     },
     "execution_count": 5,
     "metadata": {},
     "output_type": "execute_result"
    }
   ],
   "source": [
    "df.iloc[:,69].value_counts()"
   ]
  },
  {
   "cell_type": "code",
   "execution_count": 6,
   "metadata": {},
   "outputs": [
    {
     "data": {
      "text/plain": [
       "dtype('O')"
      ]
     },
     "execution_count": 6,
     "metadata": {},
     "output_type": "execute_result"
    }
   ],
   "source": [
    "df.iloc[:,78].dtypes"
   ]
  },
  {
   "cell_type": "code",
   "execution_count": 7,
   "metadata": {},
   "outputs": [
    {
     "data": {
      "text/plain": [
       "f    6\n",
       "t    5\n",
       "Name: var72, dtype: int64"
      ]
     },
     "execution_count": 7,
     "metadata": {},
     "output_type": "execute_result"
    }
   ],
   "source": [
    "df.iloc[:,78].value_counts()"
   ]
  },
  {
   "cell_type": "markdown",
   "metadata": {},
   "source": [
    "Разберемся с миксованными типами данных позже"
   ]
  },
  {
   "cell_type": "markdown",
   "metadata": {},
   "source": [
    "## Рассмотрение датасета"
   ]
  },
  {
   "cell_type": "code",
   "execution_count": 8,
   "metadata": {},
   "outputs": [
    {
     "data": {
      "text/html": [
       "<div>\n",
       "<style scoped>\n",
       "    .dataframe tbody tr th:only-of-type {\n",
       "        vertical-align: middle;\n",
       "    }\n",
       "\n",
       "    .dataframe tbody tr th {\n",
       "        vertical-align: top;\n",
       "    }\n",
       "\n",
       "    .dataframe thead th {\n",
       "        text-align: right;\n",
       "    }\n",
       "</style>\n",
       "<table border=\"1\" class=\"dataframe\">\n",
       "  <thead>\n",
       "    <tr style=\"text-align: right;\">\n",
       "      <th></th>\n",
       "      <th>account_id</th>\n",
       "      <th>client_id</th>\n",
       "      <th>time_msw</th>\n",
       "      <th>test_cr_decision</th>\n",
       "      <th>test_cr_performance</th>\n",
       "      <th>dep_var</th>\n",
       "      <th>month_verif</th>\n",
       "      <th>var1</th>\n",
       "      <th>var2</th>\n",
       "      <th>var3</th>\n",
       "      <th>...</th>\n",
       "      <th>var145</th>\n",
       "      <th>var146</th>\n",
       "      <th>var147</th>\n",
       "      <th>var148</th>\n",
       "      <th>var149</th>\n",
       "      <th>var150</th>\n",
       "      <th>var151</th>\n",
       "      <th>var152</th>\n",
       "      <th>var153</th>\n",
       "      <th>var154</th>\n",
       "    </tr>\n",
       "  </thead>\n",
       "  <tbody>\n",
       "    <tr>\n",
       "      <th>0</th>\n",
       "      <td>Company2</td>\n",
       "      <td>211804</td>\n",
       "      <td>2016-09-01 00:11:59</td>\n",
       "      <td>RJC</td>\n",
       "      <td>NaN</td>\n",
       "      <td>NaN</td>\n",
       "      <td>201609</td>\n",
       "      <td>1.0</td>\n",
       "      <td>1</td>\n",
       "      <td>1.0</td>\n",
       "      <td>...</td>\n",
       "      <td>NaN</td>\n",
       "      <td>NaN</td>\n",
       "      <td>NaN</td>\n",
       "      <td>NaN</td>\n",
       "      <td>NaN</td>\n",
       "      <td>NaN</td>\n",
       "      <td>0</td>\n",
       "      <td>0</td>\n",
       "      <td>0</td>\n",
       "      <td>3</td>\n",
       "    </tr>\n",
       "    <tr>\n",
       "      <th>1</th>\n",
       "      <td>Company2</td>\n",
       "      <td>211807</td>\n",
       "      <td>2016-09-01 00:19:46</td>\n",
       "      <td>APR</td>\n",
       "      <td>OK</td>\n",
       "      <td>0.0</td>\n",
       "      <td>201609</td>\n",
       "      <td>1.0</td>\n",
       "      <td>1</td>\n",
       "      <td>1.0</td>\n",
       "      <td>...</td>\n",
       "      <td>NaN</td>\n",
       "      <td>NaN</td>\n",
       "      <td>NaN</td>\n",
       "      <td>NaN</td>\n",
       "      <td>NaN</td>\n",
       "      <td>NaN</td>\n",
       "      <td>0</td>\n",
       "      <td>0</td>\n",
       "      <td>0</td>\n",
       "      <td>7</td>\n",
       "    </tr>\n",
       "    <tr>\n",
       "      <th>2</th>\n",
       "      <td>Company2</td>\n",
       "      <td>211808</td>\n",
       "      <td>2016-09-01 00:25:44</td>\n",
       "      <td>RJC</td>\n",
       "      <td>NaN</td>\n",
       "      <td>NaN</td>\n",
       "      <td>201609</td>\n",
       "      <td>1.0</td>\n",
       "      <td>1</td>\n",
       "      <td>1.0</td>\n",
       "      <td>...</td>\n",
       "      <td>NaN</td>\n",
       "      <td>NaN</td>\n",
       "      <td>NaN</td>\n",
       "      <td>NaN</td>\n",
       "      <td>NaN</td>\n",
       "      <td>NaN</td>\n",
       "      <td>0</td>\n",
       "      <td>0</td>\n",
       "      <td>0</td>\n",
       "      <td>3</td>\n",
       "    </tr>\n",
       "    <tr>\n",
       "      <th>3</th>\n",
       "      <td>Company2</td>\n",
       "      <td>193611</td>\n",
       "      <td>2016-09-01 00:40:53</td>\n",
       "      <td>APR</td>\n",
       "      <td>OK</td>\n",
       "      <td>0.0</td>\n",
       "      <td>201609</td>\n",
       "      <td>NaN</td>\n",
       "      <td>1</td>\n",
       "      <td>NaN</td>\n",
       "      <td>...</td>\n",
       "      <td>NaN</td>\n",
       "      <td>NaN</td>\n",
       "      <td>NaN</td>\n",
       "      <td>NaN</td>\n",
       "      <td>NaN</td>\n",
       "      <td>NaN</td>\n",
       "      <td>0</td>\n",
       "      <td>0</td>\n",
       "      <td>0</td>\n",
       "      <td>3</td>\n",
       "    </tr>\n",
       "    <tr>\n",
       "      <th>4</th>\n",
       "      <td>Company2</td>\n",
       "      <td>7233</td>\n",
       "      <td>2016-09-01 00:49:33</td>\n",
       "      <td>RJC</td>\n",
       "      <td>NaN</td>\n",
       "      <td>NaN</td>\n",
       "      <td>201609</td>\n",
       "      <td>NaN</td>\n",
       "      <td>1</td>\n",
       "      <td>NaN</td>\n",
       "      <td>...</td>\n",
       "      <td>NaN</td>\n",
       "      <td>NaN</td>\n",
       "      <td>NaN</td>\n",
       "      <td>NaN</td>\n",
       "      <td>NaN</td>\n",
       "      <td>NaN</td>\n",
       "      <td>0</td>\n",
       "      <td>0</td>\n",
       "      <td>0</td>\n",
       "      <td>3</td>\n",
       "    </tr>\n",
       "  </tbody>\n",
       "</table>\n",
       "<p>5 rows × 161 columns</p>\n",
       "</div>"
      ],
      "text/plain": [
       "  account_id  client_id             time_msw test_cr_decision  \\\n",
       "0   Company2     211804  2016-09-01 00:11:59              RJC   \n",
       "1   Company2     211807  2016-09-01 00:19:46              APR   \n",
       "2   Company2     211808  2016-09-01 00:25:44              RJC   \n",
       "3   Company2     193611  2016-09-01 00:40:53              APR   \n",
       "4   Company2       7233  2016-09-01 00:49:33              RJC   \n",
       "\n",
       "  test_cr_performance  dep_var  month_verif  var1  var2  var3  ...  var145  \\\n",
       "0                 NaN      NaN       201609   1.0     1   1.0  ...     NaN   \n",
       "1                  OK      0.0       201609   1.0     1   1.0  ...     NaN   \n",
       "2                 NaN      NaN       201609   1.0     1   1.0  ...     NaN   \n",
       "3                  OK      0.0       201609   NaN     1   NaN  ...     NaN   \n",
       "4                 NaN      NaN       201609   NaN     1   NaN  ...     NaN   \n",
       "\n",
       "   var146  var147  var148  var149  var150  var151  var152  var153  var154  \n",
       "0     NaN     NaN     NaN     NaN     NaN       0       0       0       3  \n",
       "1     NaN     NaN     NaN     NaN     NaN       0       0       0       7  \n",
       "2     NaN     NaN     NaN     NaN     NaN       0       0       0       3  \n",
       "3     NaN     NaN     NaN     NaN     NaN       0       0       0       3  \n",
       "4     NaN     NaN     NaN     NaN     NaN       0       0       0       3  \n",
       "\n",
       "[5 rows x 161 columns]"
      ]
     },
     "execution_count": 8,
     "metadata": {},
     "output_type": "execute_result"
    }
   ],
   "source": [
    "df.head()"
   ]
  },
  {
   "cell_type": "code",
   "execution_count": 9,
   "metadata": {},
   "outputs": [
    {
     "name": "stdout",
     "output_type": "stream",
     "text": [
      "<class 'pandas.core.frame.DataFrame'>\n",
      "RangeIndex: 84130 entries, 0 to 84129\n",
      "Columns: 161 entries, account_id to var154\n",
      "dtypes: float64(20), int64(58), object(83)\n",
      "memory usage: 103.3+ MB\n"
     ]
    }
   ],
   "source": [
    "df.info()"
   ]
  },
  {
   "cell_type": "code",
   "execution_count": 10,
   "metadata": {},
   "outputs": [
    {
     "data": {
      "text/html": [
       "<div>\n",
       "<style scoped>\n",
       "    .dataframe tbody tr th:only-of-type {\n",
       "        vertical-align: middle;\n",
       "    }\n",
       "\n",
       "    .dataframe tbody tr th {\n",
       "        vertical-align: top;\n",
       "    }\n",
       "\n",
       "    .dataframe thead th {\n",
       "        text-align: right;\n",
       "    }\n",
       "</style>\n",
       "<table border=\"1\" class=\"dataframe\">\n",
       "  <thead>\n",
       "    <tr style=\"text-align: right;\">\n",
       "      <th></th>\n",
       "      <th>client_id</th>\n",
       "      <th>dep_var</th>\n",
       "      <th>month_verif</th>\n",
       "      <th>var1</th>\n",
       "      <th>var2</th>\n",
       "      <th>var3</th>\n",
       "      <th>var4</th>\n",
       "      <th>var5</th>\n",
       "      <th>var6</th>\n",
       "      <th>var7</th>\n",
       "      <th>...</th>\n",
       "      <th>var85</th>\n",
       "      <th>var87</th>\n",
       "      <th>var102</th>\n",
       "      <th>var103</th>\n",
       "      <th>var116</th>\n",
       "      <th>var117</th>\n",
       "      <th>var151</th>\n",
       "      <th>var152</th>\n",
       "      <th>var153</th>\n",
       "      <th>var154</th>\n",
       "    </tr>\n",
       "  </thead>\n",
       "  <tbody>\n",
       "    <tr>\n",
       "      <th>count</th>\n",
       "      <td>8.413000e+04</td>\n",
       "      <td>23490.000000</td>\n",
       "      <td>84130.000000</td>\n",
       "      <td>57455.0</td>\n",
       "      <td>84130.0</td>\n",
       "      <td>57455.0</td>\n",
       "      <td>57455.000000</td>\n",
       "      <td>84130.000000</td>\n",
       "      <td>84130.000000</td>\n",
       "      <td>84130.000000</td>\n",
       "      <td>...</td>\n",
       "      <td>38092.000000</td>\n",
       "      <td>35968.000000</td>\n",
       "      <td>0.0</td>\n",
       "      <td>0.0</td>\n",
       "      <td>84130.000000</td>\n",
       "      <td>84130.000000</td>\n",
       "      <td>84130.000000</td>\n",
       "      <td>84130.000000</td>\n",
       "      <td>84130.000000</td>\n",
       "      <td>84130.000000</td>\n",
       "    </tr>\n",
       "    <tr>\n",
       "      <th>mean</th>\n",
       "      <td>4.995669e+05</td>\n",
       "      <td>0.353895</td>\n",
       "      <td>201610.460121</td>\n",
       "      <td>1.0</td>\n",
       "      <td>1.0</td>\n",
       "      <td>1.0</td>\n",
       "      <td>0.820729</td>\n",
       "      <td>0.993332</td>\n",
       "      <td>0.117259</td>\n",
       "      <td>0.646927</td>\n",
       "      <td>...</td>\n",
       "      <td>23.806101</td>\n",
       "      <td>6.361597</td>\n",
       "      <td>NaN</td>\n",
       "      <td>NaN</td>\n",
       "      <td>0.682967</td>\n",
       "      <td>0.288613</td>\n",
       "      <td>144.870855</td>\n",
       "      <td>177.699429</td>\n",
       "      <td>5.239368</td>\n",
       "      <td>4.227041</td>\n",
       "    </tr>\n",
       "    <tr>\n",
       "      <th>std</th>\n",
       "      <td>3.502166e+05</td>\n",
       "      <td>0.478187</td>\n",
       "      <td>0.870570</td>\n",
       "      <td>0.0</td>\n",
       "      <td>0.0</td>\n",
       "      <td>0.0</td>\n",
       "      <td>0.383582</td>\n",
       "      <td>0.081387</td>\n",
       "      <td>0.321731</td>\n",
       "      <td>0.477928</td>\n",
       "      <td>...</td>\n",
       "      <td>2.235674</td>\n",
       "      <td>4.248544</td>\n",
       "      <td>NaN</td>\n",
       "      <td>NaN</td>\n",
       "      <td>0.465323</td>\n",
       "      <td>0.453120</td>\n",
       "      <td>311.911319</td>\n",
       "      <td>438.979112</td>\n",
       "      <td>11.008458</td>\n",
       "      <td>2.239471</td>\n",
       "    </tr>\n",
       "    <tr>\n",
       "      <th>min</th>\n",
       "      <td>2.900000e+02</td>\n",
       "      <td>0.000000</td>\n",
       "      <td>201609.000000</td>\n",
       "      <td>1.0</td>\n",
       "      <td>1.0</td>\n",
       "      <td>1.0</td>\n",
       "      <td>0.000000</td>\n",
       "      <td>0.000000</td>\n",
       "      <td>0.000000</td>\n",
       "      <td>0.000000</td>\n",
       "      <td>...</td>\n",
       "      <td>8.000000</td>\n",
       "      <td>0.300000</td>\n",
       "      <td>NaN</td>\n",
       "      <td>NaN</td>\n",
       "      <td>0.000000</td>\n",
       "      <td>0.000000</td>\n",
       "      <td>0.000000</td>\n",
       "      <td>0.000000</td>\n",
       "      <td>0.000000</td>\n",
       "      <td>-20.000000</td>\n",
       "    </tr>\n",
       "    <tr>\n",
       "      <th>25%</th>\n",
       "      <td>2.216202e+05</td>\n",
       "      <td>0.000000</td>\n",
       "      <td>201610.000000</td>\n",
       "      <td>1.0</td>\n",
       "      <td>1.0</td>\n",
       "      <td>1.0</td>\n",
       "      <td>1.000000</td>\n",
       "      <td>1.000000</td>\n",
       "      <td>0.000000</td>\n",
       "      <td>0.000000</td>\n",
       "      <td>...</td>\n",
       "      <td>24.000000</td>\n",
       "      <td>2.000000</td>\n",
       "      <td>NaN</td>\n",
       "      <td>NaN</td>\n",
       "      <td>0.000000</td>\n",
       "      <td>0.000000</td>\n",
       "      <td>0.000000</td>\n",
       "      <td>0.000000</td>\n",
       "      <td>0.000000</td>\n",
       "      <td>3.000000</td>\n",
       "    </tr>\n",
       "    <tr>\n",
       "      <th>50%</th>\n",
       "      <td>2.518025e+05</td>\n",
       "      <td>0.000000</td>\n",
       "      <td>201611.000000</td>\n",
       "      <td>1.0</td>\n",
       "      <td>1.0</td>\n",
       "      <td>1.0</td>\n",
       "      <td>1.000000</td>\n",
       "      <td>1.000000</td>\n",
       "      <td>0.000000</td>\n",
       "      <td>1.000000</td>\n",
       "      <td>...</td>\n",
       "      <td>24.000000</td>\n",
       "      <td>5.000000</td>\n",
       "      <td>NaN</td>\n",
       "      <td>NaN</td>\n",
       "      <td>1.000000</td>\n",
       "      <td>0.000000</td>\n",
       "      <td>0.000000</td>\n",
       "      <td>0.000000</td>\n",
       "      <td>0.000000</td>\n",
       "      <td>3.000000</td>\n",
       "    </tr>\n",
       "    <tr>\n",
       "      <th>75%</th>\n",
       "      <td>6.487552e+05</td>\n",
       "      <td>1.000000</td>\n",
       "      <td>201611.000000</td>\n",
       "      <td>1.0</td>\n",
       "      <td>1.0</td>\n",
       "      <td>1.0</td>\n",
       "      <td>1.000000</td>\n",
       "      <td>1.000000</td>\n",
       "      <td>0.000000</td>\n",
       "      <td>1.000000</td>\n",
       "      <td>...</td>\n",
       "      <td>24.000000</td>\n",
       "      <td>8.000000</td>\n",
       "      <td>NaN</td>\n",
       "      <td>NaN</td>\n",
       "      <td>1.000000</td>\n",
       "      <td>1.000000</td>\n",
       "      <td>0.000000</td>\n",
       "      <td>0.000000</td>\n",
       "      <td>0.000000</td>\n",
       "      <td>6.000000</td>\n",
       "    </tr>\n",
       "    <tr>\n",
       "      <th>max</th>\n",
       "      <td>1.185812e+06</td>\n",
       "      <td>1.000000</td>\n",
       "      <td>201612.000000</td>\n",
       "      <td>1.0</td>\n",
       "      <td>1.0</td>\n",
       "      <td>1.0</td>\n",
       "      <td>1.000000</td>\n",
       "      <td>1.000000</td>\n",
       "      <td>1.000000</td>\n",
       "      <td>1.000000</td>\n",
       "      <td>...</td>\n",
       "      <td>32.000000</td>\n",
       "      <td>41.000000</td>\n",
       "      <td>NaN</td>\n",
       "      <td>NaN</td>\n",
       "      <td>1.000000</td>\n",
       "      <td>1.000000</td>\n",
       "      <td>2560.000000</td>\n",
       "      <td>2560.000000</td>\n",
       "      <td>32.000000</td>\n",
       "      <td>26.000000</td>\n",
       "    </tr>\n",
       "  </tbody>\n",
       "</table>\n",
       "<p>8 rows × 78 columns</p>\n",
       "</div>"
      ],
      "text/plain": [
       "          client_id       dep_var    month_verif     var1     var2     var3  \\\n",
       "count  8.413000e+04  23490.000000   84130.000000  57455.0  84130.0  57455.0   \n",
       "mean   4.995669e+05      0.353895  201610.460121      1.0      1.0      1.0   \n",
       "std    3.502166e+05      0.478187       0.870570      0.0      0.0      0.0   \n",
       "min    2.900000e+02      0.000000  201609.000000      1.0      1.0      1.0   \n",
       "25%    2.216202e+05      0.000000  201610.000000      1.0      1.0      1.0   \n",
       "50%    2.518025e+05      0.000000  201611.000000      1.0      1.0      1.0   \n",
       "75%    6.487552e+05      1.000000  201611.000000      1.0      1.0      1.0   \n",
       "max    1.185812e+06      1.000000  201612.000000      1.0      1.0      1.0   \n",
       "\n",
       "               var4          var5          var6          var7  ...  \\\n",
       "count  57455.000000  84130.000000  84130.000000  84130.000000  ...   \n",
       "mean       0.820729      0.993332      0.117259      0.646927  ...   \n",
       "std        0.383582      0.081387      0.321731      0.477928  ...   \n",
       "min        0.000000      0.000000      0.000000      0.000000  ...   \n",
       "25%        1.000000      1.000000      0.000000      0.000000  ...   \n",
       "50%        1.000000      1.000000      0.000000      1.000000  ...   \n",
       "75%        1.000000      1.000000      0.000000      1.000000  ...   \n",
       "max        1.000000      1.000000      1.000000      1.000000  ...   \n",
       "\n",
       "              var85         var87  var102  var103        var116        var117  \\\n",
       "count  38092.000000  35968.000000     0.0     0.0  84130.000000  84130.000000   \n",
       "mean      23.806101      6.361597     NaN     NaN      0.682967      0.288613   \n",
       "std        2.235674      4.248544     NaN     NaN      0.465323      0.453120   \n",
       "min        8.000000      0.300000     NaN     NaN      0.000000      0.000000   \n",
       "25%       24.000000      2.000000     NaN     NaN      0.000000      0.000000   \n",
       "50%       24.000000      5.000000     NaN     NaN      1.000000      0.000000   \n",
       "75%       24.000000      8.000000     NaN     NaN      1.000000      1.000000   \n",
       "max       32.000000     41.000000     NaN     NaN      1.000000      1.000000   \n",
       "\n",
       "             var151        var152        var153        var154  \n",
       "count  84130.000000  84130.000000  84130.000000  84130.000000  \n",
       "mean     144.870855    177.699429      5.239368      4.227041  \n",
       "std      311.911319    438.979112     11.008458      2.239471  \n",
       "min        0.000000      0.000000      0.000000    -20.000000  \n",
       "25%        0.000000      0.000000      0.000000      3.000000  \n",
       "50%        0.000000      0.000000      0.000000      3.000000  \n",
       "75%        0.000000      0.000000      0.000000      6.000000  \n",
       "max     2560.000000   2560.000000     32.000000     26.000000  \n",
       "\n",
       "[8 rows x 78 columns]"
      ]
     },
     "execution_count": 10,
     "metadata": {},
     "output_type": "execute_result"
    }
   ],
   "source": [
    "df.describe()"
   ]
  },
  {
   "cell_type": "code",
   "execution_count": 11,
   "metadata": {},
   "outputs": [
    {
     "name": "stdout",
     "output_type": "stream",
     "text": [
      "Длина датафрейма: 84130 строки\n"
     ]
    }
   ],
   "source": [
    "print('Длина датафрейма: {} строки'.format(len(df)))"
   ]
  },
  {
   "cell_type": "code",
   "execution_count": 12,
   "metadata": {},
   "outputs": [
    {
     "data": {
      "text/plain": [
       "count    23490.000000\n",
       "mean         0.353895\n",
       "std          0.478187\n",
       "min          0.000000\n",
       "25%          0.000000\n",
       "50%          0.000000\n",
       "75%          1.000000\n",
       "max          1.000000\n",
       "Name: dep_var, dtype: float64"
      ]
     },
     "execution_count": 12,
     "metadata": {},
     "output_type": "execute_result"
    }
   ],
   "source": [
    "# целевая переменная\n",
    "df.dep_var.describe()"
   ]
  },
  {
   "cell_type": "code",
   "execution_count": 13,
   "metadata": {},
   "outputs": [
    {
     "name": "stdout",
     "output_type": "stream",
     "text": [
      "В целевой переменной пропущено 72.1 % строк\n"
     ]
    }
   ],
   "source": [
    "print('В целевой переменной пропущено {} % строк'.\n",
    "      format(round((df.dep_var.isnull().sum() / len(df) * 100), 1)))"
   ]
  },
  {
   "cell_type": "code",
   "execution_count": 14,
   "metadata": {},
   "outputs": [
    {
     "data": {
      "text/plain": [
       "0.0    15177\n",
       "1.0     8313\n",
       "Name: dep_var, dtype: int64"
      ]
     },
     "execution_count": 14,
     "metadata": {},
     "output_type": "execute_result"
    }
   ],
   "source": [
    "df.dep_var.value_counts()"
   ]
  },
  {
   "cell_type": "markdown",
   "metadata": {},
   "source": [
    "Целевая переменная по сути является категориальной. Будем решать задачу классификации.\n",
    "\n",
    "При этом категория 0 почти в два раза количественно превышает категорию 1. Столбец имеет значительное число пропущенных значений."
   ]
  },
  {
   "cell_type": "code",
   "execution_count": 15,
   "metadata": {},
   "outputs": [
    {
     "name": "stdout",
     "output_type": "stream",
     "text": [
      "вероятность возникновения значения 0 составляет: 0.6461047254150702\n",
      "доля пропущенных значений по целевой переменной составляет: 0.7207892547248306\n"
     ]
    }
   ],
   "source": [
    "print('вероятность возникновения значения 0 составляет: {}'.format(df.dep_var.value_counts()[0] / (df.dep_var.value_counts()[0] + df.dep_var.value_counts()[1])))\n",
    "\n",
    "print('доля пропущенных значений по целевой переменной составляет: {}'.format(df.dep_var.isnull().sum() / len(df)))"
   ]
  },
  {
   "cell_type": "code",
   "execution_count": 16,
   "metadata": {},
   "outputs": [
    {
     "data": {
      "text/plain": [
       "23490"
      ]
     },
     "execution_count": 16,
     "metadata": {},
     "output_type": "execute_result"
    }
   ],
   "source": [
    "# исключим из датасета те строки, в которых пропущена целевая переменная\n",
    "df = df[df.dep_var.notna()]\n",
    "len(df)"
   ]
  },
  {
   "cell_type": "code",
   "execution_count": 17,
   "metadata": {},
   "outputs": [
    {
     "data": {
      "text/html": [
       "<div>\n",
       "<style scoped>\n",
       "    .dataframe tbody tr th:only-of-type {\n",
       "        vertical-align: middle;\n",
       "    }\n",
       "\n",
       "    .dataframe tbody tr th {\n",
       "        vertical-align: top;\n",
       "    }\n",
       "\n",
       "    .dataframe thead th {\n",
       "        text-align: right;\n",
       "    }\n",
       "</style>\n",
       "<table border=\"1\" class=\"dataframe\">\n",
       "  <thead>\n",
       "    <tr style=\"text-align: right;\">\n",
       "      <th></th>\n",
       "      <th>account_id</th>\n",
       "      <th>client_id</th>\n",
       "      <th>time_msw</th>\n",
       "      <th>test_cr_decision</th>\n",
       "      <th>test_cr_performance</th>\n",
       "      <th>dep_var</th>\n",
       "      <th>month_verif</th>\n",
       "      <th>var1</th>\n",
       "      <th>var2</th>\n",
       "      <th>var3</th>\n",
       "      <th>...</th>\n",
       "      <th>var145</th>\n",
       "      <th>var146</th>\n",
       "      <th>var147</th>\n",
       "      <th>var148</th>\n",
       "      <th>var149</th>\n",
       "      <th>var150</th>\n",
       "      <th>var151</th>\n",
       "      <th>var152</th>\n",
       "      <th>var153</th>\n",
       "      <th>var154</th>\n",
       "    </tr>\n",
       "  </thead>\n",
       "  <tbody>\n",
       "    <tr>\n",
       "      <th>1</th>\n",
       "      <td>Company2</td>\n",
       "      <td>211807</td>\n",
       "      <td>2016-09-01 00:19:46</td>\n",
       "      <td>APR</td>\n",
       "      <td>OK</td>\n",
       "      <td>0.0</td>\n",
       "      <td>201609</td>\n",
       "      <td>1.0</td>\n",
       "      <td>1</td>\n",
       "      <td>1.0</td>\n",
       "      <td>...</td>\n",
       "      <td>NaN</td>\n",
       "      <td>NaN</td>\n",
       "      <td>NaN</td>\n",
       "      <td>NaN</td>\n",
       "      <td>NaN</td>\n",
       "      <td>NaN</td>\n",
       "      <td>0</td>\n",
       "      <td>0</td>\n",
       "      <td>0</td>\n",
       "      <td>7</td>\n",
       "    </tr>\n",
       "    <tr>\n",
       "      <th>3</th>\n",
       "      <td>Company2</td>\n",
       "      <td>193611</td>\n",
       "      <td>2016-09-01 00:40:53</td>\n",
       "      <td>APR</td>\n",
       "      <td>OK</td>\n",
       "      <td>0.0</td>\n",
       "      <td>201609</td>\n",
       "      <td>NaN</td>\n",
       "      <td>1</td>\n",
       "      <td>NaN</td>\n",
       "      <td>...</td>\n",
       "      <td>NaN</td>\n",
       "      <td>NaN</td>\n",
       "      <td>NaN</td>\n",
       "      <td>NaN</td>\n",
       "      <td>NaN</td>\n",
       "      <td>NaN</td>\n",
       "      <td>0</td>\n",
       "      <td>0</td>\n",
       "      <td>0</td>\n",
       "      <td>3</td>\n",
       "    </tr>\n",
       "    <tr>\n",
       "      <th>10</th>\n",
       "      <td>Company2</td>\n",
       "      <td>211812</td>\n",
       "      <td>2016-09-01 01:31:51</td>\n",
       "      <td>APR</td>\n",
       "      <td>OK</td>\n",
       "      <td>0.0</td>\n",
       "      <td>201609</td>\n",
       "      <td>1.0</td>\n",
       "      <td>1</td>\n",
       "      <td>1.0</td>\n",
       "      <td>...</td>\n",
       "      <td>NaN</td>\n",
       "      <td>NaN</td>\n",
       "      <td>NaN</td>\n",
       "      <td>NaN</td>\n",
       "      <td>NaN</td>\n",
       "      <td>NaN</td>\n",
       "      <td>0</td>\n",
       "      <td>0</td>\n",
       "      <td>0</td>\n",
       "      <td>3</td>\n",
       "    </tr>\n",
       "    <tr>\n",
       "      <th>11</th>\n",
       "      <td>Company2</td>\n",
       "      <td>211814</td>\n",
       "      <td>2016-09-01 01:42:15</td>\n",
       "      <td>APR</td>\n",
       "      <td>OK</td>\n",
       "      <td>0.0</td>\n",
       "      <td>201609</td>\n",
       "      <td>1.0</td>\n",
       "      <td>1</td>\n",
       "      <td>1.0</td>\n",
       "      <td>...</td>\n",
       "      <td>NaN</td>\n",
       "      <td>NaN</td>\n",
       "      <td>NaN</td>\n",
       "      <td>NaN</td>\n",
       "      <td>NaN</td>\n",
       "      <td>NaN</td>\n",
       "      <td>0</td>\n",
       "      <td>0</td>\n",
       "      <td>0</td>\n",
       "      <td>3</td>\n",
       "    </tr>\n",
       "    <tr>\n",
       "      <th>13</th>\n",
       "      <td>Company2</td>\n",
       "      <td>56232</td>\n",
       "      <td>2016-09-01 02:30:43</td>\n",
       "      <td>APR</td>\n",
       "      <td>OK</td>\n",
       "      <td>0.0</td>\n",
       "      <td>201609</td>\n",
       "      <td>1.0</td>\n",
       "      <td>1</td>\n",
       "      <td>1.0</td>\n",
       "      <td>...</td>\n",
       "      <td>NaN</td>\n",
       "      <td>NaN</td>\n",
       "      <td>NaN</td>\n",
       "      <td>NaN</td>\n",
       "      <td>NaN</td>\n",
       "      <td>NaN</td>\n",
       "      <td>0</td>\n",
       "      <td>0</td>\n",
       "      <td>0</td>\n",
       "      <td>3</td>\n",
       "    </tr>\n",
       "  </tbody>\n",
       "</table>\n",
       "<p>5 rows × 161 columns</p>\n",
       "</div>"
      ],
      "text/plain": [
       "   account_id  client_id             time_msw test_cr_decision  \\\n",
       "1    Company2     211807  2016-09-01 00:19:46              APR   \n",
       "3    Company2     193611  2016-09-01 00:40:53              APR   \n",
       "10   Company2     211812  2016-09-01 01:31:51              APR   \n",
       "11   Company2     211814  2016-09-01 01:42:15              APR   \n",
       "13   Company2      56232  2016-09-01 02:30:43              APR   \n",
       "\n",
       "   test_cr_performance  dep_var  month_verif  var1  var2  var3  ...  var145  \\\n",
       "1                   OK      0.0       201609   1.0     1   1.0  ...     NaN   \n",
       "3                   OK      0.0       201609   NaN     1   NaN  ...     NaN   \n",
       "10                  OK      0.0       201609   1.0     1   1.0  ...     NaN   \n",
       "11                  OK      0.0       201609   1.0     1   1.0  ...     NaN   \n",
       "13                  OK      0.0       201609   1.0     1   1.0  ...     NaN   \n",
       "\n",
       "    var146  var147  var148  var149  var150  var151  var152  var153  var154  \n",
       "1      NaN     NaN     NaN     NaN     NaN       0       0       0       7  \n",
       "3      NaN     NaN     NaN     NaN     NaN       0       0       0       3  \n",
       "10     NaN     NaN     NaN     NaN     NaN       0       0       0       3  \n",
       "11     NaN     NaN     NaN     NaN     NaN       0       0       0       3  \n",
       "13     NaN     NaN     NaN     NaN     NaN       0       0       0       3  \n",
       "\n",
       "[5 rows x 161 columns]"
      ]
     },
     "execution_count": 17,
     "metadata": {},
     "output_type": "execute_result"
    }
   ],
   "source": [
    "df.head()"
   ]
  },
  {
   "cell_type": "code",
   "execution_count": 18,
   "metadata": {},
   "outputs": [
    {
     "data": {
      "text/plain": [
       "object     83\n",
       "int64      58\n",
       "float64    20\n",
       "dtype: int64"
      ]
     },
     "execution_count": 18,
     "metadata": {},
     "output_type": "execute_result"
    }
   ],
   "source": [
    "df.dtypes.value_counts()"
   ]
  },
  {
   "cell_type": "markdown",
   "metadata": {},
   "source": [
    "## Подготовка данных"
   ]
  },
  {
   "cell_type": "markdown",
   "metadata": {},
   "source": [
    "### Исключим столбцы с большим числом пропусков"
   ]
  },
  {
   "cell_type": "code",
   "execution_count": 19,
   "metadata": {},
   "outputs": [
    {
     "data": {
      "text/plain": [
       "(array([89.,  1.,  7.,  1.,  0., 34., 10.,  0.,  1., 18.]),\n",
       " array([    0.,  2349.,  4698.,  7047.,  9396., 11745., 14094., 16443.,\n",
       "        18792., 21141., 23490.]),\n",
       " <BarContainer object of 10 artists>)"
      ]
     },
     "execution_count": 19,
     "metadata": {},
     "output_type": "execute_result"
    },
    {
     "data": {
      "image/png": "[encoded data removed]",
      "text/plain": [
       "<Figure size 432x288 with 1 Axes>"
      ]
     },
     "metadata": {},
     "output_type": "display_data"
    }
   ],
   "source": [
    "# частота наблюдений различного количества пропусков\n",
    "plt.hist((df.isnull().sum()))"
   ]
  },
  {
   "cell_type": "code",
   "execution_count": 20,
   "metadata": {},
   "outputs": [
    {
     "name": "stdout",
     "output_type": "stream",
     "text": [
      "Количество столбцов с пропусками более 0.2 длины df: 71\n"
     ]
    }
   ],
   "source": [
    "# уберем столбцы со значительным числом пропусков (> 20%)\n",
    "col_with_nans = []\n",
    "part_of_pass = 0.2\n",
    "for n in df.columns:\n",
    "    if df[n].isnull().sum() > (len(df) * part_of_pass):\n",
    "        col_with_nans.append(n)\n",
    "print('Количество столбцов с пропусками более {} длины df: {}'.format(part_of_pass, \n",
    "                                                                      len(col_with_nans)))\n",
    "# исключены столбцы с пропусками\n",
    "df_drop_wight = df.drop(columns=col_with_nans, axis=1)"
   ]
  },
  {
   "cell_type": "code",
   "execution_count": 21,
   "metadata": {},
   "outputs": [
    {
     "data": {
      "text/html": [
       "<div>\n",
       "<style scoped>\n",
       "    .dataframe tbody tr th:only-of-type {\n",
       "        vertical-align: middle;\n",
       "    }\n",
       "\n",
       "    .dataframe tbody tr th {\n",
       "        vertical-align: top;\n",
       "    }\n",
       "\n",
       "    .dataframe thead th {\n",
       "        text-align: right;\n",
       "    }\n",
       "</style>\n",
       "<table border=\"1\" class=\"dataframe\">\n",
       "  <thead>\n",
       "    <tr style=\"text-align: right;\">\n",
       "      <th></th>\n",
       "      <th>account_id</th>\n",
       "      <th>client_id</th>\n",
       "      <th>time_msw</th>\n",
       "      <th>test_cr_decision</th>\n",
       "      <th>test_cr_performance</th>\n",
       "      <th>dep_var</th>\n",
       "      <th>month_verif</th>\n",
       "      <th>var2</th>\n",
       "      <th>var5</th>\n",
       "      <th>var6</th>\n",
       "      <th>...</th>\n",
       "      <th>var106</th>\n",
       "      <th>var109</th>\n",
       "      <th>var110</th>\n",
       "      <th>var111</th>\n",
       "      <th>var116</th>\n",
       "      <th>var117</th>\n",
       "      <th>var151</th>\n",
       "      <th>var152</th>\n",
       "      <th>var153</th>\n",
       "      <th>var154</th>\n",
       "    </tr>\n",
       "  </thead>\n",
       "  <tbody>\n",
       "    <tr>\n",
       "      <th>1</th>\n",
       "      <td>Company2</td>\n",
       "      <td>211807</td>\n",
       "      <td>2016-09-01 00:19:46</td>\n",
       "      <td>APR</td>\n",
       "      <td>OK</td>\n",
       "      <td>0.0</td>\n",
       "      <td>201609</td>\n",
       "      <td>1</td>\n",
       "      <td>1</td>\n",
       "      <td>0</td>\n",
       "      <td>...</td>\n",
       "      <td>NT 6.3</td>\n",
       "      <td>Chrome</td>\n",
       "      <td>52.0.2743.116</td>\n",
       "      <td>WebKit</td>\n",
       "      <td>1</td>\n",
       "      <td>1</td>\n",
       "      <td>0</td>\n",
       "      <td>0</td>\n",
       "      <td>0</td>\n",
       "      <td>7</td>\n",
       "    </tr>\n",
       "    <tr>\n",
       "      <th>3</th>\n",
       "      <td>Company2</td>\n",
       "      <td>193611</td>\n",
       "      <td>2016-09-01 00:40:53</td>\n",
       "      <td>APR</td>\n",
       "      <td>OK</td>\n",
       "      <td>0.0</td>\n",
       "      <td>201609</td>\n",
       "      <td>1</td>\n",
       "      <td>1</td>\n",
       "      <td>0</td>\n",
       "      <td>...</td>\n",
       "      <td>NT 10.0</td>\n",
       "      <td>Edge</td>\n",
       "      <td>13.10586</td>\n",
       "      <td>EdgeHTML</td>\n",
       "      <td>0</td>\n",
       "      <td>0</td>\n",
       "      <td>0</td>\n",
       "      <td>0</td>\n",
       "      <td>0</td>\n",
       "      <td>3</td>\n",
       "    </tr>\n",
       "    <tr>\n",
       "      <th>10</th>\n",
       "      <td>Company2</td>\n",
       "      <td>211812</td>\n",
       "      <td>2016-09-01 01:31:51</td>\n",
       "      <td>APR</td>\n",
       "      <td>OK</td>\n",
       "      <td>0.0</td>\n",
       "      <td>201609</td>\n",
       "      <td>1</td>\n",
       "      <td>1</td>\n",
       "      <td>0</td>\n",
       "      <td>...</td>\n",
       "      <td>NT 6.3</td>\n",
       "      <td>Opera</td>\n",
       "      <td>39.0.2256.48</td>\n",
       "      <td>Blink</td>\n",
       "      <td>1</td>\n",
       "      <td>0</td>\n",
       "      <td>0</td>\n",
       "      <td>0</td>\n",
       "      <td>0</td>\n",
       "      <td>3</td>\n",
       "    </tr>\n",
       "    <tr>\n",
       "      <th>11</th>\n",
       "      <td>Company2</td>\n",
       "      <td>211814</td>\n",
       "      <td>2016-09-01 01:42:15</td>\n",
       "      <td>APR</td>\n",
       "      <td>OK</td>\n",
       "      <td>0.0</td>\n",
       "      <td>201609</td>\n",
       "      <td>1</td>\n",
       "      <td>1</td>\n",
       "      <td>1</td>\n",
       "      <td>...</td>\n",
       "      <td>NT 6.3</td>\n",
       "      <td>Chrome</td>\n",
       "      <td>52.0.2743.116</td>\n",
       "      <td>WebKit</td>\n",
       "      <td>1</td>\n",
       "      <td>0</td>\n",
       "      <td>0</td>\n",
       "      <td>0</td>\n",
       "      <td>0</td>\n",
       "      <td>3</td>\n",
       "    </tr>\n",
       "    <tr>\n",
       "      <th>13</th>\n",
       "      <td>Company2</td>\n",
       "      <td>56232</td>\n",
       "      <td>2016-09-01 02:30:43</td>\n",
       "      <td>APR</td>\n",
       "      <td>OK</td>\n",
       "      <td>0.0</td>\n",
       "      <td>201609</td>\n",
       "      <td>1</td>\n",
       "      <td>1</td>\n",
       "      <td>0</td>\n",
       "      <td>...</td>\n",
       "      <td>NT 6.1</td>\n",
       "      <td>Firefox</td>\n",
       "      <td>48.0</td>\n",
       "      <td>Gecko</td>\n",
       "      <td>1</td>\n",
       "      <td>1</td>\n",
       "      <td>0</td>\n",
       "      <td>0</td>\n",
       "      <td>0</td>\n",
       "      <td>3</td>\n",
       "    </tr>\n",
       "  </tbody>\n",
       "</table>\n",
       "<p>5 rows × 90 columns</p>\n",
       "</div>"
      ],
      "text/plain": [
       "   account_id  client_id             time_msw test_cr_decision  \\\n",
       "1    Company2     211807  2016-09-01 00:19:46              APR   \n",
       "3    Company2     193611  2016-09-01 00:40:53              APR   \n",
       "10   Company2     211812  2016-09-01 01:31:51              APR   \n",
       "11   Company2     211814  2016-09-01 01:42:15              APR   \n",
       "13   Company2      56232  2016-09-01 02:30:43              APR   \n",
       "\n",
       "   test_cr_performance  dep_var  month_verif  var2  var5  var6  ...   var106  \\\n",
       "1                   OK      0.0       201609     1     1     0  ...   NT 6.3   \n",
       "3                   OK      0.0       201609     1     1     0  ...  NT 10.0   \n",
       "10                  OK      0.0       201609     1     1     0  ...   NT 6.3   \n",
       "11                  OK      0.0       201609     1     1     1  ...   NT 6.3   \n",
       "13                  OK      0.0       201609     1     1     0  ...   NT 6.1   \n",
       "\n",
       "     var109         var110    var111  var116  var117  var151  var152  var153  \\\n",
       "1    Chrome  52.0.2743.116    WebKit       1       1       0       0       0   \n",
       "3      Edge       13.10586  EdgeHTML       0       0       0       0       0   \n",
       "10    Opera   39.0.2256.48     Blink       1       0       0       0       0   \n",
       "11   Chrome  52.0.2743.116    WebKit       1       0       0       0       0   \n",
       "13  Firefox           48.0     Gecko       1       1       0       0       0   \n",
       "\n",
       "    var154  \n",
       "1        7  \n",
       "3        3  \n",
       "10       3  \n",
       "11       3  \n",
       "13       3  \n",
       "\n",
       "[5 rows x 90 columns]"
      ]
     },
     "execution_count": 21,
     "metadata": {},
     "output_type": "execute_result"
    }
   ],
   "source": [
    "df_drop_wight.head()"
   ]
  },
  {
   "cell_type": "code",
   "execution_count": 22,
   "metadata": {},
   "outputs": [
    {
     "name": "stdout",
     "output_type": "stream",
     "text": [
      "<class 'pandas.core.frame.DataFrame'>\n",
      "Int64Index: 23490 entries, 1 to 84126\n",
      "Data columns (total 90 columns):\n",
      " #   Column               Non-Null Count  Dtype  \n",
      "---  ------               --------------  -----  \n",
      " 0   account_id           23490 non-null  object \n",
      " 1   client_id            23490 non-null  int64  \n",
      " 2   time_msw             23490 non-null  object \n",
      " 3   test_cr_decision     23490 non-null  object \n",
      " 4   test_cr_performance  23451 non-null  object \n",
      " 5   dep_var              23490 non-null  float64\n",
      " 6   month_verif          23490 non-null  int64  \n",
      " 7   var2                 23490 non-null  int64  \n",
      " 8   var5                 23490 non-null  int64  \n",
      " 9   var6                 23490 non-null  int64  \n",
      " 10  var7                 23490 non-null  int64  \n",
      " 11  var8                 23490 non-null  int64  \n",
      " 12  var9                 23490 non-null  int64  \n",
      " 13  var10                23490 non-null  int64  \n",
      " 14  var11                23490 non-null  int64  \n",
      " 15  var12                23490 non-null  int64  \n",
      " 16  var13                23490 non-null  int64  \n",
      " 17  var14                23490 non-null  int64  \n",
      " 18  var15                23490 non-null  int64  \n",
      " 19  var16                23490 non-null  int64  \n",
      " 20  var17                23490 non-null  int64  \n",
      " 21  var18                23490 non-null  int64  \n",
      " 22  var19                23490 non-null  int64  \n",
      " 23  var20                23490 non-null  int64  \n",
      " 24  var21                23490 non-null  int64  \n",
      " 25  var22                23490 non-null  int64  \n",
      " 26  var23                23490 non-null  int64  \n",
      " 27  var24                23490 non-null  int64  \n",
      " 28  var25                23490 non-null  int64  \n",
      " 29  var26                23490 non-null  int64  \n",
      " 30  var27                23490 non-null  int64  \n",
      " 31  var28                23490 non-null  int64  \n",
      " 32  var29                23490 non-null  int64  \n",
      " 33  var30                23490 non-null  int64  \n",
      " 34  var31                23490 non-null  int64  \n",
      " 35  var32                23490 non-null  int64  \n",
      " 36  var33                23490 non-null  int64  \n",
      " 37  var34                23490 non-null  int64  \n",
      " 38  var35                23490 non-null  int64  \n",
      " 39  var36                23490 non-null  int64  \n",
      " 40  var37                23490 non-null  int64  \n",
      " 41  var38                23490 non-null  int64  \n",
      " 42  var39                23490 non-null  int64  \n",
      " 43  var40                23490 non-null  int64  \n",
      " 44  var45                23490 non-null  float64\n",
      " 45  var46                23446 non-null  object \n",
      " 46  var47                23490 non-null  int64  \n",
      " 47  var48                23490 non-null  int64  \n",
      " 48  var49                23490 non-null  int64  \n",
      " 49  var50                23490 non-null  int64  \n",
      " 50  var51                23490 non-null  int64  \n",
      " 51  var52                23490 non-null  int64  \n",
      " 52  var53                23490 non-null  int64  \n",
      " 53  var54                23490 non-null  int64  \n",
      " 54  var55                23490 non-null  int64  \n",
      " 55  var56                23490 non-null  int64  \n",
      " 56  var57                23490 non-null  int64  \n",
      " 57  var58                23490 non-null  int64  \n",
      " 58  var60                23490 non-null  int64  \n",
      " 59  var62                23446 non-null  object \n",
      " 60  var64                23488 non-null  object \n",
      " 61  var65                23489 non-null  object \n",
      " 62  var66                23489 non-null  object \n",
      " 63  var67                23489 non-null  object \n",
      " 64  var68                23489 non-null  object \n",
      " 65  var69                23489 non-null  object \n",
      " 66  var70                23489 non-null  object \n",
      " 67  var73                23332 non-null  object \n",
      " 68  var74                23035 non-null  object \n",
      " 69  var75                22728 non-null  object \n",
      " 70  var79                23488 non-null  object \n",
      " 71  var80                23420 non-null  object \n",
      " 72  var88                23323 non-null  object \n",
      " 73  var89                23341 non-null  object \n",
      " 74  var90                23463 non-null  object \n",
      " 75  var91                23469 non-null  object \n",
      " 76  var92                23460 non-null  object \n",
      " 77  var93                23452 non-null  object \n",
      " 78  var94                23460 non-null  object \n",
      " 79  var105               23474 non-null  object \n",
      " 80  var106               23387 non-null  object \n",
      " 81  var109               23249 non-null  object \n",
      " 82  var110               19147 non-null  object \n",
      " 83  var111               23236 non-null  object \n",
      " 84  var116               23490 non-null  int64  \n",
      " 85  var117               23490 non-null  int64  \n",
      " 86  var151               23490 non-null  int64  \n",
      " 87  var152               23490 non-null  int64  \n",
      " 88  var153               23490 non-null  int64  \n",
      " 89  var154               23490 non-null  int64  \n",
      "dtypes: float64(2), int64(58), object(30)\n",
      "memory usage: 16.3+ MB\n"
     ]
    }
   ],
   "source": [
    "df_drop_wight.info()"
   ]
  },
  {
   "cell_type": "markdown",
   "metadata": {},
   "source": [
    "### Преобразуем категориальные переменные"
   ]
  },
  {
   "cell_type": "code",
   "execution_count": 23,
   "metadata": {},
   "outputs": [
    {
     "data": {
      "text/plain": [
       "30"
      ]
     },
     "execution_count": 23,
     "metadata": {},
     "output_type": "execute_result"
    }
   ],
   "source": [
    "# столбцы с перемеными типа object\n",
    "objects = df_drop_wight.dtypes[df.dtypes == 'object'].index\n",
    "len(objects)"
   ]
  },
  {
   "cell_type": "code",
   "execution_count": 24,
   "metadata": {},
   "outputs": [
    {
     "name": "stdout",
     "output_type": "stream",
     "text": [
      "account_id 0\n",
      "time_msw 0\n",
      "test_cr_decision 0\n",
      "test_cr_performance 39\n",
      "var46 44\n",
      "var62 44\n",
      "var64 2\n",
      "var65 1\n",
      "var66 1\n",
      "var67 1\n",
      "var68 1\n",
      "var69 1\n",
      "var70 1\n",
      "var73 158\n",
      "var74 455\n",
      "var75 762\n",
      "var79 2\n",
      "var80 70\n",
      "var88 167\n",
      "var89 149\n",
      "var90 27\n",
      "var91 21\n",
      "var92 30\n",
      "var93 38\n",
      "var94 30\n",
      "var105 16\n",
      "var106 103\n",
      "var109 241\n",
      "var110 4343\n",
      "var111 254\n"
     ]
    }
   ],
   "source": [
    "# посмотрим на пропуски в категориальных переменных\n",
    "for i in objects:\n",
    "    print(i, df_drop_wight[i].isnull().sum())"
   ]
  },
  {
   "cell_type": "code",
   "execution_count": 25,
   "metadata": {},
   "outputs": [
    {
     "name": "stdout",
     "output_type": "stream",
     "text": [
      "Company1    15578\n",
      "Company2     6160\n",
      "Company3     1752\n",
      "Name: account_id, dtype: int64\n",
      "2016-11-08 17:46:51    2\n",
      "2016-11-12 10:53:07    2\n",
      "2016-11-12 18:55:02    2\n",
      "2016-10-18 07:10:28    2\n",
      "2016-12-07 07:12:20    2\n",
      "                      ..\n",
      "2016-10-08 13:04:16    1\n",
      "2016-09-26 10:45:12    1\n",
      "2016-11-29 18:35:09    1\n",
      "2016-10-13 16:42:03    1\n",
      "2016-10-08 00:33:53    1\n",
      "Name: time_msw, Length: 23411, dtype: int64\n",
      "APR    23490\n",
      "Name: test_cr_decision, dtype: int64\n",
      "OK        14532\n",
      "NPL90+     8313\n",
      "NPL90-      606\n",
      "Name: test_cr_performance, dtype: int64\n",
      "ISP        9774\n",
      "MOB        6122\n",
      "ISP/MOB    3494\n",
      "COM        3070\n",
      "DCH         812\n",
      "ORG          88\n",
      "EDU          80\n",
      "GOV           5\n",
      "LIB           1\n",
      "Name: var46, dtype: int64\n",
      "2017-04-30 00:00:00    4743\n",
      "2015-11-30 00:00:00    4264\n",
      "2017-01-31 00:00:00    2526\n",
      "2016-05-31 00:00:00    1997\n",
      "2015-12-31 00:00:00    1776\n",
      "2017-02-28 00:00:00    1719\n",
      "2017-03-31 00:00:00    1717\n",
      "2016-11-30 00:00:00    1166\n",
      "2016-12-31 00:00:00     876\n",
      "2016-06-30 00:00:00     753\n",
      "2016-08-31 00:00:00     633\n",
      "2016-10-31 00:00:00     514\n",
      "2016-09-30 00:00:00     498\n",
      "2016-07-31 00:00:00     264\n",
      "Name: var62, dtype: int64\n",
      "f    23476\n",
      "t       12\n",
      "Name: var64, dtype: int64\n",
      "f    23489\n",
      "Name: var65, dtype: int64\n",
      "f    23489\n",
      "Name: var66, dtype: int64\n",
      "f    23489\n",
      "Name: var67, dtype: int64\n",
      "f    23489\n",
      "Name: var68, dtype: int64\n",
      "f    23489\n",
      "Name: var69, dtype: int64\n",
      "t    12698\n",
      "f    10791\n",
      "Name: var70, dtype: int64\n",
      "Desktop          12698\n",
      "Mobile Phone      9234\n",
      "Tablet            1380\n",
      "TV                   9\n",
      "Set Top Box          7\n",
      "Media Player         3\n",
      "Games Console        1\n",
      "Name: var73, dtype: int64\n",
      "Google           5614\n",
      "Yandex           3714\n",
      "Apple            2295\n",
      "Samsung          2129\n",
      "Opera            1260\n",
      "                 ... \n",
      "Amazon              1\n",
      "Verizon             1\n",
      "Blackview           1\n",
      "Gionee              1\n",
      "Cherry Mobile       1\n",
      "Name: var74, Length: 148, dtype: int64\n",
      "Chrome - Windows            5483\n",
      "Yandex.Browser - Windows    3705\n",
      "iPhone                      1935\n",
      "Browser - Windows           1252\n",
      "Firefox - Windows           1065\n",
      "                            ... \n",
      "RM-875                         1\n",
      "M688H                          1\n",
      "D335                           1\n",
      "Viera TV                       1\n",
      "Marathon M5                    1\n",
      "Name: var75, Length: 1064, dtype: int64\n",
      "f    12719\n",
      "t    10769\n",
      "Name: var79, dtype: int64\n",
      "f    12708\n",
      "t    10712\n",
      "Name: var80, dtype: int64\n",
      "f    14047\n",
      "t     9276\n",
      "Name: var88, dtype: int64\n",
      "f    21946\n",
      "t     1395\n",
      "Name: var89, dtype: int64\n",
      "f    23463\n",
      "Name: var90, dtype: int64\n",
      "f    23468\n",
      "t        1\n",
      "Name: var91, dtype: int64\n",
      "f    23451\n",
      "t        9\n",
      "Name: var92, dtype: int64\n",
      "f    23450\n",
      "t        2\n",
      "Name: var93, dtype: int64\n",
      "f    23457\n",
      "t        3\n",
      "Name: var94, dtype: int64\n",
      "Android           8331\n",
      "Windows 7         6984\n",
      "Windows 10        2789\n",
      "iOS               2222\n",
      "Windows 8.1       1307\n",
      "Windows XP        1045\n",
      "Windows 8          294\n",
      "Windows Phone      213\n",
      "OS X               145\n",
      "Windows Vista       55\n",
      "Linux               54\n",
      "Linux - Ubuntu      22\n",
      "LG proprietary       4\n",
      "RIM                  2\n",
      "Windows              2\n",
      "Chrome OS            2\n",
      "Other                1\n",
      "Bada                 1\n",
      "Symbian              1\n",
      "Name: var105, dtype: int64\n",
      "NT 6.1     6984\n",
      "NT 10.0    2789\n",
      "4.4.2      2198\n",
      "NT 6.3     1307\n",
      "5.1        1222\n",
      "           ... \n",
      "4.4           1\n",
      "10.12         1\n",
      "10.7          1\n",
      "10_11_2       1\n",
      "4.1           1\n",
      "Name: var106, Length: 101, dtype: int64\n",
      "Chrome Mobile               6123\n",
      "Chrome                      5584\n",
      "Yandex.Browser              5001\n",
      "Safari                      1985\n",
      "Opera                       1259\n",
      "Firefox                     1119\n",
      "UC Browser                   396\n",
      "Internet Explorer            351\n",
      "Android Browser              274\n",
      "Edge                         272\n",
      "Samsung Browser              272\n",
      "Opera Mobile                 214\n",
      "Internet Explorer Mobile     168\n",
      "AOL Browser                  141\n",
      "MIUI Browser                  23\n",
      "Nokia Browser                 17\n",
      "Comodo Dragon                 16\n",
      "Maxthon                       13\n",
      "Opera Mini                     9\n",
      "Chromium                       6\n",
      "Iron                           2\n",
      "BlackBerry Browser             2\n",
      "Dolfin                         1\n",
      "Iceweasel                      1\n",
      "Name: var109, dtype: int64\n",
      "53.0.2785.124      1456\n",
      "54.0.2840.71       1276\n",
      "54.0.2840.99       1216\n",
      "53.0.2785.143      1156\n",
      "54.0.2840.85        976\n",
      "                   ... \n",
      "21.0.1437.75510       1\n",
      "8.1.8                 1\n",
      "56.0.2924.18          1\n",
      "6.1.6                 1\n",
      "51.26.2704.63         1\n",
      "Name: var110, Length: 538, dtype: int64\n",
      "WebKit      15602\n",
      "Blink        5137\n",
      "Gecko        1118\n",
      "Trident       660\n",
      "UCWeb         396\n",
      "EdgeHTML      272\n",
      "Presto         51\n",
      "Name: var111, dtype: int64\n"
     ]
    }
   ],
   "source": [
    "# посмотрим на значения этих переменных\n",
    "for i in objects:\n",
    "    print(df_drop_wight.loc[:,i].value_counts())"
   ]
  },
  {
   "cell_type": "markdown",
   "metadata": {},
   "source": [
    "### Даты"
   ]
  },
  {
   "cell_type": "markdown",
   "metadata": {},
   "source": [
    "Два столбца содержат дату (time_msw, var62). Поработаем с ними отдельно "
   ]
  },
  {
   "cell_type": "code",
   "execution_count": 26,
   "metadata": {},
   "outputs": [],
   "source": [
    "# Обработаем даты: отформатируем и разобъем\n",
    "df_drop_wight.time_msw = pd.to_datetime(df_drop_wight.time_msw)\n",
    "df_drop_wight.var62 = pd.to_datetime(df_drop_wight.var62)\n",
    "\n",
    "df_drop_wight['year'] = df_drop_wight.time_msw.apply(lambda x: x.year)\n",
    "df_drop_wight['month'] = df_drop_wight.time_msw.apply(lambda x: x.month)\n",
    "df_drop_wight['day'] = df_drop_wight.time_msw.apply(lambda x: x.day)\n",
    "df_drop_wight['hour'] = df_drop_wight.time_msw.apply(lambda x: x.hour \n",
    "                                            + x.minute/60).round(2)\n",
    "df_drop_wight['weekday'] = df_drop_wight.time_msw.apply(lambda x: x.weekday())\n",
    "\n",
    "df_drop_wight['year_62'] = df_drop_wight.var62.apply(lambda x: x.year)\n",
    "df_drop_wight['month_62'] = df_drop_wight.var62.apply(lambda x: x.month)\n",
    "df_drop_wight['day_62'] = df_drop_wight.var62.apply(lambda x: x.day)\n",
    "df_drop_wight['weekday_62'] = df_drop_wight.var62.apply(lambda x: x.weekday())\n",
    "\n",
    "df_drop_wight = df_drop_wight.drop(columns=['time_msw', 'var62'], axis=1)"
   ]
  },
  {
   "cell_type": "code",
   "execution_count": 27,
   "metadata": {},
   "outputs": [
    {
     "data": {
      "text/html": [
       "<div>\n",
       "<style scoped>\n",
       "    .dataframe tbody tr th:only-of-type {\n",
       "        vertical-align: middle;\n",
       "    }\n",
       "\n",
       "    .dataframe tbody tr th {\n",
       "        vertical-align: top;\n",
       "    }\n",
       "\n",
       "    .dataframe thead th {\n",
       "        text-align: right;\n",
       "    }\n",
       "</style>\n",
       "<table border=\"1\" class=\"dataframe\">\n",
       "  <thead>\n",
       "    <tr style=\"text-align: right;\">\n",
       "      <th></th>\n",
       "      <th>account_id</th>\n",
       "      <th>client_id</th>\n",
       "      <th>test_cr_decision</th>\n",
       "      <th>test_cr_performance</th>\n",
       "      <th>dep_var</th>\n",
       "      <th>month_verif</th>\n",
       "      <th>var2</th>\n",
       "      <th>var5</th>\n",
       "      <th>var6</th>\n",
       "      <th>var7</th>\n",
       "      <th>...</th>\n",
       "      <th>var154</th>\n",
       "      <th>year</th>\n",
       "      <th>month</th>\n",
       "      <th>day</th>\n",
       "      <th>hour</th>\n",
       "      <th>weekday</th>\n",
       "      <th>year_62</th>\n",
       "      <th>month_62</th>\n",
       "      <th>day_62</th>\n",
       "      <th>weekday_62</th>\n",
       "    </tr>\n",
       "  </thead>\n",
       "  <tbody>\n",
       "    <tr>\n",
       "      <th>1</th>\n",
       "      <td>Company2</td>\n",
       "      <td>211807</td>\n",
       "      <td>APR</td>\n",
       "      <td>OK</td>\n",
       "      <td>0.0</td>\n",
       "      <td>201609</td>\n",
       "      <td>1</td>\n",
       "      <td>1</td>\n",
       "      <td>0</td>\n",
       "      <td>1</td>\n",
       "      <td>...</td>\n",
       "      <td>7</td>\n",
       "      <td>2016</td>\n",
       "      <td>9</td>\n",
       "      <td>1</td>\n",
       "      <td>0.32</td>\n",
       "      <td>3</td>\n",
       "      <td>2017.0</td>\n",
       "      <td>3.0</td>\n",
       "      <td>31.0</td>\n",
       "      <td>4.0</td>\n",
       "    </tr>\n",
       "    <tr>\n",
       "      <th>3</th>\n",
       "      <td>Company2</td>\n",
       "      <td>193611</td>\n",
       "      <td>APR</td>\n",
       "      <td>OK</td>\n",
       "      <td>0.0</td>\n",
       "      <td>201609</td>\n",
       "      <td>1</td>\n",
       "      <td>1</td>\n",
       "      <td>0</td>\n",
       "      <td>1</td>\n",
       "      <td>...</td>\n",
       "      <td>3</td>\n",
       "      <td>2016</td>\n",
       "      <td>9</td>\n",
       "      <td>1</td>\n",
       "      <td>0.67</td>\n",
       "      <td>3</td>\n",
       "      <td>2016.0</td>\n",
       "      <td>11.0</td>\n",
       "      <td>30.0</td>\n",
       "      <td>2.0</td>\n",
       "    </tr>\n",
       "    <tr>\n",
       "      <th>10</th>\n",
       "      <td>Company2</td>\n",
       "      <td>211812</td>\n",
       "      <td>APR</td>\n",
       "      <td>OK</td>\n",
       "      <td>0.0</td>\n",
       "      <td>201609</td>\n",
       "      <td>1</td>\n",
       "      <td>1</td>\n",
       "      <td>0</td>\n",
       "      <td>1</td>\n",
       "      <td>...</td>\n",
       "      <td>3</td>\n",
       "      <td>2016</td>\n",
       "      <td>9</td>\n",
       "      <td>1</td>\n",
       "      <td>1.52</td>\n",
       "      <td>3</td>\n",
       "      <td>2017.0</td>\n",
       "      <td>1.0</td>\n",
       "      <td>31.0</td>\n",
       "      <td>1.0</td>\n",
       "    </tr>\n",
       "    <tr>\n",
       "      <th>11</th>\n",
       "      <td>Company2</td>\n",
       "      <td>211814</td>\n",
       "      <td>APR</td>\n",
       "      <td>OK</td>\n",
       "      <td>0.0</td>\n",
       "      <td>201609</td>\n",
       "      <td>1</td>\n",
       "      <td>1</td>\n",
       "      <td>1</td>\n",
       "      <td>1</td>\n",
       "      <td>...</td>\n",
       "      <td>3</td>\n",
       "      <td>2016</td>\n",
       "      <td>9</td>\n",
       "      <td>1</td>\n",
       "      <td>1.70</td>\n",
       "      <td>3</td>\n",
       "      <td>2017.0</td>\n",
       "      <td>4.0</td>\n",
       "      <td>30.0</td>\n",
       "      <td>6.0</td>\n",
       "    </tr>\n",
       "    <tr>\n",
       "      <th>13</th>\n",
       "      <td>Company2</td>\n",
       "      <td>56232</td>\n",
       "      <td>APR</td>\n",
       "      <td>OK</td>\n",
       "      <td>0.0</td>\n",
       "      <td>201609</td>\n",
       "      <td>1</td>\n",
       "      <td>1</td>\n",
       "      <td>0</td>\n",
       "      <td>1</td>\n",
       "      <td>...</td>\n",
       "      <td>3</td>\n",
       "      <td>2016</td>\n",
       "      <td>9</td>\n",
       "      <td>1</td>\n",
       "      <td>2.50</td>\n",
       "      <td>3</td>\n",
       "      <td>2015.0</td>\n",
       "      <td>12.0</td>\n",
       "      <td>31.0</td>\n",
       "      <td>3.0</td>\n",
       "    </tr>\n",
       "  </tbody>\n",
       "</table>\n",
       "<p>5 rows × 97 columns</p>\n",
       "</div>"
      ],
      "text/plain": [
       "   account_id  client_id test_cr_decision test_cr_performance  dep_var  \\\n",
       "1    Company2     211807              APR                  OK      0.0   \n",
       "3    Company2     193611              APR                  OK      0.0   \n",
       "10   Company2     211812              APR                  OK      0.0   \n",
       "11   Company2     211814              APR                  OK      0.0   \n",
       "13   Company2      56232              APR                  OK      0.0   \n",
       "\n",
       "    month_verif  var2  var5  var6  var7  ...  var154  year  month  day  hour  \\\n",
       "1        201609     1     1     0     1  ...       7  2016      9    1  0.32   \n",
       "3        201609     1     1     0     1  ...       3  2016      9    1  0.67   \n",
       "10       201609     1     1     0     1  ...       3  2016      9    1  1.52   \n",
       "11       201609     1     1     1     1  ...       3  2016      9    1  1.70   \n",
       "13       201609     1     1     0     1  ...       3  2016      9    1  2.50   \n",
       "\n",
       "    weekday  year_62  month_62  day_62  weekday_62  \n",
       "1         3   2017.0       3.0    31.0         4.0  \n",
       "3         3   2016.0      11.0    30.0         2.0  \n",
       "10        3   2017.0       1.0    31.0         1.0  \n",
       "11        3   2017.0       4.0    30.0         6.0  \n",
       "13        3   2015.0      12.0    31.0         3.0  \n",
       "\n",
       "[5 rows x 97 columns]"
      ]
     },
     "execution_count": 27,
     "metadata": {},
     "output_type": "execute_result"
    }
   ],
   "source": [
    "df_drop_wight.head()"
   ]
  },
  {
   "cell_type": "code",
   "execution_count": 28,
   "metadata": {},
   "outputs": [],
   "source": [
    "# удалим из списка столбцов datetime столбцы\n",
    "object_cols = list(objects)\n",
    "time_cols = ['time_msw', 'var62']\n",
    "\n",
    "for time in time_cols:\n",
    "    object_cols.remove(time)"
   ]
  },
  {
   "cell_type": "code",
   "execution_count": 29,
   "metadata": {},
   "outputs": [
    {
     "data": {
      "text/plain": [
       "['account_id',\n",
       " 'test_cr_decision',\n",
       " 'test_cr_performance',\n",
       " 'var46',\n",
       " 'var64',\n",
       " 'var65',\n",
       " 'var66',\n",
       " 'var67',\n",
       " 'var68',\n",
       " 'var69',\n",
       " 'var70',\n",
       " 'var73',\n",
       " 'var74',\n",
       " 'var75',\n",
       " 'var79',\n",
       " 'var80',\n",
       " 'var88',\n",
       " 'var89',\n",
       " 'var90',\n",
       " 'var91',\n",
       " 'var92',\n",
       " 'var93',\n",
       " 'var94',\n",
       " 'var105',\n",
       " 'var106',\n",
       " 'var109',\n",
       " 'var110',\n",
       " 'var111']"
      ]
     },
     "execution_count": 29,
     "metadata": {},
     "output_type": "execute_result"
    }
   ],
   "source": [
    "object_cols"
   ]
  },
  {
   "cell_type": "markdown",
   "metadata": {},
   "source": [
    "### Заполним пропуски и закодируем категориальные переменные"
   ]
  },
  {
   "cell_type": "code",
   "execution_count": 30,
   "metadata": {},
   "outputs": [],
   "source": [
    "from sklearn.preprocessing import LabelEncoder\n",
    "le = LabelEncoder()"
   ]
  },
  {
   "cell_type": "code",
   "execution_count": 31,
   "metadata": {},
   "outputs": [],
   "source": [
    "# заполним пропуски наиболее частым вхождением и\n",
    "# закодируем категориальные переменные \n",
    "for col in object_cols:\n",
    "    df_drop_wight[col] = df_drop_wight[col].fillna(value=df_drop_wight[col].mode()[0])\n",
    "    df_drop_wight[col] = le.fit_transform(df_drop_wight[col].astype('str'))"
   ]
  },
  {
   "cell_type": "code",
   "execution_count": 32,
   "metadata": {},
   "outputs": [
    {
     "data": {
      "text/plain": [
       "0.0    15177\n",
       "1.0     8313\n",
       "Name: dep_var, dtype: int64"
      ]
     },
     "execution_count": 32,
     "metadata": {},
     "output_type": "execute_result"
    }
   ],
   "source": [
    "df_drop_wight.dep_var.value_counts()"
   ]
  },
  {
   "cell_type": "code",
   "execution_count": 33,
   "metadata": {},
   "outputs": [],
   "source": [
    "# удалим столбцы, в которых переменная не меняется\n",
    "for col in df_drop_wight.columns:\n",
    "    if len(df_drop_wight[col].value_counts()) == 1:\n",
    "        df_drop_wight = df_drop_wight.drop(columns=col, axis=1)"
   ]
  },
  {
   "cell_type": "code",
   "execution_count": 34,
   "metadata": {},
   "outputs": [
    {
     "data": {
      "text/html": [
       "<div>\n",
       "<style scoped>\n",
       "    .dataframe tbody tr th:only-of-type {\n",
       "        vertical-align: middle;\n",
       "    }\n",
       "\n",
       "    .dataframe tbody tr th {\n",
       "        vertical-align: top;\n",
       "    }\n",
       "\n",
       "    .dataframe thead th {\n",
       "        text-align: right;\n",
       "    }\n",
       "</style>\n",
       "<table border=\"1\" class=\"dataframe\">\n",
       "  <thead>\n",
       "    <tr style=\"text-align: right;\">\n",
       "      <th></th>\n",
       "      <th>account_id</th>\n",
       "      <th>client_id</th>\n",
       "      <th>test_cr_performance</th>\n",
       "      <th>dep_var</th>\n",
       "      <th>month_verif</th>\n",
       "      <th>var5</th>\n",
       "      <th>var6</th>\n",
       "      <th>var7</th>\n",
       "      <th>var8</th>\n",
       "      <th>var9</th>\n",
       "      <th>...</th>\n",
       "      <th>var153</th>\n",
       "      <th>var154</th>\n",
       "      <th>month</th>\n",
       "      <th>day</th>\n",
       "      <th>hour</th>\n",
       "      <th>weekday</th>\n",
       "      <th>year_62</th>\n",
       "      <th>month_62</th>\n",
       "      <th>day_62</th>\n",
       "      <th>weekday_62</th>\n",
       "    </tr>\n",
       "  </thead>\n",
       "  <tbody>\n",
       "    <tr>\n",
       "      <th>1</th>\n",
       "      <td>1</td>\n",
       "      <td>211807</td>\n",
       "      <td>2</td>\n",
       "      <td>0.0</td>\n",
       "      <td>201609</td>\n",
       "      <td>1</td>\n",
       "      <td>0</td>\n",
       "      <td>1</td>\n",
       "      <td>0</td>\n",
       "      <td>0</td>\n",
       "      <td>...</td>\n",
       "      <td>0</td>\n",
       "      <td>7</td>\n",
       "      <td>9</td>\n",
       "      <td>1</td>\n",
       "      <td>0.32</td>\n",
       "      <td>3</td>\n",
       "      <td>2017.0</td>\n",
       "      <td>3.0</td>\n",
       "      <td>31.0</td>\n",
       "      <td>4.0</td>\n",
       "    </tr>\n",
       "    <tr>\n",
       "      <th>3</th>\n",
       "      <td>1</td>\n",
       "      <td>193611</td>\n",
       "      <td>2</td>\n",
       "      <td>0.0</td>\n",
       "      <td>201609</td>\n",
       "      <td>1</td>\n",
       "      <td>0</td>\n",
       "      <td>1</td>\n",
       "      <td>0</td>\n",
       "      <td>0</td>\n",
       "      <td>...</td>\n",
       "      <td>0</td>\n",
       "      <td>3</td>\n",
       "      <td>9</td>\n",
       "      <td>1</td>\n",
       "      <td>0.67</td>\n",
       "      <td>3</td>\n",
       "      <td>2016.0</td>\n",
       "      <td>11.0</td>\n",
       "      <td>30.0</td>\n",
       "      <td>2.0</td>\n",
       "    </tr>\n",
       "    <tr>\n",
       "      <th>10</th>\n",
       "      <td>1</td>\n",
       "      <td>211812</td>\n",
       "      <td>2</td>\n",
       "      <td>0.0</td>\n",
       "      <td>201609</td>\n",
       "      <td>1</td>\n",
       "      <td>0</td>\n",
       "      <td>1</td>\n",
       "      <td>0</td>\n",
       "      <td>0</td>\n",
       "      <td>...</td>\n",
       "      <td>0</td>\n",
       "      <td>3</td>\n",
       "      <td>9</td>\n",
       "      <td>1</td>\n",
       "      <td>1.52</td>\n",
       "      <td>3</td>\n",
       "      <td>2017.0</td>\n",
       "      <td>1.0</td>\n",
       "      <td>31.0</td>\n",
       "      <td>1.0</td>\n",
       "    </tr>\n",
       "    <tr>\n",
       "      <th>11</th>\n",
       "      <td>1</td>\n",
       "      <td>211814</td>\n",
       "      <td>2</td>\n",
       "      <td>0.0</td>\n",
       "      <td>201609</td>\n",
       "      <td>1</td>\n",
       "      <td>1</td>\n",
       "      <td>1</td>\n",
       "      <td>0</td>\n",
       "      <td>0</td>\n",
       "      <td>...</td>\n",
       "      <td>0</td>\n",
       "      <td>3</td>\n",
       "      <td>9</td>\n",
       "      <td>1</td>\n",
       "      <td>1.70</td>\n",
       "      <td>3</td>\n",
       "      <td>2017.0</td>\n",
       "      <td>4.0</td>\n",
       "      <td>30.0</td>\n",
       "      <td>6.0</td>\n",
       "    </tr>\n",
       "    <tr>\n",
       "      <th>13</th>\n",
       "      <td>1</td>\n",
       "      <td>56232</td>\n",
       "      <td>2</td>\n",
       "      <td>0.0</td>\n",
       "      <td>201609</td>\n",
       "      <td>1</td>\n",
       "      <td>0</td>\n",
       "      <td>1</td>\n",
       "      <td>0</td>\n",
       "      <td>0</td>\n",
       "      <td>...</td>\n",
       "      <td>0</td>\n",
       "      <td>3</td>\n",
       "      <td>9</td>\n",
       "      <td>1</td>\n",
       "      <td>2.50</td>\n",
       "      <td>3</td>\n",
       "      <td>2015.0</td>\n",
       "      <td>12.0</td>\n",
       "      <td>31.0</td>\n",
       "      <td>3.0</td>\n",
       "    </tr>\n",
       "  </tbody>\n",
       "</table>\n",
       "<p>5 rows × 85 columns</p>\n",
       "</div>"
      ],
      "text/plain": [
       "    account_id  client_id  test_cr_performance  dep_var  month_verif  var5  \\\n",
       "1            1     211807                    2      0.0       201609     1   \n",
       "3            1     193611                    2      0.0       201609     1   \n",
       "10           1     211812                    2      0.0       201609     1   \n",
       "11           1     211814                    2      0.0       201609     1   \n",
       "13           1      56232                    2      0.0       201609     1   \n",
       "\n",
       "    var6  var7  var8  var9  ...  var153  var154  month  day  hour  weekday  \\\n",
       "1      0     1     0     0  ...       0       7      9    1  0.32        3   \n",
       "3      0     1     0     0  ...       0       3      9    1  0.67        3   \n",
       "10     0     1     0     0  ...       0       3      9    1  1.52        3   \n",
       "11     1     1     0     0  ...       0       3      9    1  1.70        3   \n",
       "13     0     1     0     0  ...       0       3      9    1  2.50        3   \n",
       "\n",
       "    year_62  month_62  day_62  weekday_62  \n",
       "1    2017.0       3.0    31.0         4.0  \n",
       "3    2016.0      11.0    30.0         2.0  \n",
       "10   2017.0       1.0    31.0         1.0  \n",
       "11   2017.0       4.0    30.0         6.0  \n",
       "13   2015.0      12.0    31.0         3.0  \n",
       "\n",
       "[5 rows x 85 columns]"
      ]
     },
     "execution_count": 34,
     "metadata": {},
     "output_type": "execute_result"
    }
   ],
   "source": [
    "df_drop_wight.head()"
   ]
  },
  {
   "cell_type": "code",
   "execution_count": 35,
   "metadata": {},
   "outputs": [
    {
     "name": "stdout",
     "output_type": "stream",
     "text": [
      "<class 'pandas.core.frame.DataFrame'>\n",
      "Int64Index: 23490 entries, 1 to 84126\n",
      "Data columns (total 85 columns):\n",
      " #   Column               Non-Null Count  Dtype  \n",
      "---  ------               --------------  -----  \n",
      " 0   account_id           23490 non-null  int64  \n",
      " 1   client_id            23490 non-null  int64  \n",
      " 2   test_cr_performance  23490 non-null  int64  \n",
      " 3   dep_var              23490 non-null  float64\n",
      " 4   month_verif          23490 non-null  int64  \n",
      " 5   var5                 23490 non-null  int64  \n",
      " 6   var6                 23490 non-null  int64  \n",
      " 7   var7                 23490 non-null  int64  \n",
      " 8   var8                 23490 non-null  int64  \n",
      " 9   var9                 23490 non-null  int64  \n",
      " 10  var10                23490 non-null  int64  \n",
      " 11  var11                23490 non-null  int64  \n",
      " 12  var12                23490 non-null  int64  \n",
      " 13  var13                23490 non-null  int64  \n",
      " 14  var14                23490 non-null  int64  \n",
      " 15  var15                23490 non-null  int64  \n",
      " 16  var16                23490 non-null  int64  \n",
      " 17  var17                23490 non-null  int64  \n",
      " 18  var18                23490 non-null  int64  \n",
      " 19  var19                23490 non-null  int64  \n",
      " 20  var20                23490 non-null  int64  \n",
      " 21  var21                23490 non-null  int64  \n",
      " 22  var22                23490 non-null  int64  \n",
      " 23  var23                23490 non-null  int64  \n",
      " 24  var24                23490 non-null  int64  \n",
      " 25  var26                23490 non-null  int64  \n",
      " 26  var28                23490 non-null  int64  \n",
      " 27  var29                23490 non-null  int64  \n",
      " 28  var30                23490 non-null  int64  \n",
      " 29  var31                23490 non-null  int64  \n",
      " 30  var32                23490 non-null  int64  \n",
      " 31  var33                23490 non-null  int64  \n",
      " 32  var34                23490 non-null  int64  \n",
      " 33  var35                23490 non-null  int64  \n",
      " 34  var36                23490 non-null  int64  \n",
      " 35  var37                23490 non-null  int64  \n",
      " 36  var38                23490 non-null  int64  \n",
      " 37  var39                23490 non-null  int64  \n",
      " 38  var40                23490 non-null  int64  \n",
      " 39  var45                23490 non-null  float64\n",
      " 40  var46                23490 non-null  int64  \n",
      " 41  var47                23490 non-null  int64  \n",
      " 42  var48                23490 non-null  int64  \n",
      " 43  var49                23490 non-null  int64  \n",
      " 44  var50                23490 non-null  int64  \n",
      " 45  var51                23490 non-null  int64  \n",
      " 46  var52                23490 non-null  int64  \n",
      " 47  var53                23490 non-null  int64  \n",
      " 48  var54                23490 non-null  int64  \n",
      " 49  var55                23490 non-null  int64  \n",
      " 50  var56                23490 non-null  int64  \n",
      " 51  var57                23490 non-null  int64  \n",
      " 52  var58                23490 non-null  int64  \n",
      " 53  var64                23490 non-null  int64  \n",
      " 54  var70                23490 non-null  int64  \n",
      " 55  var73                23490 non-null  int64  \n",
      " 56  var74                23490 non-null  int64  \n",
      " 57  var75                23490 non-null  int64  \n",
      " 58  var79                23490 non-null  int64  \n",
      " 59  var80                23490 non-null  int64  \n",
      " 60  var88                23490 non-null  int64  \n",
      " 61  var89                23490 non-null  int64  \n",
      " 62  var91                23490 non-null  int64  \n",
      " 63  var92                23490 non-null  int64  \n",
      " 64  var93                23490 non-null  int64  \n",
      " 65  var94                23490 non-null  int64  \n",
      " 66  var105               23490 non-null  int64  \n",
      " 67  var106               23490 non-null  int64  \n",
      " 68  var109               23490 non-null  int64  \n",
      " 69  var110               23490 non-null  int64  \n",
      " 70  var111               23490 non-null  int64  \n",
      " 71  var116               23490 non-null  int64  \n",
      " 72  var117               23490 non-null  int64  \n",
      " 73  var151               23490 non-null  int64  \n",
      " 74  var152               23490 non-null  int64  \n",
      " 75  var153               23490 non-null  int64  \n",
      " 76  var154               23490 non-null  int64  \n",
      " 77  month                23490 non-null  int64  \n",
      " 78  day                  23490 non-null  int64  \n",
      " 79  hour                 23490 non-null  float64\n",
      " 80  weekday              23490 non-null  int64  \n",
      " 81  year_62              23446 non-null  float64\n",
      " 82  month_62             23446 non-null  float64\n",
      " 83  day_62               23446 non-null  float64\n",
      " 84  weekday_62           23446 non-null  float64\n",
      "dtypes: float64(7), int64(78)\n",
      "memory usage: 15.4 MB\n"
     ]
    }
   ],
   "source": [
    "df_drop_wight.info()"
   ]
  },
  {
   "cell_type": "code",
   "execution_count": 36,
   "metadata": {},
   "outputs": [],
   "source": [
    "# заполним пропуски для других столбцов средним значением \n",
    "for n in df_drop_wight.columns:\n",
    "    if df_drop_wight[n].isnull().sum() > 0:\n",
    "        df_drop_wight[n] = df_drop_wight[n].fillna(value = df_drop_wight[n].mean())"
   ]
  },
  {
   "cell_type": "code",
   "execution_count": 37,
   "metadata": {},
   "outputs": [
    {
     "data": {
      "text/html": [
       "<div>\n",
       "<style scoped>\n",
       "    .dataframe tbody tr th:only-of-type {\n",
       "        vertical-align: middle;\n",
       "    }\n",
       "\n",
       "    .dataframe tbody tr th {\n",
       "        vertical-align: top;\n",
       "    }\n",
       "\n",
       "    .dataframe thead th {\n",
       "        text-align: right;\n",
       "    }\n",
       "</style>\n",
       "<table border=\"1\" class=\"dataframe\">\n",
       "  <thead>\n",
       "    <tr style=\"text-align: right;\">\n",
       "      <th></th>\n",
       "      <th>account_id</th>\n",
       "      <th>client_id</th>\n",
       "      <th>test_cr_performance</th>\n",
       "      <th>dep_var</th>\n",
       "      <th>month_verif</th>\n",
       "      <th>var5</th>\n",
       "      <th>var6</th>\n",
       "      <th>var7</th>\n",
       "      <th>var8</th>\n",
       "      <th>var9</th>\n",
       "      <th>...</th>\n",
       "      <th>var153</th>\n",
       "      <th>var154</th>\n",
       "      <th>month</th>\n",
       "      <th>day</th>\n",
       "      <th>hour</th>\n",
       "      <th>weekday</th>\n",
       "      <th>year_62</th>\n",
       "      <th>month_62</th>\n",
       "      <th>day_62</th>\n",
       "      <th>weekday_62</th>\n",
       "    </tr>\n",
       "  </thead>\n",
       "  <tbody>\n",
       "    <tr>\n",
       "      <th>1</th>\n",
       "      <td>1</td>\n",
       "      <td>211807</td>\n",
       "      <td>2</td>\n",
       "      <td>0.0</td>\n",
       "      <td>201609</td>\n",
       "      <td>1</td>\n",
       "      <td>0</td>\n",
       "      <td>1</td>\n",
       "      <td>0</td>\n",
       "      <td>0</td>\n",
       "      <td>...</td>\n",
       "      <td>0</td>\n",
       "      <td>7</td>\n",
       "      <td>9</td>\n",
       "      <td>1</td>\n",
       "      <td>0.32</td>\n",
       "      <td>3</td>\n",
       "      <td>2017.0</td>\n",
       "      <td>3.0</td>\n",
       "      <td>31.0</td>\n",
       "      <td>4.0</td>\n",
       "    </tr>\n",
       "    <tr>\n",
       "      <th>3</th>\n",
       "      <td>1</td>\n",
       "      <td>193611</td>\n",
       "      <td>2</td>\n",
       "      <td>0.0</td>\n",
       "      <td>201609</td>\n",
       "      <td>1</td>\n",
       "      <td>0</td>\n",
       "      <td>1</td>\n",
       "      <td>0</td>\n",
       "      <td>0</td>\n",
       "      <td>...</td>\n",
       "      <td>0</td>\n",
       "      <td>3</td>\n",
       "      <td>9</td>\n",
       "      <td>1</td>\n",
       "      <td>0.67</td>\n",
       "      <td>3</td>\n",
       "      <td>2016.0</td>\n",
       "      <td>11.0</td>\n",
       "      <td>30.0</td>\n",
       "      <td>2.0</td>\n",
       "    </tr>\n",
       "    <tr>\n",
       "      <th>10</th>\n",
       "      <td>1</td>\n",
       "      <td>211812</td>\n",
       "      <td>2</td>\n",
       "      <td>0.0</td>\n",
       "      <td>201609</td>\n",
       "      <td>1</td>\n",
       "      <td>0</td>\n",
       "      <td>1</td>\n",
       "      <td>0</td>\n",
       "      <td>0</td>\n",
       "      <td>...</td>\n",
       "      <td>0</td>\n",
       "      <td>3</td>\n",
       "      <td>9</td>\n",
       "      <td>1</td>\n",
       "      <td>1.52</td>\n",
       "      <td>3</td>\n",
       "      <td>2017.0</td>\n",
       "      <td>1.0</td>\n",
       "      <td>31.0</td>\n",
       "      <td>1.0</td>\n",
       "    </tr>\n",
       "    <tr>\n",
       "      <th>11</th>\n",
       "      <td>1</td>\n",
       "      <td>211814</td>\n",
       "      <td>2</td>\n",
       "      <td>0.0</td>\n",
       "      <td>201609</td>\n",
       "      <td>1</td>\n",
       "      <td>1</td>\n",
       "      <td>1</td>\n",
       "      <td>0</td>\n",
       "      <td>0</td>\n",
       "      <td>...</td>\n",
       "      <td>0</td>\n",
       "      <td>3</td>\n",
       "      <td>9</td>\n",
       "      <td>1</td>\n",
       "      <td>1.70</td>\n",
       "      <td>3</td>\n",
       "      <td>2017.0</td>\n",
       "      <td>4.0</td>\n",
       "      <td>30.0</td>\n",
       "      <td>6.0</td>\n",
       "    </tr>\n",
       "    <tr>\n",
       "      <th>13</th>\n",
       "      <td>1</td>\n",
       "      <td>56232</td>\n",
       "      <td>2</td>\n",
       "      <td>0.0</td>\n",
       "      <td>201609</td>\n",
       "      <td>1</td>\n",
       "      <td>0</td>\n",
       "      <td>1</td>\n",
       "      <td>0</td>\n",
       "      <td>0</td>\n",
       "      <td>...</td>\n",
       "      <td>0</td>\n",
       "      <td>3</td>\n",
       "      <td>9</td>\n",
       "      <td>1</td>\n",
       "      <td>2.50</td>\n",
       "      <td>3</td>\n",
       "      <td>2015.0</td>\n",
       "      <td>12.0</td>\n",
       "      <td>31.0</td>\n",
       "      <td>3.0</td>\n",
       "    </tr>\n",
       "    <tr>\n",
       "      <th>...</th>\n",
       "      <td>...</td>\n",
       "      <td>...</td>\n",
       "      <td>...</td>\n",
       "      <td>...</td>\n",
       "      <td>...</td>\n",
       "      <td>...</td>\n",
       "      <td>...</td>\n",
       "      <td>...</td>\n",
       "      <td>...</td>\n",
       "      <td>...</td>\n",
       "      <td>...</td>\n",
       "      <td>...</td>\n",
       "      <td>...</td>\n",
       "      <td>...</td>\n",
       "      <td>...</td>\n",
       "      <td>...</td>\n",
       "      <td>...</td>\n",
       "      <td>...</td>\n",
       "      <td>...</td>\n",
       "      <td>...</td>\n",
       "      <td>...</td>\n",
       "    </tr>\n",
       "    <tr>\n",
       "      <th>84061</th>\n",
       "      <td>2</td>\n",
       "      <td>664059</td>\n",
       "      <td>2</td>\n",
       "      <td>0.0</td>\n",
       "      <td>201612</td>\n",
       "      <td>1</td>\n",
       "      <td>0</td>\n",
       "      <td>1</td>\n",
       "      <td>0</td>\n",
       "      <td>0</td>\n",
       "      <td>...</td>\n",
       "      <td>0</td>\n",
       "      <td>5</td>\n",
       "      <td>12</td>\n",
       "      <td>15</td>\n",
       "      <td>20.20</td>\n",
       "      <td>3</td>\n",
       "      <td>2015.0</td>\n",
       "      <td>11.0</td>\n",
       "      <td>30.0</td>\n",
       "      <td>0.0</td>\n",
       "    </tr>\n",
       "    <tr>\n",
       "      <th>84066</th>\n",
       "      <td>2</td>\n",
       "      <td>652798</td>\n",
       "      <td>0</td>\n",
       "      <td>1.0</td>\n",
       "      <td>201612</td>\n",
       "      <td>1</td>\n",
       "      <td>0</td>\n",
       "      <td>1</td>\n",
       "      <td>0</td>\n",
       "      <td>0</td>\n",
       "      <td>...</td>\n",
       "      <td>0</td>\n",
       "      <td>3</td>\n",
       "      <td>12</td>\n",
       "      <td>15</td>\n",
       "      <td>21.20</td>\n",
       "      <td>3</td>\n",
       "      <td>2016.0</td>\n",
       "      <td>8.0</td>\n",
       "      <td>31.0</td>\n",
       "      <td>2.0</td>\n",
       "    </tr>\n",
       "    <tr>\n",
       "      <th>84106</th>\n",
       "      <td>2</td>\n",
       "      <td>560013</td>\n",
       "      <td>2</td>\n",
       "      <td>0.0</td>\n",
       "      <td>201612</td>\n",
       "      <td>1</td>\n",
       "      <td>0</td>\n",
       "      <td>1</td>\n",
       "      <td>0</td>\n",
       "      <td>0</td>\n",
       "      <td>...</td>\n",
       "      <td>0</td>\n",
       "      <td>3</td>\n",
       "      <td>12</td>\n",
       "      <td>15</td>\n",
       "      <td>22.20</td>\n",
       "      <td>3</td>\n",
       "      <td>2016.0</td>\n",
       "      <td>7.0</td>\n",
       "      <td>31.0</td>\n",
       "      <td>6.0</td>\n",
       "    </tr>\n",
       "    <tr>\n",
       "      <th>84121</th>\n",
       "      <td>2</td>\n",
       "      <td>664184</td>\n",
       "      <td>2</td>\n",
       "      <td>0.0</td>\n",
       "      <td>201612</td>\n",
       "      <td>1</td>\n",
       "      <td>0</td>\n",
       "      <td>1</td>\n",
       "      <td>0</td>\n",
       "      <td>0</td>\n",
       "      <td>...</td>\n",
       "      <td>0</td>\n",
       "      <td>3</td>\n",
       "      <td>12</td>\n",
       "      <td>15</td>\n",
       "      <td>23.20</td>\n",
       "      <td>3</td>\n",
       "      <td>2017.0</td>\n",
       "      <td>3.0</td>\n",
       "      <td>31.0</td>\n",
       "      <td>4.0</td>\n",
       "    </tr>\n",
       "    <tr>\n",
       "      <th>84126</th>\n",
       "      <td>2</td>\n",
       "      <td>664164</td>\n",
       "      <td>2</td>\n",
       "      <td>0.0</td>\n",
       "      <td>201612</td>\n",
       "      <td>1</td>\n",
       "      <td>0</td>\n",
       "      <td>1</td>\n",
       "      <td>0</td>\n",
       "      <td>0</td>\n",
       "      <td>...</td>\n",
       "      <td>0</td>\n",
       "      <td>3</td>\n",
       "      <td>12</td>\n",
       "      <td>15</td>\n",
       "      <td>23.20</td>\n",
       "      <td>3</td>\n",
       "      <td>2016.0</td>\n",
       "      <td>12.0</td>\n",
       "      <td>31.0</td>\n",
       "      <td>5.0</td>\n",
       "    </tr>\n",
       "  </tbody>\n",
       "</table>\n",
       "<p>23490 rows × 85 columns</p>\n",
       "</div>"
      ],
      "text/plain": [
       "       account_id  client_id  test_cr_performance  dep_var  month_verif  var5  \\\n",
       "1               1     211807                    2      0.0       201609     1   \n",
       "3               1     193611                    2      0.0       201609     1   \n",
       "10              1     211812                    2      0.0       201609     1   \n",
       "11              1     211814                    2      0.0       201609     1   \n",
       "13              1      56232                    2      0.0       201609     1   \n",
       "...           ...        ...                  ...      ...          ...   ...   \n",
       "84061           2     664059                    2      0.0       201612     1   \n",
       "84066           2     652798                    0      1.0       201612     1   \n",
       "84106           2     560013                    2      0.0       201612     1   \n",
       "84121           2     664184                    2      0.0       201612     1   \n",
       "84126           2     664164                    2      0.0       201612     1   \n",
       "\n",
       "       var6  var7  var8  var9  ...  var153  var154  month  day   hour  \\\n",
       "1         0     1     0     0  ...       0       7      9    1   0.32   \n",
       "3         0     1     0     0  ...       0       3      9    1   0.67   \n",
       "10        0     1     0     0  ...       0       3      9    1   1.52   \n",
       "11        1     1     0     0  ...       0       3      9    1   1.70   \n",
       "13        0     1     0     0  ...       0       3      9    1   2.50   \n",
       "...     ...   ...   ...   ...  ...     ...     ...    ...  ...    ...   \n",
       "84061     0     1     0     0  ...       0       5     12   15  20.20   \n",
       "84066     0     1     0     0  ...       0       3     12   15  21.20   \n",
       "84106     0     1     0     0  ...       0       3     12   15  22.20   \n",
       "84121     0     1     0     0  ...       0       3     12   15  23.20   \n",
       "84126     0     1     0     0  ...       0       3     12   15  23.20   \n",
       "\n",
       "       weekday  year_62  month_62  day_62  weekday_62  \n",
       "1            3   2017.0       3.0    31.0         4.0  \n",
       "3            3   2016.0      11.0    30.0         2.0  \n",
       "10           3   2017.0       1.0    31.0         1.0  \n",
       "11           3   2017.0       4.0    30.0         6.0  \n",
       "13           3   2015.0      12.0    31.0         3.0  \n",
       "...        ...      ...       ...     ...         ...  \n",
       "84061        3   2015.0      11.0    30.0         0.0  \n",
       "84066        3   2016.0       8.0    31.0         2.0  \n",
       "84106        3   2016.0       7.0    31.0         6.0  \n",
       "84121        3   2017.0       3.0    31.0         4.0  \n",
       "84126        3   2016.0      12.0    31.0         5.0  \n",
       "\n",
       "[23490 rows x 85 columns]"
      ]
     },
     "execution_count": 37,
     "metadata": {},
     "output_type": "execute_result"
    }
   ],
   "source": [
    "df_drop_wight"
   ]
  },
  {
   "cell_type": "code",
   "execution_count": 38,
   "metadata": {},
   "outputs": [
    {
     "name": "stdout",
     "output_type": "stream",
     "text": [
      "<class 'pandas.core.frame.DataFrame'>\n",
      "Int64Index: 23490 entries, 1 to 84126\n",
      "Data columns (total 85 columns):\n",
      " #   Column               Non-Null Count  Dtype  \n",
      "---  ------               --------------  -----  \n",
      " 0   account_id           23490 non-null  int64  \n",
      " 1   client_id            23490 non-null  int64  \n",
      " 2   test_cr_performance  23490 non-null  int64  \n",
      " 3   dep_var              23490 non-null  float64\n",
      " 4   month_verif          23490 non-null  int64  \n",
      " 5   var5                 23490 non-null  int64  \n",
      " 6   var6                 23490 non-null  int64  \n",
      " 7   var7                 23490 non-null  int64  \n",
      " 8   var8                 23490 non-null  int64  \n",
      " 9   var9                 23490 non-null  int64  \n",
      " 10  var10                23490 non-null  int64  \n",
      " 11  var11                23490 non-null  int64  \n",
      " 12  var12                23490 non-null  int64  \n",
      " 13  var13                23490 non-null  int64  \n",
      " 14  var14                23490 non-null  int64  \n",
      " 15  var15                23490 non-null  int64  \n",
      " 16  var16                23490 non-null  int64  \n",
      " 17  var17                23490 non-null  int64  \n",
      " 18  var18                23490 non-null  int64  \n",
      " 19  var19                23490 non-null  int64  \n",
      " 20  var20                23490 non-null  int64  \n",
      " 21  var21                23490 non-null  int64  \n",
      " 22  var22                23490 non-null  int64  \n",
      " 23  var23                23490 non-null  int64  \n",
      " 24  var24                23490 non-null  int64  \n",
      " 25  var26                23490 non-null  int64  \n",
      " 26  var28                23490 non-null  int64  \n",
      " 27  var29                23490 non-null  int64  \n",
      " 28  var30                23490 non-null  int64  \n",
      " 29  var31                23490 non-null  int64  \n",
      " 30  var32                23490 non-null  int64  \n",
      " 31  var33                23490 non-null  int64  \n",
      " 32  var34                23490 non-null  int64  \n",
      " 33  var35                23490 non-null  int64  \n",
      " 34  var36                23490 non-null  int64  \n",
      " 35  var37                23490 non-null  int64  \n",
      " 36  var38                23490 non-null  int64  \n",
      " 37  var39                23490 non-null  int64  \n",
      " 38  var40                23490 non-null  int64  \n",
      " 39  var45                23490 non-null  float64\n",
      " 40  var46                23490 non-null  int64  \n",
      " 41  var47                23490 non-null  int64  \n",
      " 42  var48                23490 non-null  int64  \n",
      " 43  var49                23490 non-null  int64  \n",
      " 44  var50                23490 non-null  int64  \n",
      " 45  var51                23490 non-null  int64  \n",
      " 46  var52                23490 non-null  int64  \n",
      " 47  var53                23490 non-null  int64  \n",
      " 48  var54                23490 non-null  int64  \n",
      " 49  var55                23490 non-null  int64  \n",
      " 50  var56                23490 non-null  int64  \n",
      " 51  var57                23490 non-null  int64  \n",
      " 52  var58                23490 non-null  int64  \n",
      " 53  var64                23490 non-null  int64  \n",
      " 54  var70                23490 non-null  int64  \n",
      " 55  var73                23490 non-null  int64  \n",
      " 56  var74                23490 non-null  int64  \n",
      " 57  var75                23490 non-null  int64  \n",
      " 58  var79                23490 non-null  int64  \n",
      " 59  var80                23490 non-null  int64  \n",
      " 60  var88                23490 non-null  int64  \n",
      " 61  var89                23490 non-null  int64  \n",
      " 62  var91                23490 non-null  int64  \n",
      " 63  var92                23490 non-null  int64  \n",
      " 64  var93                23490 non-null  int64  \n",
      " 65  var94                23490 non-null  int64  \n",
      " 66  var105               23490 non-null  int64  \n",
      " 67  var106               23490 non-null  int64  \n",
      " 68  var109               23490 non-null  int64  \n",
      " 69  var110               23490 non-null  int64  \n",
      " 70  var111               23490 non-null  int64  \n",
      " 71  var116               23490 non-null  int64  \n",
      " 72  var117               23490 non-null  int64  \n",
      " 73  var151               23490 non-null  int64  \n",
      " 74  var152               23490 non-null  int64  \n",
      " 75  var153               23490 non-null  int64  \n",
      " 76  var154               23490 non-null  int64  \n",
      " 77  month                23490 non-null  int64  \n",
      " 78  day                  23490 non-null  int64  \n",
      " 79  hour                 23490 non-null  float64\n",
      " 80  weekday              23490 non-null  int64  \n",
      " 81  year_62              23490 non-null  float64\n",
      " 82  month_62             23490 non-null  float64\n",
      " 83  day_62               23490 non-null  float64\n",
      " 84  weekday_62           23490 non-null  float64\n",
      "dtypes: float64(7), int64(78)\n",
      "memory usage: 15.4 MB\n"
     ]
    }
   ],
   "source": [
    "df_drop_wight.info()"
   ]
  },
  {
   "cell_type": "markdown",
   "metadata": {},
   "source": [
    "### Разделение на тренировочную и тестовую выборку"
   ]
  },
  {
   "cell_type": "code",
   "execution_count": 39,
   "metadata": {},
   "outputs": [],
   "source": [
    "X = df_drop_wight.drop(columns='dep_var', axis=1).copy()\n",
    "Y = df_drop_wight.dep_var.copy()"
   ]
  },
  {
   "cell_type": "code",
   "execution_count": 40,
   "metadata": {},
   "outputs": [
    {
     "data": {
      "text/html": [
       "<div>\n",
       "<style scoped>\n",
       "    .dataframe tbody tr th:only-of-type {\n",
       "        vertical-align: middle;\n",
       "    }\n",
       "\n",
       "    .dataframe tbody tr th {\n",
       "        vertical-align: top;\n",
       "    }\n",
       "\n",
       "    .dataframe thead th {\n",
       "        text-align: right;\n",
       "    }\n",
       "</style>\n",
       "<table border=\"1\" class=\"dataframe\">\n",
       "  <thead>\n",
       "    <tr style=\"text-align: right;\">\n",
       "      <th></th>\n",
       "      <th>account_id</th>\n",
       "      <th>client_id</th>\n",
       "      <th>test_cr_performance</th>\n",
       "      <th>month_verif</th>\n",
       "      <th>var5</th>\n",
       "      <th>var6</th>\n",
       "      <th>var7</th>\n",
       "      <th>var8</th>\n",
       "      <th>var9</th>\n",
       "      <th>var10</th>\n",
       "      <th>...</th>\n",
       "      <th>var153</th>\n",
       "      <th>var154</th>\n",
       "      <th>month</th>\n",
       "      <th>day</th>\n",
       "      <th>hour</th>\n",
       "      <th>weekday</th>\n",
       "      <th>year_62</th>\n",
       "      <th>month_62</th>\n",
       "      <th>day_62</th>\n",
       "      <th>weekday_62</th>\n",
       "    </tr>\n",
       "  </thead>\n",
       "  <tbody>\n",
       "    <tr>\n",
       "      <th>count</th>\n",
       "      <td>84.000000</td>\n",
       "      <td>84.000000</td>\n",
       "      <td>84.000000</td>\n",
       "      <td>84.000000</td>\n",
       "      <td>84.000000</td>\n",
       "      <td>84.000000</td>\n",
       "      <td>84.000000</td>\n",
       "      <td>84.000000</td>\n",
       "      <td>84.000000</td>\n",
       "      <td>84.000000</td>\n",
       "      <td>...</td>\n",
       "      <td>84.000000</td>\n",
       "      <td>84.000000</td>\n",
       "      <td>84.000000</td>\n",
       "      <td>84.000000</td>\n",
       "      <td>84.000000</td>\n",
       "      <td>84.000000</td>\n",
       "      <td>84.000000</td>\n",
       "      <td>84.000000</td>\n",
       "      <td>84.000000</td>\n",
       "      <td>84.000000</td>\n",
       "    </tr>\n",
       "    <tr>\n",
       "      <th>mean</th>\n",
       "      <td>0.030941</td>\n",
       "      <td>-0.024792</td>\n",
       "      <td>0.010554</td>\n",
       "      <td>0.017393</td>\n",
       "      <td>-0.000439</td>\n",
       "      <td>0.013281</td>\n",
       "      <td>-0.012736</td>\n",
       "      <td>0.066609</td>\n",
       "      <td>0.036850</td>\n",
       "      <td>0.063646</td>\n",
       "      <td>...</td>\n",
       "      <td>-0.023122</td>\n",
       "      <td>0.012005</td>\n",
       "      <td>0.017393</td>\n",
       "      <td>0.001463</td>\n",
       "      <td>0.010642</td>\n",
       "      <td>0.014220</td>\n",
       "      <td>-0.002009</td>\n",
       "      <td>0.004688</td>\n",
       "      <td>0.006054</td>\n",
       "      <td>0.009915</td>\n",
       "    </tr>\n",
       "    <tr>\n",
       "      <th>std</th>\n",
       "      <td>0.279365</td>\n",
       "      <td>0.320081</td>\n",
       "      <td>0.129976</td>\n",
       "      <td>0.183721</td>\n",
       "      <td>0.131689</td>\n",
       "      <td>0.130163</td>\n",
       "      <td>0.166101</td>\n",
       "      <td>0.244927</td>\n",
       "      <td>0.127230</td>\n",
       "      <td>0.248726</td>\n",
       "      <td>...</td>\n",
       "      <td>0.317423</td>\n",
       "      <td>0.115376</td>\n",
       "      <td>0.183721</td>\n",
       "      <td>0.117766</td>\n",
       "      <td>0.112031</td>\n",
       "      <td>0.109926</td>\n",
       "      <td>0.167652</td>\n",
       "      <td>0.155830</td>\n",
       "      <td>0.121691</td>\n",
       "      <td>0.131736</td>\n",
       "    </tr>\n",
       "    <tr>\n",
       "      <th>min</th>\n",
       "      <td>-0.895410</td>\n",
       "      <td>-0.783384</td>\n",
       "      <td>-0.203612</td>\n",
       "      <td>-0.206973</td>\n",
       "      <td>-0.483167</td>\n",
       "      <td>-0.208388</td>\n",
       "      <td>-0.439562</td>\n",
       "      <td>-0.381592</td>\n",
       "      <td>-0.050705</td>\n",
       "      <td>-0.425579</td>\n",
       "      <td>...</td>\n",
       "      <td>-0.895410</td>\n",
       "      <td>-0.176272</td>\n",
       "      <td>-0.206973</td>\n",
       "      <td>-0.319891</td>\n",
       "      <td>-0.176272</td>\n",
       "      <td>-0.049347</td>\n",
       "      <td>-0.898369</td>\n",
       "      <td>-0.898369</td>\n",
       "      <td>-0.151712</td>\n",
       "      <td>-0.247549</td>\n",
       "    </tr>\n",
       "    <tr>\n",
       "      <th>25%</th>\n",
       "      <td>-0.033191</td>\n",
       "      <td>-0.065183</td>\n",
       "      <td>-0.036185</td>\n",
       "      <td>-0.036146</td>\n",
       "      <td>-0.003264</td>\n",
       "      <td>-0.038158</td>\n",
       "      <td>-0.040382</td>\n",
       "      <td>-0.012762</td>\n",
       "      <td>-0.002512</td>\n",
       "      <td>-0.013692</td>\n",
       "      <td>...</td>\n",
       "      <td>-0.128908</td>\n",
       "      <td>-0.013815</td>\n",
       "      <td>-0.036146</td>\n",
       "      <td>-0.019002</td>\n",
       "      <td>-0.010625</td>\n",
       "      <td>-0.003644</td>\n",
       "      <td>-0.009782</td>\n",
       "      <td>-0.009796</td>\n",
       "      <td>-0.014126</td>\n",
       "      <td>-0.011950</td>\n",
       "    </tr>\n",
       "    <tr>\n",
       "      <th>50%</th>\n",
       "      <td>0.008682</td>\n",
       "      <td>-0.000855</td>\n",
       "      <td>-0.004607</td>\n",
       "      <td>0.002931</td>\n",
       "      <td>0.000386</td>\n",
       "      <td>-0.003445</td>\n",
       "      <td>0.000175</td>\n",
       "      <td>0.001223</td>\n",
       "      <td>0.000756</td>\n",
       "      <td>0.001159</td>\n",
       "      <td>...</td>\n",
       "      <td>-0.004410</td>\n",
       "      <td>-0.001070</td>\n",
       "      <td>0.002931</td>\n",
       "      <td>-0.003224</td>\n",
       "      <td>0.004405</td>\n",
       "      <td>0.000842</td>\n",
       "      <td>-0.000724</td>\n",
       "      <td>0.000283</td>\n",
       "      <td>0.002556</td>\n",
       "      <td>-0.001825</td>\n",
       "    </tr>\n",
       "    <tr>\n",
       "      <th>75%</th>\n",
       "      <td>0.060366</td>\n",
       "      <td>0.037437</td>\n",
       "      <td>0.027278</td>\n",
       "      <td>0.028093</td>\n",
       "      <td>0.005369</td>\n",
       "      <td>0.033023</td>\n",
       "      <td>0.026689</td>\n",
       "      <td>0.070483</td>\n",
       "      <td>0.024166</td>\n",
       "      <td>0.074591</td>\n",
       "      <td>...</td>\n",
       "      <td>0.057981</td>\n",
       "      <td>0.012945</td>\n",
       "      <td>0.028093</td>\n",
       "      <td>0.004492</td>\n",
       "      <td>0.013251</td>\n",
       "      <td>0.010264</td>\n",
       "      <td>0.010760</td>\n",
       "      <td>0.007115</td>\n",
       "      <td>0.011740</td>\n",
       "      <td>0.010185</td>\n",
       "    </tr>\n",
       "    <tr>\n",
       "      <th>max</th>\n",
       "      <td>1.000000</td>\n",
       "      <td>1.000000</td>\n",
       "      <td>1.000000</td>\n",
       "      <td>1.000000</td>\n",
       "      <td>1.000000</td>\n",
       "      <td>1.000000</td>\n",
       "      <td>1.000000</td>\n",
       "      <td>1.000000</td>\n",
       "      <td>1.000000</td>\n",
       "      <td>1.000000</td>\n",
       "      <td>...</td>\n",
       "      <td>1.000000</td>\n",
       "      <td>1.000000</td>\n",
       "      <td>1.000000</td>\n",
       "      <td>1.000000</td>\n",
       "      <td>1.000000</td>\n",
       "      <td>1.000000</td>\n",
       "      <td>1.000000</td>\n",
       "      <td>1.000000</td>\n",
       "      <td>1.000000</td>\n",
       "      <td>1.000000</td>\n",
       "    </tr>\n",
       "  </tbody>\n",
       "</table>\n",
       "<p>8 rows × 84 columns</p>\n",
       "</div>"
      ],
      "text/plain": [
       "       account_id  client_id  test_cr_performance  month_verif       var5  \\\n",
       "count   84.000000  84.000000            84.000000    84.000000  84.000000   \n",
       "mean     0.030941  -0.024792             0.010554     0.017393  -0.000439   \n",
       "std      0.279365   0.320081             0.129976     0.183721   0.131689   \n",
       "min     -0.895410  -0.783384            -0.203612    -0.206973  -0.483167   \n",
       "25%     -0.033191  -0.065183            -0.036185    -0.036146  -0.003264   \n",
       "50%      0.008682  -0.000855            -0.004607     0.002931   0.000386   \n",
       "75%      0.060366   0.037437             0.027278     0.028093   0.005369   \n",
       "max      1.000000   1.000000             1.000000     1.000000   1.000000   \n",
       "\n",
       "            var6       var7       var8       var9      var10  ...     var153  \\\n",
       "count  84.000000  84.000000  84.000000  84.000000  84.000000  ...  84.000000   \n",
       "mean    0.013281  -0.012736   0.066609   0.036850   0.063646  ...  -0.023122   \n",
       "std     0.130163   0.166101   0.244927   0.127230   0.248726  ...   0.317423   \n",
       "min    -0.208388  -0.439562  -0.381592  -0.050705  -0.425579  ...  -0.895410   \n",
       "25%    -0.038158  -0.040382  -0.012762  -0.002512  -0.013692  ...  -0.128908   \n",
       "50%    -0.003445   0.000175   0.001223   0.000756   0.001159  ...  -0.004410   \n",
       "75%     0.033023   0.026689   0.070483   0.024166   0.074591  ...   0.057981   \n",
       "max     1.000000   1.000000   1.000000   1.000000   1.000000  ...   1.000000   \n",
       "\n",
       "          var154      month        day       hour    weekday    year_62  \\\n",
       "count  84.000000  84.000000  84.000000  84.000000  84.000000  84.000000   \n",
       "mean    0.012005   0.017393   0.001463   0.010642   0.014220  -0.002009   \n",
       "std     0.115376   0.183721   0.117766   0.112031   0.109926   0.167652   \n",
       "min    -0.176272  -0.206973  -0.319891  -0.176272  -0.049347  -0.898369   \n",
       "25%    -0.013815  -0.036146  -0.019002  -0.010625  -0.003644  -0.009782   \n",
       "50%    -0.001070   0.002931  -0.003224   0.004405   0.000842  -0.000724   \n",
       "75%     0.012945   0.028093   0.004492   0.013251   0.010264   0.010760   \n",
       "max     1.000000   1.000000   1.000000   1.000000   1.000000   1.000000   \n",
       "\n",
       "        month_62     day_62  weekday_62  \n",
       "count  84.000000  84.000000   84.000000  \n",
       "mean    0.004688   0.006054    0.009915  \n",
       "std     0.155830   0.121691    0.131736  \n",
       "min    -0.898369  -0.151712   -0.247549  \n",
       "25%    -0.009796  -0.014126   -0.011950  \n",
       "50%     0.000283   0.002556   -0.001825  \n",
       "75%     0.007115   0.011740    0.010185  \n",
       "max     1.000000   1.000000    1.000000  \n",
       "\n",
       "[8 rows x 84 columns]"
      ]
     },
     "execution_count": 40,
     "metadata": {},
     "output_type": "execute_result"
    }
   ],
   "source": [
    "corr_table = X.corr()\n",
    "corr_table.describe()"
   ]
  },
  {
   "cell_type": "code",
   "execution_count": 41,
   "metadata": {},
   "outputs": [
    {
     "data": {
      "text/plain": [
       "<AxesSubplot:>"
      ]
     },
     "execution_count": 41,
     "metadata": {},
     "output_type": "execute_result"
    },
    {
     "data": {
      "image/png": "[encoded data removed]",
      "text/plain": [
       "<Figure size 432x288 with 2 Axes>"
      ]
     },
     "metadata": {},
     "output_type": "display_data"
    }
   ],
   "source": [
    "sns.heatmap(corr_table)"
   ]
  },
  {
   "cell_type": "code",
   "execution_count": 42,
   "metadata": {},
   "outputs": [],
   "source": [
    "#plt.plot(df.corr().loc[:,'dep_var'])"
   ]
  },
  {
   "cell_type": "code",
   "execution_count": 43,
   "metadata": {},
   "outputs": [
    {
     "name": "stdout",
     "output_type": "stream",
     "text": [
      "Количество учтенных имен: 5638 \n",
      "Количество учтенных переменных 84:\n"
     ]
    },
    {
     "data": {
      "image/png": "[encoded data removed]",
      "text/plain": [
       "<Figure size 432x288 with 1 Axes>"
      ]
     },
     "metadata": {},
     "output_type": "display_data"
    }
   ],
   "source": [
    "# посмотрим зависимые друг от друга переменные \n",
    "# отберем имена переменных с низкой корреляцией по отношению к другим\n",
    "\n",
    "corr_level_low = -0.1\n",
    "corr_level_high = 0.1\n",
    "non_corr_feature_list = []\n",
    "# для каждой переменной выделем те, которые имеют с корреляцию\n",
    "# в заданном пределе\n",
    "for column in corr_table.columns:\n",
    "    indexes = (corr_table[corr_table.loc[:, column]\n",
    "                          .between(corr_level_low, \n",
    "                                   corr_level_high)][column].index)\n",
    "    non_corr_feature_list.append(indexes)\n",
    "\n",
    "# запишем в один лист все имена таких переменных\n",
    "non_corr_features = []\n",
    "for index_list in non_corr_feature_list:\n",
    "    for col_name in index_list:\n",
    "        non_corr_features.append(col_name)\n",
    "        \n",
    "print('Количество учтенных имен: {}'.format(len(non_corr_features)), \n",
    "      '\\nКоличество учтенных переменных {}:'.format(len(corr_table.columns)))\n",
    "\n",
    "# посмотрим количество столбцов, для которого переменная \n",
    "# отвечает условию на корреляцию \n",
    "from collections import Counter\n",
    "\n",
    "fig, ax = plt.subplots()\n",
    "ax.plot(Counter(non_corr_features).keys(), \n",
    "         Counter(non_corr_features).values(), color='g', \n",
    "         mec='r', marker='.')\n",
    "ax.set_xlabel('Переменные')\n",
    "ax.set_ylabel('Количество столбцов,\\nдля которых переменная\\n\\\n",
    "имеет корреляцию\\n\\\n",
    "в заданном интервале')\n",
    "fig.suptitle('Параметры, отвечающие условию корреляции',\n",
    "            y=1.0)\n",
    "\n",
    "np.mean(list(Counter(non_corr_features).values()))\n",
    "np.std(list(Counter(non_corr_features).values()))\n",
    "\n",
    "freq = dict(Counter(non_corr_features))"
   ]
  },
  {
   "cell_type": "code",
   "execution_count": 44,
   "metadata": {},
   "outputs": [],
   "source": [
    "## отбор столбцов по условию корреляции с другими\n",
    "\n",
    "## функция для получения keys по values\n",
    "# def get_key(dictionary, value):\n",
    "#     for k, v in dictionary.items():\n",
    "#         if v == value:\n",
    "#             return k\n",
    "\n",
    "## отбор столбцов \n",
    "# freq_level = (len(corr_table.columns) * 0.7)\n",
    "# non_corr_cols = []\n",
    "# for value in freq.values():\n",
    "#     if value > freq_level:\n",
    "#         non_corr_key = get_key(freq, value)\n",
    "#         non_corr_cols.append(non_corr_key)\n",
    "# print(non_corr_cols)\n",
    "\n",
    "# X = X[non_corr_cols]"
   ]
  },
  {
   "cell_type": "markdown",
   "metadata": {},
   "source": [
    "Можем задать порог на вхождение столбца в итоговый набор данных. Если корреляция значений данного столбца находится в заданном интервале по отношению к n столбцам из выборки (переменная freq_level), то вкючаем этот столбец в итоговый датасет. Собственно, можем задать n.\n",
    "\n",
    "Однако по heatmap выше видно, что корреляция между переменными не большая и пока что не будем исключать столбцы по этому условию."
   ]
  },
  {
   "cell_type": "markdown",
   "metadata": {},
   "source": [
    "### Стандартизация"
   ]
  },
  {
   "cell_type": "code",
   "execution_count": 45,
   "metadata": {},
   "outputs": [],
   "source": [
    "from sklearn.preprocessing import StandardScaler"
   ]
  },
  {
   "cell_type": "code",
   "execution_count": 46,
   "metadata": {},
   "outputs": [],
   "source": [
    "scaler = StandardScaler()"
   ]
  },
  {
   "cell_type": "code",
   "execution_count": 47,
   "metadata": {},
   "outputs": [
    {
     "data": {
      "text/plain": [
       "StandardScaler()"
      ]
     },
     "execution_count": 47,
     "metadata": {},
     "output_type": "execute_result"
    }
   ],
   "source": [
    "scaler.fit(X)"
   ]
  },
  {
   "cell_type": "code",
   "execution_count": 48,
   "metadata": {},
   "outputs": [],
   "source": [
    "columns = X.columns"
   ]
  },
  {
   "cell_type": "code",
   "execution_count": 49,
   "metadata": {},
   "outputs": [],
   "source": [
    "X_scaled = scaler.transform(X)\n",
    "X_scaled = pd.DataFrame(X_scaled, columns=columns)"
   ]
  },
  {
   "cell_type": "code",
   "execution_count": 50,
   "metadata": {},
   "outputs": [
    {
     "data": {
      "text/html": [
       "<div>\n",
       "<style scoped>\n",
       "    .dataframe tbody tr th:only-of-type {\n",
       "        vertical-align: middle;\n",
       "    }\n",
       "\n",
       "    .dataframe tbody tr th {\n",
       "        vertical-align: top;\n",
       "    }\n",
       "\n",
       "    .dataframe thead th {\n",
       "        text-align: right;\n",
       "    }\n",
       "</style>\n",
       "<table border=\"1\" class=\"dataframe\">\n",
       "  <thead>\n",
       "    <tr style=\"text-align: right;\">\n",
       "      <th></th>\n",
       "      <th>account_id</th>\n",
       "      <th>client_id</th>\n",
       "      <th>test_cr_performance</th>\n",
       "      <th>month_verif</th>\n",
       "      <th>var5</th>\n",
       "      <th>var6</th>\n",
       "      <th>var7</th>\n",
       "      <th>var8</th>\n",
       "      <th>var9</th>\n",
       "      <th>var10</th>\n",
       "      <th>...</th>\n",
       "      <th>var153</th>\n",
       "      <th>var154</th>\n",
       "      <th>month</th>\n",
       "      <th>day</th>\n",
       "      <th>hour</th>\n",
       "      <th>weekday</th>\n",
       "      <th>year_62</th>\n",
       "      <th>month_62</th>\n",
       "      <th>day_62</th>\n",
       "      <th>weekday_62</th>\n",
       "    </tr>\n",
       "  </thead>\n",
       "  <tbody>\n",
       "    <tr>\n",
       "      <th>0</th>\n",
       "      <td>0.940907</td>\n",
       "      <td>-1.518420</td>\n",
       "      <td>0.771888</td>\n",
       "      <td>-2.145461</td>\n",
       "      <td>0.041815</td>\n",
       "      <td>-0.373297</td>\n",
       "      <td>0.702168</td>\n",
       "      <td>-0.317005</td>\n",
       "      <td>-0.123519</td>\n",
       "      <td>-0.31562</td>\n",
       "      <td>...</td>\n",
       "      <td>-1.361491</td>\n",
       "      <td>1.227411</td>\n",
       "      <td>-2.145461</td>\n",
       "      <td>-1.640177</td>\n",
       "      <td>-2.644073</td>\n",
       "      <td>0.05434</td>\n",
       "      <td>0.976185</td>\n",
       "      <td>-0.887693</td>\n",
       "      <td>0.880047</td>\n",
       "      <td>0.633184</td>\n",
       "    </tr>\n",
       "    <tr>\n",
       "      <th>1</th>\n",
       "      <td>0.940907</td>\n",
       "      <td>-1.563014</td>\n",
       "      <td>0.771888</td>\n",
       "      <td>-2.145461</td>\n",
       "      <td>0.041815</td>\n",
       "      <td>-0.373297</td>\n",
       "      <td>0.702168</td>\n",
       "      <td>-0.317005</td>\n",
       "      <td>-0.123519</td>\n",
       "      <td>-0.31562</td>\n",
       "      <td>...</td>\n",
       "      <td>-1.361491</td>\n",
       "      <td>-0.574469</td>\n",
       "      <td>-2.145461</td>\n",
       "      <td>-1.640177</td>\n",
       "      <td>-2.575060</td>\n",
       "      <td>0.05434</td>\n",
       "      <td>-0.242474</td>\n",
       "      <td>1.134444</td>\n",
       "      <td>-0.364364</td>\n",
       "      <td>-0.264511</td>\n",
       "    </tr>\n",
       "    <tr>\n",
       "      <th>2</th>\n",
       "      <td>0.940907</td>\n",
       "      <td>-1.518407</td>\n",
       "      <td>0.771888</td>\n",
       "      <td>-2.145461</td>\n",
       "      <td>0.041815</td>\n",
       "      <td>-0.373297</td>\n",
       "      <td>0.702168</td>\n",
       "      <td>-0.317005</td>\n",
       "      <td>-0.123519</td>\n",
       "      <td>-0.31562</td>\n",
       "      <td>...</td>\n",
       "      <td>-1.361491</td>\n",
       "      <td>-0.574469</td>\n",
       "      <td>-2.145461</td>\n",
       "      <td>-1.640177</td>\n",
       "      <td>-2.407456</td>\n",
       "      <td>0.05434</td>\n",
       "      <td>0.976185</td>\n",
       "      <td>-1.393227</td>\n",
       "      <td>0.880047</td>\n",
       "      <td>-0.713359</td>\n",
       "    </tr>\n",
       "    <tr>\n",
       "      <th>3</th>\n",
       "      <td>0.940907</td>\n",
       "      <td>-1.518402</td>\n",
       "      <td>0.771888</td>\n",
       "      <td>-2.145461</td>\n",
       "      <td>0.041815</td>\n",
       "      <td>2.678829</td>\n",
       "      <td>0.702168</td>\n",
       "      <td>-0.317005</td>\n",
       "      <td>-0.123519</td>\n",
       "      <td>-0.31562</td>\n",
       "      <td>...</td>\n",
       "      <td>-1.361491</td>\n",
       "      <td>-0.574469</td>\n",
       "      <td>-2.145461</td>\n",
       "      <td>-1.640177</td>\n",
       "      <td>-2.371964</td>\n",
       "      <td>0.05434</td>\n",
       "      <td>0.976185</td>\n",
       "      <td>-0.634926</td>\n",
       "      <td>-0.364364</td>\n",
       "      <td>1.530879</td>\n",
       "    </tr>\n",
       "    <tr>\n",
       "      <th>4</th>\n",
       "      <td>0.940907</td>\n",
       "      <td>-1.899698</td>\n",
       "      <td>0.771888</td>\n",
       "      <td>-2.145461</td>\n",
       "      <td>0.041815</td>\n",
       "      <td>-0.373297</td>\n",
       "      <td>0.702168</td>\n",
       "      <td>-0.317005</td>\n",
       "      <td>-0.123519</td>\n",
       "      <td>-0.31562</td>\n",
       "      <td>...</td>\n",
       "      <td>-1.361491</td>\n",
       "      <td>-0.574469</td>\n",
       "      <td>-2.145461</td>\n",
       "      <td>-1.640177</td>\n",
       "      <td>-2.214219</td>\n",
       "      <td>0.05434</td>\n",
       "      <td>-1.461132</td>\n",
       "      <td>1.387211</td>\n",
       "      <td>0.880047</td>\n",
       "      <td>0.184336</td>\n",
       "    </tr>\n",
       "    <tr>\n",
       "      <th>...</th>\n",
       "      <td>...</td>\n",
       "      <td>...</td>\n",
       "      <td>...</td>\n",
       "      <td>...</td>\n",
       "      <td>...</td>\n",
       "      <td>...</td>\n",
       "      <td>...</td>\n",
       "      <td>...</td>\n",
       "      <td>...</td>\n",
       "      <td>...</td>\n",
       "      <td>...</td>\n",
       "      <td>...</td>\n",
       "      <td>...</td>\n",
       "      <td>...</td>\n",
       "      <td>...</td>\n",
       "      <td>...</td>\n",
       "      <td>...</td>\n",
       "      <td>...</td>\n",
       "      <td>...</td>\n",
       "      <td>...</td>\n",
       "      <td>...</td>\n",
       "    </tr>\n",
       "    <tr>\n",
       "      <th>23485</th>\n",
       "      <td>2.539482</td>\n",
       "      <td>-0.410054</td>\n",
       "      <td>0.771888</td>\n",
       "      <td>2.251789</td>\n",
       "      <td>0.041815</td>\n",
       "      <td>-0.373297</td>\n",
       "      <td>0.702168</td>\n",
       "      <td>-0.317005</td>\n",
       "      <td>-0.123519</td>\n",
       "      <td>-0.31562</td>\n",
       "      <td>...</td>\n",
       "      <td>-1.361491</td>\n",
       "      <td>0.326471</td>\n",
       "      <td>2.251789</td>\n",
       "      <td>-0.111211</td>\n",
       "      <td>1.275884</td>\n",
       "      <td>0.05434</td>\n",
       "      <td>-1.461132</td>\n",
       "      <td>1.134444</td>\n",
       "      <td>-0.364364</td>\n",
       "      <td>-1.162206</td>\n",
       "    </tr>\n",
       "    <tr>\n",
       "      <th>23486</th>\n",
       "      <td>2.539482</td>\n",
       "      <td>-0.437652</td>\n",
       "      <td>-1.332528</td>\n",
       "      <td>2.251789</td>\n",
       "      <td>0.041815</td>\n",
       "      <td>-0.373297</td>\n",
       "      <td>0.702168</td>\n",
       "      <td>-0.317005</td>\n",
       "      <td>-0.123519</td>\n",
       "      <td>-0.31562</td>\n",
       "      <td>...</td>\n",
       "      <td>-1.361491</td>\n",
       "      <td>-0.574469</td>\n",
       "      <td>2.251789</td>\n",
       "      <td>-0.111211</td>\n",
       "      <td>1.473065</td>\n",
       "      <td>0.05434</td>\n",
       "      <td>-0.242474</td>\n",
       "      <td>0.376143</td>\n",
       "      <td>0.880047</td>\n",
       "      <td>-0.264511</td>\n",
       "    </tr>\n",
       "    <tr>\n",
       "      <th>23487</th>\n",
       "      <td>2.539482</td>\n",
       "      <td>-0.665047</td>\n",
       "      <td>0.771888</td>\n",
       "      <td>2.251789</td>\n",
       "      <td>0.041815</td>\n",
       "      <td>-0.373297</td>\n",
       "      <td>0.702168</td>\n",
       "      <td>-0.317005</td>\n",
       "      <td>-0.123519</td>\n",
       "      <td>-0.31562</td>\n",
       "      <td>...</td>\n",
       "      <td>-1.361491</td>\n",
       "      <td>-0.574469</td>\n",
       "      <td>2.251789</td>\n",
       "      <td>-0.111211</td>\n",
       "      <td>1.670246</td>\n",
       "      <td>0.05434</td>\n",
       "      <td>-0.242474</td>\n",
       "      <td>0.123376</td>\n",
       "      <td>0.880047</td>\n",
       "      <td>1.530879</td>\n",
       "    </tr>\n",
       "    <tr>\n",
       "      <th>23488</th>\n",
       "      <td>2.539482</td>\n",
       "      <td>-0.409748</td>\n",
       "      <td>0.771888</td>\n",
       "      <td>2.251789</td>\n",
       "      <td>0.041815</td>\n",
       "      <td>-0.373297</td>\n",
       "      <td>0.702168</td>\n",
       "      <td>-0.317005</td>\n",
       "      <td>-0.123519</td>\n",
       "      <td>-0.31562</td>\n",
       "      <td>...</td>\n",
       "      <td>-1.361491</td>\n",
       "      <td>-0.574469</td>\n",
       "      <td>2.251789</td>\n",
       "      <td>-0.111211</td>\n",
       "      <td>1.867427</td>\n",
       "      <td>0.05434</td>\n",
       "      <td>0.976185</td>\n",
       "      <td>-0.887693</td>\n",
       "      <td>0.880047</td>\n",
       "      <td>0.633184</td>\n",
       "    </tr>\n",
       "    <tr>\n",
       "      <th>23489</th>\n",
       "      <td>2.539482</td>\n",
       "      <td>-0.409797</td>\n",
       "      <td>0.771888</td>\n",
       "      <td>2.251789</td>\n",
       "      <td>0.041815</td>\n",
       "      <td>-0.373297</td>\n",
       "      <td>0.702168</td>\n",
       "      <td>-0.317005</td>\n",
       "      <td>-0.123519</td>\n",
       "      <td>-0.31562</td>\n",
       "      <td>...</td>\n",
       "      <td>-1.361491</td>\n",
       "      <td>-0.574469</td>\n",
       "      <td>2.251789</td>\n",
       "      <td>-0.111211</td>\n",
       "      <td>1.867427</td>\n",
       "      <td>0.05434</td>\n",
       "      <td>-0.242474</td>\n",
       "      <td>1.387211</td>\n",
       "      <td>0.880047</td>\n",
       "      <td>1.082031</td>\n",
       "    </tr>\n",
       "  </tbody>\n",
       "</table>\n",
       "<p>23490 rows × 84 columns</p>\n",
       "</div>"
      ],
      "text/plain": [
       "       account_id  client_id  test_cr_performance  month_verif      var5  \\\n",
       "0        0.940907  -1.518420             0.771888    -2.145461  0.041815   \n",
       "1        0.940907  -1.563014             0.771888    -2.145461  0.041815   \n",
       "2        0.940907  -1.518407             0.771888    -2.145461  0.041815   \n",
       "3        0.940907  -1.518402             0.771888    -2.145461  0.041815   \n",
       "4        0.940907  -1.899698             0.771888    -2.145461  0.041815   \n",
       "...           ...        ...                  ...          ...       ...   \n",
       "23485    2.539482  -0.410054             0.771888     2.251789  0.041815   \n",
       "23486    2.539482  -0.437652            -1.332528     2.251789  0.041815   \n",
       "23487    2.539482  -0.665047             0.771888     2.251789  0.041815   \n",
       "23488    2.539482  -0.409748             0.771888     2.251789  0.041815   \n",
       "23489    2.539482  -0.409797             0.771888     2.251789  0.041815   \n",
       "\n",
       "           var6      var7      var8      var9    var10  ...    var153  \\\n",
       "0     -0.373297  0.702168 -0.317005 -0.123519 -0.31562  ... -1.361491   \n",
       "1     -0.373297  0.702168 -0.317005 -0.123519 -0.31562  ... -1.361491   \n",
       "2     -0.373297  0.702168 -0.317005 -0.123519 -0.31562  ... -1.361491   \n",
       "3      2.678829  0.702168 -0.317005 -0.123519 -0.31562  ... -1.361491   \n",
       "4     -0.373297  0.702168 -0.317005 -0.123519 -0.31562  ... -1.361491   \n",
       "...         ...       ...       ...       ...      ...  ...       ...   \n",
       "23485 -0.373297  0.702168 -0.317005 -0.123519 -0.31562  ... -1.361491   \n",
       "23486 -0.373297  0.702168 -0.317005 -0.123519 -0.31562  ... -1.361491   \n",
       "23487 -0.373297  0.702168 -0.317005 -0.123519 -0.31562  ... -1.361491   \n",
       "23488 -0.373297  0.702168 -0.317005 -0.123519 -0.31562  ... -1.361491   \n",
       "23489 -0.373297  0.702168 -0.317005 -0.123519 -0.31562  ... -1.361491   \n",
       "\n",
       "         var154     month       day      hour  weekday   year_62  month_62  \\\n",
       "0      1.227411 -2.145461 -1.640177 -2.644073  0.05434  0.976185 -0.887693   \n",
       "1     -0.574469 -2.145461 -1.640177 -2.575060  0.05434 -0.242474  1.134444   \n",
       "2     -0.574469 -2.145461 -1.640177 -2.407456  0.05434  0.976185 -1.393227   \n",
       "3     -0.574469 -2.145461 -1.640177 -2.371964  0.05434  0.976185 -0.634926   \n",
       "4     -0.574469 -2.145461 -1.640177 -2.214219  0.05434 -1.461132  1.387211   \n",
       "...         ...       ...       ...       ...      ...       ...       ...   \n",
       "23485  0.326471  2.251789 -0.111211  1.275884  0.05434 -1.461132  1.134444   \n",
       "23486 -0.574469  2.251789 -0.111211  1.473065  0.05434 -0.242474  0.376143   \n",
       "23487 -0.574469  2.251789 -0.111211  1.670246  0.05434 -0.242474  0.123376   \n",
       "23488 -0.574469  2.251789 -0.111211  1.867427  0.05434  0.976185 -0.887693   \n",
       "23489 -0.574469  2.251789 -0.111211  1.867427  0.05434 -0.242474  1.387211   \n",
       "\n",
       "         day_62  weekday_62  \n",
       "0      0.880047    0.633184  \n",
       "1     -0.364364   -0.264511  \n",
       "2      0.880047   -0.713359  \n",
       "3     -0.364364    1.530879  \n",
       "4      0.880047    0.184336  \n",
       "...         ...         ...  \n",
       "23485 -0.364364   -1.162206  \n",
       "23486  0.880047   -0.264511  \n",
       "23487  0.880047    1.530879  \n",
       "23488  0.880047    0.633184  \n",
       "23489  0.880047    1.082031  \n",
       "\n",
       "[23490 rows x 84 columns]"
      ]
     },
     "execution_count": 50,
     "metadata": {},
     "output_type": "execute_result"
    }
   ],
   "source": [
    "X_scaled"
   ]
  },
  {
   "cell_type": "markdown",
   "metadata": {},
   "source": [
    "### Тренировочная и тестовая выборки"
   ]
  },
  {
   "cell_type": "code",
   "execution_count": 51,
   "metadata": {},
   "outputs": [],
   "source": [
    "from sklearn.model_selection import train_test_split"
   ]
  },
  {
   "cell_type": "code",
   "execution_count": 52,
   "metadata": {},
   "outputs": [],
   "source": [
    "X_train, X_val, y_train, y_val = train_test_split(X_scaled, Y, test_size=0.2)"
   ]
  },
  {
   "cell_type": "code",
   "execution_count": 53,
   "metadata": {},
   "outputs": [
    {
     "data": {
      "text/plain": [
       "(18792, 84)"
      ]
     },
     "execution_count": 53,
     "metadata": {},
     "output_type": "execute_result"
    }
   ],
   "source": [
    "X_train.shape"
   ]
  },
  {
   "cell_type": "code",
   "execution_count": 54,
   "metadata": {},
   "outputs": [
    {
     "data": {
      "text/plain": [
       "(18792,)"
      ]
     },
     "execution_count": 54,
     "metadata": {},
     "output_type": "execute_result"
    }
   ],
   "source": [
    "y_train.shape"
   ]
  },
  {
   "cell_type": "code",
   "execution_count": 55,
   "metadata": {},
   "outputs": [
    {
     "data": {
      "text/plain": [
       "(4698, 84)"
      ]
     },
     "execution_count": 55,
     "metadata": {},
     "output_type": "execute_result"
    }
   ],
   "source": [
    "X_val.shape"
   ]
  },
  {
   "cell_type": "code",
   "execution_count": 56,
   "metadata": {},
   "outputs": [
    {
     "data": {
      "text/plain": [
       "(4698,)"
      ]
     },
     "execution_count": 56,
     "metadata": {},
     "output_type": "execute_result"
    }
   ],
   "source": [
    "y_val.shape"
   ]
  },
  {
   "cell_type": "code",
   "execution_count": 57,
   "metadata": {},
   "outputs": [
    {
     "data": {
      "text/html": [
       "<div>\n",
       "<style scoped>\n",
       "    .dataframe tbody tr th:only-of-type {\n",
       "        vertical-align: middle;\n",
       "    }\n",
       "\n",
       "    .dataframe tbody tr th {\n",
       "        vertical-align: top;\n",
       "    }\n",
       "\n",
       "    .dataframe thead th {\n",
       "        text-align: right;\n",
       "    }\n",
       "</style>\n",
       "<table border=\"1\" class=\"dataframe\">\n",
       "  <thead>\n",
       "    <tr style=\"text-align: right;\">\n",
       "      <th></th>\n",
       "      <th>account_id</th>\n",
       "      <th>client_id</th>\n",
       "      <th>test_cr_performance</th>\n",
       "      <th>month_verif</th>\n",
       "      <th>var5</th>\n",
       "      <th>var6</th>\n",
       "      <th>var7</th>\n",
       "      <th>var8</th>\n",
       "      <th>var9</th>\n",
       "      <th>var10</th>\n",
       "      <th>...</th>\n",
       "      <th>var153</th>\n",
       "      <th>var154</th>\n",
       "      <th>month</th>\n",
       "      <th>day</th>\n",
       "      <th>hour</th>\n",
       "      <th>weekday</th>\n",
       "      <th>year_62</th>\n",
       "      <th>month_62</th>\n",
       "      <th>day_62</th>\n",
       "      <th>weekday_62</th>\n",
       "    </tr>\n",
       "  </thead>\n",
       "  <tbody>\n",
       "    <tr>\n",
       "      <th>5021</th>\n",
       "      <td>-0.657669</td>\n",
       "      <td>0.573009</td>\n",
       "      <td>0.771888</td>\n",
       "      <td>-0.679711</td>\n",
       "      <td>0.041815</td>\n",
       "      <td>2.678829</td>\n",
       "      <td>-1.424160</td>\n",
       "      <td>-0.317005</td>\n",
       "      <td>-0.123519</td>\n",
       "      <td>-0.315620</td>\n",
       "      <td>...</td>\n",
       "      <td>0.411561</td>\n",
       "      <td>-0.123999</td>\n",
       "      <td>-0.679711</td>\n",
       "      <td>-0.548059</td>\n",
       "      <td>1.506586</td>\n",
       "      <td>-0.953115</td>\n",
       "      <td>0.976185</td>\n",
       "      <td>-1.140460</td>\n",
       "      <td>-2.853188</td>\n",
       "      <td>-0.713359</td>\n",
       "    </tr>\n",
       "    <tr>\n",
       "      <th>5896</th>\n",
       "      <td>-0.657669</td>\n",
       "      <td>0.589909</td>\n",
       "      <td>0.771888</td>\n",
       "      <td>-0.679711</td>\n",
       "      <td>0.041815</td>\n",
       "      <td>-0.373297</td>\n",
       "      <td>-1.424160</td>\n",
       "      <td>-0.317005</td>\n",
       "      <td>-0.123519</td>\n",
       "      <td>-0.315620</td>\n",
       "      <td>...</td>\n",
       "      <td>1.002578</td>\n",
       "      <td>-0.574469</td>\n",
       "      <td>-0.679711</td>\n",
       "      <td>-0.111211</td>\n",
       "      <td>0.175615</td>\n",
       "      <td>1.061795</td>\n",
       "      <td>0.976185</td>\n",
       "      <td>-0.634926</td>\n",
       "      <td>-0.364364</td>\n",
       "      <td>1.530879</td>\n",
       "    </tr>\n",
       "    <tr>\n",
       "      <th>2586</th>\n",
       "      <td>-0.657669</td>\n",
       "      <td>0.523660</td>\n",
       "      <td>-1.332528</td>\n",
       "      <td>-0.679711</td>\n",
       "      <td>0.041815</td>\n",
       "      <td>-0.373297</td>\n",
       "      <td>0.702168</td>\n",
       "      <td>-0.317005</td>\n",
       "      <td>-0.123519</td>\n",
       "      <td>-0.315620</td>\n",
       "      <td>...</td>\n",
       "      <td>0.411561</td>\n",
       "      <td>2.578820</td>\n",
       "      <td>-0.679711</td>\n",
       "      <td>-1.421754</td>\n",
       "      <td>-1.498452</td>\n",
       "      <td>-1.456842</td>\n",
       "      <td>0.976185</td>\n",
       "      <td>-1.140460</td>\n",
       "      <td>-2.853188</td>\n",
       "      <td>-0.713359</td>\n",
       "    </tr>\n",
       "    <tr>\n",
       "      <th>20485</th>\n",
       "      <td>-0.657669</td>\n",
       "      <td>0.828678</td>\n",
       "      <td>-1.332528</td>\n",
       "      <td>0.786039</td>\n",
       "      <td>0.041815</td>\n",
       "      <td>-0.373297</td>\n",
       "      <td>-1.424160</td>\n",
       "      <td>-0.317005</td>\n",
       "      <td>-0.123519</td>\n",
       "      <td>-0.315620</td>\n",
       "      <td>...</td>\n",
       "      <td>1.002578</td>\n",
       "      <td>-0.574469</td>\n",
       "      <td>0.786039</td>\n",
       "      <td>0.980908</td>\n",
       "      <td>1.335039</td>\n",
       "      <td>0.558067</td>\n",
       "      <td>-0.242474</td>\n",
       "      <td>0.628910</td>\n",
       "      <td>-0.364364</td>\n",
       "      <td>0.633184</td>\n",
       "    </tr>\n",
       "    <tr>\n",
       "      <th>2055</th>\n",
       "      <td>-0.657669</td>\n",
       "      <td>0.514668</td>\n",
       "      <td>-1.332528</td>\n",
       "      <td>-0.679711</td>\n",
       "      <td>0.041815</td>\n",
       "      <td>-0.373297</td>\n",
       "      <td>-1.424160</td>\n",
       "      <td>-0.317005</td>\n",
       "      <td>-0.123519</td>\n",
       "      <td>-0.315620</td>\n",
       "      <td>...</td>\n",
       "      <td>1.002578</td>\n",
       "      <td>-0.123999</td>\n",
       "      <td>-0.679711</td>\n",
       "      <td>-1.640177</td>\n",
       "      <td>-0.966063</td>\n",
       "      <td>1.061795</td>\n",
       "      <td>-0.242474</td>\n",
       "      <td>0.881677</td>\n",
       "      <td>0.880047</td>\n",
       "      <td>-1.162206</td>\n",
       "    </tr>\n",
       "    <tr>\n",
       "      <th>...</th>\n",
       "      <td>...</td>\n",
       "      <td>...</td>\n",
       "      <td>...</td>\n",
       "      <td>...</td>\n",
       "      <td>...</td>\n",
       "      <td>...</td>\n",
       "      <td>...</td>\n",
       "      <td>...</td>\n",
       "      <td>...</td>\n",
       "      <td>...</td>\n",
       "      <td>...</td>\n",
       "      <td>...</td>\n",
       "      <td>...</td>\n",
       "      <td>...</td>\n",
       "      <td>...</td>\n",
       "      <td>...</td>\n",
       "      <td>...</td>\n",
       "      <td>...</td>\n",
       "      <td>...</td>\n",
       "      <td>...</td>\n",
       "      <td>...</td>\n",
       "    </tr>\n",
       "    <tr>\n",
       "      <th>1739</th>\n",
       "      <td>0.940907</td>\n",
       "      <td>-1.562186</td>\n",
       "      <td>-1.332528</td>\n",
       "      <td>-2.145461</td>\n",
       "      <td>0.041815</td>\n",
       "      <td>-0.373297</td>\n",
       "      <td>0.702168</td>\n",
       "      <td>3.154528</td>\n",
       "      <td>-0.123519</td>\n",
       "      <td>3.168365</td>\n",
       "      <td>...</td>\n",
       "      <td>-1.361491</td>\n",
       "      <td>-0.574469</td>\n",
       "      <td>-2.145461</td>\n",
       "      <td>1.308543</td>\n",
       "      <td>-1.232258</td>\n",
       "      <td>-0.449387</td>\n",
       "      <td>0.976185</td>\n",
       "      <td>-0.634926</td>\n",
       "      <td>-0.364364</td>\n",
       "      <td>1.530879</td>\n",
       "    </tr>\n",
       "    <tr>\n",
       "      <th>10930</th>\n",
       "      <td>2.539482</td>\n",
       "      <td>-0.572226</td>\n",
       "      <td>0.771888</td>\n",
       "      <td>-0.679711</td>\n",
       "      <td>0.041815</td>\n",
       "      <td>-0.373297</td>\n",
       "      <td>-1.424160</td>\n",
       "      <td>-0.317005</td>\n",
       "      <td>-0.123519</td>\n",
       "      <td>-0.315620</td>\n",
       "      <td>...</td>\n",
       "      <td>-1.361491</td>\n",
       "      <td>-0.574469</td>\n",
       "      <td>-0.679711</td>\n",
       "      <td>1.636179</td>\n",
       "      <td>0.086883</td>\n",
       "      <td>-1.456842</td>\n",
       "      <td>-0.242474</td>\n",
       "      <td>0.881677</td>\n",
       "      <td>0.880047</td>\n",
       "      <td>-1.162206</td>\n",
       "    </tr>\n",
       "    <tr>\n",
       "      <th>6820</th>\n",
       "      <td>-0.657669</td>\n",
       "      <td>0.607011</td>\n",
       "      <td>0.771888</td>\n",
       "      <td>-0.679711</td>\n",
       "      <td>0.041815</td>\n",
       "      <td>2.678829</td>\n",
       "      <td>-1.424160</td>\n",
       "      <td>-0.317005</td>\n",
       "      <td>-0.123519</td>\n",
       "      <td>-0.315620</td>\n",
       "      <td>...</td>\n",
       "      <td>0.411561</td>\n",
       "      <td>1.227411</td>\n",
       "      <td>-0.679711</td>\n",
       "      <td>0.325636</td>\n",
       "      <td>-0.524378</td>\n",
       "      <td>-0.449387</td>\n",
       "      <td>-1.461132</td>\n",
       "      <td>1.134444</td>\n",
       "      <td>-0.364364</td>\n",
       "      <td>-1.162206</td>\n",
       "    </tr>\n",
       "    <tr>\n",
       "      <th>22039</th>\n",
       "      <td>-0.657669</td>\n",
       "      <td>0.854832</td>\n",
       "      <td>-1.332528</td>\n",
       "      <td>0.786039</td>\n",
       "      <td>0.041815</td>\n",
       "      <td>-0.373297</td>\n",
       "      <td>0.702168</td>\n",
       "      <td>-0.317005</td>\n",
       "      <td>-0.123519</td>\n",
       "      <td>-0.315620</td>\n",
       "      <td>...</td>\n",
       "      <td>0.411561</td>\n",
       "      <td>0.326471</td>\n",
       "      <td>0.786039</td>\n",
       "      <td>1.417755</td>\n",
       "      <td>-0.301563</td>\n",
       "      <td>-0.953115</td>\n",
       "      <td>0.976185</td>\n",
       "      <td>-0.634926</td>\n",
       "      <td>-0.364364</td>\n",
       "      <td>1.530879</td>\n",
       "    </tr>\n",
       "    <tr>\n",
       "      <th>4463</th>\n",
       "      <td>0.940907</td>\n",
       "      <td>-1.831692</td>\n",
       "      <td>0.771888</td>\n",
       "      <td>-0.679711</td>\n",
       "      <td>0.041815</td>\n",
       "      <td>-0.373297</td>\n",
       "      <td>-1.424160</td>\n",
       "      <td>-0.317005</td>\n",
       "      <td>-0.123519</td>\n",
       "      <td>-0.315620</td>\n",
       "      <td>...</td>\n",
       "      <td>-1.361491</td>\n",
       "      <td>-0.574469</td>\n",
       "      <td>-0.679711</td>\n",
       "      <td>-0.766482</td>\n",
       "      <td>0.059278</td>\n",
       "      <td>1.565522</td>\n",
       "      <td>0.976185</td>\n",
       "      <td>-0.887693</td>\n",
       "      <td>0.880047</td>\n",
       "      <td>0.633184</td>\n",
       "    </tr>\n",
       "  </tbody>\n",
       "</table>\n",
       "<p>18792 rows × 84 columns</p>\n",
       "</div>"
      ],
      "text/plain": [
       "       account_id  client_id  test_cr_performance  month_verif      var5  \\\n",
       "5021    -0.657669   0.573009             0.771888    -0.679711  0.041815   \n",
       "5896    -0.657669   0.589909             0.771888    -0.679711  0.041815   \n",
       "2586    -0.657669   0.523660            -1.332528    -0.679711  0.041815   \n",
       "20485   -0.657669   0.828678            -1.332528     0.786039  0.041815   \n",
       "2055    -0.657669   0.514668            -1.332528    -0.679711  0.041815   \n",
       "...           ...        ...                  ...          ...       ...   \n",
       "1739     0.940907  -1.562186            -1.332528    -2.145461  0.041815   \n",
       "10930    2.539482  -0.572226             0.771888    -0.679711  0.041815   \n",
       "6820    -0.657669   0.607011             0.771888    -0.679711  0.041815   \n",
       "22039   -0.657669   0.854832            -1.332528     0.786039  0.041815   \n",
       "4463     0.940907  -1.831692             0.771888    -0.679711  0.041815   \n",
       "\n",
       "           var6      var7      var8      var9     var10  ...    var153  \\\n",
       "5021   2.678829 -1.424160 -0.317005 -0.123519 -0.315620  ...  0.411561   \n",
       "5896  -0.373297 -1.424160 -0.317005 -0.123519 -0.315620  ...  1.002578   \n",
       "2586  -0.373297  0.702168 -0.317005 -0.123519 -0.315620  ...  0.411561   \n",
       "20485 -0.373297 -1.424160 -0.317005 -0.123519 -0.315620  ...  1.002578   \n",
       "2055  -0.373297 -1.424160 -0.317005 -0.123519 -0.315620  ...  1.002578   \n",
       "...         ...       ...       ...       ...       ...  ...       ...   \n",
       "1739  -0.373297  0.702168  3.154528 -0.123519  3.168365  ... -1.361491   \n",
       "10930 -0.373297 -1.424160 -0.317005 -0.123519 -0.315620  ... -1.361491   \n",
       "6820   2.678829 -1.424160 -0.317005 -0.123519 -0.315620  ...  0.411561   \n",
       "22039 -0.373297  0.702168 -0.317005 -0.123519 -0.315620  ...  0.411561   \n",
       "4463  -0.373297 -1.424160 -0.317005 -0.123519 -0.315620  ... -1.361491   \n",
       "\n",
       "         var154     month       day      hour   weekday   year_62  month_62  \\\n",
       "5021  -0.123999 -0.679711 -0.548059  1.506586 -0.953115  0.976185 -1.140460   \n",
       "5896  -0.574469 -0.679711 -0.111211  0.175615  1.061795  0.976185 -0.634926   \n",
       "2586   2.578820 -0.679711 -1.421754 -1.498452 -1.456842  0.976185 -1.140460   \n",
       "20485 -0.574469  0.786039  0.980908  1.335039  0.558067 -0.242474  0.628910   \n",
       "2055  -0.123999 -0.679711 -1.640177 -0.966063  1.061795 -0.242474  0.881677   \n",
       "...         ...       ...       ...       ...       ...       ...       ...   \n",
       "1739  -0.574469 -2.145461  1.308543 -1.232258 -0.449387  0.976185 -0.634926   \n",
       "10930 -0.574469 -0.679711  1.636179  0.086883 -1.456842 -0.242474  0.881677   \n",
       "6820   1.227411 -0.679711  0.325636 -0.524378 -0.449387 -1.461132  1.134444   \n",
       "22039  0.326471  0.786039  1.417755 -0.301563 -0.953115  0.976185 -0.634926   \n",
       "4463  -0.574469 -0.679711 -0.766482  0.059278  1.565522  0.976185 -0.887693   \n",
       "\n",
       "         day_62  weekday_62  \n",
       "5021  -2.853188   -0.713359  \n",
       "5896  -0.364364    1.530879  \n",
       "2586  -2.853188   -0.713359  \n",
       "20485 -0.364364    0.633184  \n",
       "2055   0.880047   -1.162206  \n",
       "...         ...         ...  \n",
       "1739  -0.364364    1.530879  \n",
       "10930  0.880047   -1.162206  \n",
       "6820  -0.364364   -1.162206  \n",
       "22039 -0.364364    1.530879  \n",
       "4463   0.880047    0.633184  \n",
       "\n",
       "[18792 rows x 84 columns]"
      ]
     },
     "execution_count": 57,
     "metadata": {},
     "output_type": "execute_result"
    }
   ],
   "source": [
    "X_train\n"
   ]
  },
  {
   "cell_type": "code",
   "execution_count": 58,
   "metadata": {},
   "outputs": [
    {
     "data": {
      "text/plain": [
       "21165    0.0\n",
       "23424    0.0\n",
       "15070    1.0\n",
       "69465    1.0\n",
       "13914    1.0\n",
       "        ... \n",
       "12339    1.0\n",
       "38663    0.0\n",
       "26092    0.0\n",
       "73910    1.0\n",
       "19669    0.0\n",
       "Name: dep_var, Length: 18792, dtype: float64"
      ]
     },
     "execution_count": 58,
     "metadata": {},
     "output_type": "execute_result"
    }
   ],
   "source": [
    "y_train"
   ]
  },
  {
   "cell_type": "markdown",
   "metadata": {},
   "source": [
    "## Построение моделей"
   ]
  },
  {
   "cell_type": "markdown",
   "metadata": {},
   "source": [
    "### Линейная регрессия"
   ]
  },
  {
   "cell_type": "markdown",
   "metadata": {},
   "source": [
    "По заданию необходимо пременить линейную регрессию. Однако для задачи классификации более подходит логистическая регрессия. Рассмотрим оба варианта."
   ]
  },
  {
   "cell_type": "code",
   "execution_count": 59,
   "metadata": {},
   "outputs": [],
   "source": [
    "from sklearn.linear_model import LinearRegression"
   ]
  },
  {
   "cell_type": "code",
   "execution_count": 60,
   "metadata": {},
   "outputs": [],
   "source": [
    "regression = LinearRegression()"
   ]
  },
  {
   "cell_type": "code",
   "execution_count": 61,
   "metadata": {
    "scrolled": true
   },
   "outputs": [
    {
     "data": {
      "text/plain": [
       "LinearRegression()"
      ]
     },
     "execution_count": 61,
     "metadata": {},
     "output_type": "execute_result"
    }
   ],
   "source": [
    "regression.fit(X_train, y_train)"
   ]
  },
  {
   "cell_type": "code",
   "execution_count": 62,
   "metadata": {},
   "outputs": [],
   "source": [
    "y_linear_pred = regression.predict(X_val)"
   ]
  },
  {
   "cell_type": "code",
   "execution_count": 63,
   "metadata": {},
   "outputs": [
    {
     "data": {
      "text/plain": [
       "count    4698.000000\n",
       "mean       -0.001494\n",
       "std         0.082653\n",
       "min        -0.505750\n",
       "25%         0.005981\n",
       "50%         0.012087\n",
       "75%         0.018073\n",
       "max         0.079598\n",
       "Name: dep_var, dtype: float64"
      ]
     },
     "execution_count": 63,
     "metadata": {},
     "output_type": "execute_result"
    }
   ],
   "source": [
    "(y_val - y_linear_pred).describe()"
   ]
  },
  {
   "cell_type": "code",
   "execution_count": 64,
   "metadata": {},
   "outputs": [
    {
     "data": {
      "text/plain": [
       "(array([1.040e+02, 2.800e+01, 1.000e+00, 0.000e+00, 0.000e+00, 0.000e+00,\n",
       "        0.000e+00, 0.000e+00, 0.000e+00, 0.000e+00, 0.000e+00, 0.000e+00,\n",
       "        0.000e+00, 0.000e+00, 0.000e+00, 1.000e+00, 4.100e+01, 3.779e+03,\n",
       "        7.400e+02, 4.000e+00]),\n",
       " array([-0.50575007, -0.47648264, -0.44721522, -0.41794779, -0.38868036,\n",
       "        -0.35941293, -0.3301455 , -0.30087808, -0.27161065, -0.24234322,\n",
       "        -0.21307579, -0.18380836, -0.15454094, -0.12527351, -0.09600608,\n",
       "        -0.06673865, -0.03747122, -0.0082038 ,  0.02106363,  0.05033106,\n",
       "         0.07959849]),\n",
       " <BarContainer object of 20 artists>)"
      ]
     },
     "execution_count": 64,
     "metadata": {},
     "output_type": "execute_result"
    },
    {
     "data": {
      "image/png": "[encoded data removed]",
      "text/plain": [
       "<Figure size 432x288 with 1 Axes>"
      ]
     },
     "metadata": {},
     "output_type": "display_data"
    }
   ],
   "source": [
    "plt.hist(y_val-y_linear_pred, bins=20,color='r')"
   ]
  },
  {
   "cell_type": "markdown",
   "metadata": {},
   "source": [
    "##### MSE"
   ]
  },
  {
   "cell_type": "code",
   "execution_count": 65,
   "metadata": {},
   "outputs": [
    {
     "name": "stdout",
     "output_type": "stream",
     "text": [
      "mse 0.006832313861268524\n",
      "sqrt(mse) 0.08265781185870168\n",
      "avg_error 0.026438559225793162\n"
     ]
    }
   ],
   "source": [
    "mse = np.mean((y_val-y_linear_pred)**2)\n",
    "print('mse', mse)\n",
    "print('sqrt(mse)', mse**0.5)\n",
    "print('avg_error', np.mean(abs(y_val-y_linear_pred)))"
   ]
  },
  {
   "cell_type": "code",
   "execution_count": 66,
   "metadata": {},
   "outputs": [
    {
     "name": "stdout",
     "output_type": "stream",
     "text": [
      "Коэффициент детерминации модели составляет: 0.9701950335876777\n"
     ]
    }
   ],
   "source": [
    "print('Коэффициент детерминации модели составляет: {}'\n",
    "      .format(regression.score(X_val, y_val)))"
   ]
  },
  {
   "cell_type": "markdown",
   "metadata": {},
   "source": [
    "Качество модели высокое, величина MSE низкая."
   ]
  },
  {
   "cell_type": "markdown",
   "metadata": {},
   "source": [
    "### Logistic regression"
   ]
  },
  {
   "cell_type": "code",
   "execution_count": 67,
   "metadata": {},
   "outputs": [],
   "source": [
    "from sklearn.linear_model import LogisticRegression"
   ]
  },
  {
   "cell_type": "code",
   "execution_count": 68,
   "metadata": {},
   "outputs": [],
   "source": [
    "clf = LogisticRegression()"
   ]
  },
  {
   "cell_type": "code",
   "execution_count": 69,
   "metadata": {},
   "outputs": [
    {
     "data": {
      "text/plain": [
       "LogisticRegression()"
      ]
     },
     "execution_count": 69,
     "metadata": {},
     "output_type": "execute_result"
    }
   ],
   "source": [
    "clf.fit(X_train, y_train)"
   ]
  },
  {
   "cell_type": "code",
   "execution_count": 70,
   "metadata": {},
   "outputs": [],
   "source": [
    "y_logist_pred = clf.predict(X_val)"
   ]
  },
  {
   "cell_type": "markdown",
   "metadata": {},
   "source": [
    "##### MSE"
   ]
  },
  {
   "cell_type": "code",
   "execution_count": 71,
   "metadata": {},
   "outputs": [
    {
     "name": "stdout",
     "output_type": "stream",
     "text": [
      "mse 0.0\n",
      "sqrt(mse) 0.0\n",
      "avg_error 0.0\n"
     ]
    }
   ],
   "source": [
    "mse_logistic = np.mean((y_val-y_logist_pred)**2)\n",
    "print('mse', mse_logistic)\n",
    "print('sqrt(mse)', mse_logistic**0.5)\n",
    "print('avg_error', np.mean(abs(y_val-y_logist_pred)))"
   ]
  },
  {
   "cell_type": "code",
   "execution_count": 72,
   "metadata": {},
   "outputs": [
    {
     "data": {
      "text/plain": [
       "(array([   0.,    0.,    0.,    0.,    0.,    0.,    0.,    0.,    0.,\n",
       "           0., 4698.,    0.,    0.,    0.,    0.,    0.,    0.,    0.,\n",
       "           0.,    0.]),\n",
       " array([-0.5 , -0.45, -0.4 , -0.35, -0.3 , -0.25, -0.2 , -0.15, -0.1 ,\n",
       "        -0.05,  0.  ,  0.05,  0.1 ,  0.15,  0.2 ,  0.25,  0.3 ,  0.35,\n",
       "         0.4 ,  0.45,  0.5 ]),\n",
       " <BarContainer object of 20 artists>)"
      ]
     },
     "execution_count": 72,
     "metadata": {},
     "output_type": "execute_result"
    },
    {
     "data": {
      "image/png": "[encoded data removed]",
      "text/plain": [
       "<Figure size 432x288 with 1 Axes>"
      ]
     },
     "metadata": {},
     "output_type": "display_data"
    }
   ],
   "source": [
    "plt.hist(y_val-y_logist_pred, bins=20)"
   ]
  },
  {
   "cell_type": "code",
   "execution_count": 73,
   "metadata": {},
   "outputs": [
    {
     "data": {
      "text/plain": [
       "1.0"
      ]
     },
     "execution_count": 73,
     "metadata": {},
     "output_type": "execute_result"
    }
   ],
   "source": [
    "clf.score(X_val, y_val)"
   ]
  },
  {
   "cell_type": "code",
   "execution_count": 74,
   "metadata": {},
   "outputs": [
    {
     "data": {
      "text/plain": [
       "{'C': 1.0,\n",
       " 'class_weight': None,\n",
       " 'dual': False,\n",
       " 'fit_intercept': True,\n",
       " 'intercept_scaling': 1,\n",
       " 'l1_ratio': None,\n",
       " 'max_iter': 100,\n",
       " 'multi_class': 'auto',\n",
       " 'n_jobs': None,\n",
       " 'penalty': 'l2',\n",
       " 'random_state': None,\n",
       " 'solver': 'lbfgs',\n",
       " 'tol': 0.0001,\n",
       " 'verbose': 0,\n",
       " 'warm_start': False}"
      ]
     },
     "execution_count": 74,
     "metadata": {},
     "output_type": "execute_result"
    }
   ],
   "source": [
    "clf.get_params()"
   ]
  },
  {
   "cell_type": "code",
   "execution_count": 75,
   "metadata": {},
   "outputs": [],
   "source": [
    "from sklearn.model_selection import GridSearchCV"
   ]
  },
  {
   "cell_type": "code",
   "execution_count": 76,
   "metadata": {},
   "outputs": [],
   "source": [
    "C = np.arange(1, 10, 1)\n",
    "max_iter = np.arange(100, 500, 50)\n",
    "#penalty = ['l2', 'none']\n",
    "grid = {'C': C, 'max_iter': max_iter}\n",
    "gridsearch = GridSearchCV(LogisticRegression(), grid, scoring='roc_auc', cv=4)"
   ]
  },
  {
   "cell_type": "code",
   "execution_count": 77,
   "metadata": {},
   "outputs": [
    {
     "name": "stdout",
     "output_type": "stream",
     "text": [
      "CPU times: user 2min 23s, sys: 2min 31s, total: 4min 54s\n",
      "Wall time: 36.9 s\n"
     ]
    },
    {
     "data": {
      "text/plain": [
       "GridSearchCV(cv=4, estimator=LogisticRegression(),\n",
       "             param_grid={'C': array([1, 2, 3, 4, 5, 6, 7, 8, 9]),\n",
       "                         'max_iter': array([100, 150, 200, 250, 300, 350, 400, 450])},\n",
       "             scoring='roc_auc')"
      ]
     },
     "execution_count": 77,
     "metadata": {},
     "output_type": "execute_result"
    }
   ],
   "source": [
    "%%time\n",
    "gridsearch.fit(X_train, y_train)"
   ]
  },
  {
   "cell_type": "code",
   "execution_count": 78,
   "metadata": {},
   "outputs": [
    {
     "data": {
      "text/plain": [
       "{'C': 1, 'max_iter': 100}"
      ]
     },
     "execution_count": 78,
     "metadata": {},
     "output_type": "execute_result"
    }
   ],
   "source": [
    "best_param = gridsearch.best_params_\n",
    "best_param"
   ]
  },
  {
   "cell_type": "markdown",
   "metadata": {},
   "source": [
    "#### Итоговая модель"
   ]
  },
  {
   "cell_type": "code",
   "execution_count": 79,
   "metadata": {},
   "outputs": [],
   "source": [
    "clf_final = LogisticRegression(C = best_param.get('C'), max_iter = best_param.get('max_iter'))"
   ]
  },
  {
   "cell_type": "markdown",
   "metadata": {},
   "source": [
    "По сути подбор гиперпараметров в данной ситуации не нужен. Дефолтные настройки справляются. Модель безошибочно справиласть с тестовой выборкой."
   ]
  },
  {
   "cell_type": "markdown",
   "metadata": {},
   "source": [
    "### MLP Classificator"
   ]
  },
  {
   "cell_type": "markdown",
   "metadata": {},
   "source": [
    "Постороение сложной модели в данном случае не требуется. Однако опробуем методы DL. Будем использовать deep learning классификатор из библиотеки sklearn."
   ]
  },
  {
   "cell_type": "code",
   "execution_count": 80,
   "metadata": {},
   "outputs": [],
   "source": [
    "from sklearn.neural_network import MLPClassifier"
   ]
  },
  {
   "cell_type": "code",
   "execution_count": 81,
   "metadata": {},
   "outputs": [],
   "source": [
    "DL_clf = MLPClassifier()"
   ]
  },
  {
   "cell_type": "code",
   "execution_count": 82,
   "metadata": {},
   "outputs": [
    {
     "data": {
      "text/plain": [
       "MLPClassifier()"
      ]
     },
     "execution_count": 82,
     "metadata": {},
     "output_type": "execute_result"
    }
   ],
   "source": [
    "DL_clf.fit(X_train, y_train)"
   ]
  },
  {
   "cell_type": "code",
   "execution_count": 83,
   "metadata": {},
   "outputs": [],
   "source": [
    "y_DL = DL_clf.predict(X_val)"
   ]
  },
  {
   "cell_type": "markdown",
   "metadata": {},
   "source": [
    "#### MSE"
   ]
  },
  {
   "cell_type": "code",
   "execution_count": 84,
   "metadata": {},
   "outputs": [
    {
     "name": "stdout",
     "output_type": "stream",
     "text": [
      "mse 0.0006385696040868455\n",
      "sqrt(mse) 0.025269934785963448\n",
      "avg_error 0.0006385696040868455\n"
     ]
    }
   ],
   "source": [
    "mse_DL = np.mean((y_val-y_DL)**2)\n",
    "print('mse', mse_DL)\n",
    "print('sqrt(mse)', mse_DL**0.5)\n",
    "print('avg_error', np.mean(abs(y_val-y_DL)))"
   ]
  },
  {
   "cell_type": "code",
   "execution_count": 85,
   "metadata": {},
   "outputs": [
    {
     "data": {
      "text/plain": [
       "0.9993614303959132"
      ]
     },
     "execution_count": 85,
     "metadata": {},
     "output_type": "execute_result"
    }
   ],
   "source": [
    "DL_clf.score(X_val, y_val)"
   ]
  },
  {
   "cell_type": "code",
   "execution_count": 86,
   "metadata": {},
   "outputs": [
    {
     "data": {
      "text/plain": [
       "{'activation': 'relu',\n",
       " 'alpha': 0.0001,\n",
       " 'batch_size': 'auto',\n",
       " 'beta_1': 0.9,\n",
       " 'beta_2': 0.999,\n",
       " 'early_stopping': False,\n",
       " 'epsilon': 1e-08,\n",
       " 'hidden_layer_sizes': (100,),\n",
       " 'learning_rate': 'constant',\n",
       " 'learning_rate_init': 0.001,\n",
       " 'max_fun': 15000,\n",
       " 'max_iter': 200,\n",
       " 'momentum': 0.9,\n",
       " 'n_iter_no_change': 10,\n",
       " 'nesterovs_momentum': True,\n",
       " 'power_t': 0.5,\n",
       " 'random_state': None,\n",
       " 'shuffle': True,\n",
       " 'solver': 'adam',\n",
       " 'tol': 0.0001,\n",
       " 'validation_fraction': 0.1,\n",
       " 'verbose': False,\n",
       " 'warm_start': False}"
      ]
     },
     "execution_count": 86,
     "metadata": {},
     "output_type": "execute_result"
    }
   ],
   "source": [
    "DL_clf.get_params()"
   ]
  },
  {
   "cell_type": "code",
   "execution_count": 87,
   "metadata": {},
   "outputs": [
    {
     "data": {
      "text/plain": [
       "array([0., 0., 0., ..., 0., 0., 1.])"
      ]
     },
     "execution_count": 87,
     "metadata": {},
     "output_type": "execute_result"
    }
   ],
   "source": [
    "y_DL"
   ]
  },
  {
   "cell_type": "markdown",
   "metadata": {},
   "source": [
    "При необходимости можно было бы заняться подбором гиперпараметров для классификатора."
   ]
  },
  {
   "cell_type": "markdown",
   "metadata": {},
   "source": [
    "### В чем причина такого результата?"
   ]
  },
  {
   "cell_type": "code",
   "execution_count": 88,
   "metadata": {},
   "outputs": [
    {
     "data": {
      "text/plain": [
       "test_cr_performance   -0.986194\n",
       "var13                 -0.156933\n",
       "account_id            -0.146737\n",
       "var15                 -0.143967\n",
       "var12                 -0.137217\n",
       "                         ...   \n",
       "var37                  0.111726\n",
       "var116                 0.126629\n",
       "var151                 0.151506\n",
       "var153                 0.187756\n",
       "client_id              0.193781\n",
       "Name: dep_var, Length: 84, dtype: float64"
      ]
     },
     "execution_count": 88,
     "metadata": {},
     "output_type": "execute_result"
    }
   ],
   "source": [
    "(df_drop_wight.corr().dep_var[df_drop_wight.corr().dep_var < 1]\n",
    " .sort_values(ascending=True))"
   ]
  },
  {
   "cell_type": "code",
   "execution_count": 89,
   "metadata": {},
   "outputs": [
    {
     "data": {
      "text/plain": [
       "client_id              0.193781\n",
       "var153                 0.187756\n",
       "var151                 0.151506\n",
       "var116                 0.126629\n",
       "var37                  0.111726\n",
       "                         ...   \n",
       "var12                 -0.137217\n",
       "var15                 -0.143967\n",
       "account_id            -0.146737\n",
       "var13                 -0.156933\n",
       "test_cr_performance   -0.986194\n",
       "Name: dep_var, Length: 84, dtype: float64"
      ]
     },
     "execution_count": 89,
     "metadata": {},
     "output_type": "execute_result"
    }
   ],
   "source": [
    "(df_drop_wight.corr().dep_var[df_drop_wight.corr().dep_var < 1]\n",
    " .sort_values(ascending=False))"
   ]
  },
  {
   "cell_type": "markdown",
   "metadata": {},
   "source": [
    "Дело в корреляции между одной из перменных выборки и целевой переменной. Параметр 'test_cr_performance' имеет очень высокую корреляцию с целевой переменной (-0,99). Посмотрим ниже, какой результат будет, если 'test_cr_performance' исключить из тренировочной и тестовой выборки."
   ]
  },
  {
   "cell_type": "code",
   "execution_count": 90,
   "metadata": {},
   "outputs": [],
   "source": [
    "xx_tr = X_train.drop(columns='test_cr_performance', axis=1)\n",
    "xx_test = X_val.drop(columns='test_cr_performance', axis=1)"
   ]
  },
  {
   "cell_type": "code",
   "execution_count": 91,
   "metadata": {},
   "outputs": [],
   "source": [
    "clf_test = LogisticRegression(max_iter=300, C=1)"
   ]
  },
  {
   "cell_type": "code",
   "execution_count": 92,
   "metadata": {},
   "outputs": [
    {
     "data": {
      "text/plain": [
       "LogisticRegression(C=1, max_iter=300)"
      ]
     },
     "execution_count": 92,
     "metadata": {},
     "output_type": "execute_result"
    }
   ],
   "source": [
    "clf_test.fit(xx_tr, y_train)"
   ]
  },
  {
   "cell_type": "code",
   "execution_count": 93,
   "metadata": {},
   "outputs": [],
   "source": [
    "y_logist_pred_2 = clf_test.predict(xx_test)"
   ]
  },
  {
   "cell_type": "code",
   "execution_count": 94,
   "metadata": {},
   "outputs": [
    {
     "name": "stdout",
     "output_type": "stream",
     "text": [
      "accuracy = 0.6470838654746701\n"
     ]
    }
   ],
   "source": [
    "print('accuracy = {}'.format(clf_test.score(xx_test, y_val)))"
   ]
  },
  {
   "cell_type": "code",
   "execution_count": 95,
   "metadata": {},
   "outputs": [
    {
     "name": "stdout",
     "output_type": "stream",
     "text": [
      "mse 0.35291613452532994\n",
      "sqrt(mse) 0.5940674494746618\n",
      "avg_error 0.35291613452532994\n"
     ]
    }
   ],
   "source": [
    "mse_logistic_test = np.mean((y_val-y_logist_pred_2)**2)\n",
    "print('mse', mse_logistic_test)\n",
    "print('sqrt(mse)', mse_logistic_test**0.5)\n",
    "print('avg_error', np.mean(abs(y_val-y_logist_pred_2)))"
   ]
  },
  {
   "cell_type": "markdown",
   "metadata": {},
   "source": [
    "Видно, насколько снижается accuracy, и увеличивается MSE для такой модели."
   ]
  },
  {
   "cell_type": "code",
   "execution_count": 96,
   "metadata": {},
   "outputs": [
    {
     "name": "stdout",
     "output_type": "stream",
     "text": [
      "MSE увеличивается на 0.35\n",
      "\n"
     ]
    }
   ],
   "source": [
    "print('MSE увеличивается на {}\\n'\n",
    "     .format(round((mse_logistic_test - mse_logistic), 2)))"
   ]
  },
  {
   "cell_type": "markdown",
   "metadata": {},
   "source": [
    "## Вывод"
   ]
  },
  {
   "cell_type": "markdown",
   "metadata": {},
   "source": [
    "Получена модель на основе логистической регрессии, которая прогнозирует целевую переменную с высокой точностью.\n"
   ]
  }
 ],
 "metadata": {
  "kernelspec": {
   "display_name": "Python 3",
   "language": "python",
   "name": "python3"
  },
  "language_info": {
   "codemirror_mode": {
    "name": "ipython",
    "version": 3
   },
   "file_extension": ".py",
   "mimetype": "text/x-python",
   "name": "python",
   "nbconvert_exporter": "python",
   "pygments_lexer": "ipython3",
   "version": "3.8.6"
  }
 },
 "nbformat": 4,
 "nbformat_minor": 4
}
